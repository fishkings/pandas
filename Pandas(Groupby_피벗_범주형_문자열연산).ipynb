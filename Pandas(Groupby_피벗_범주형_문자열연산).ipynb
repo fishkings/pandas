{
 "cells": [
  {
   "cell_type": "code",
   "execution_count": 1,
   "id": "9f4e6112",
   "metadata": {
    "ExecuteTime": {
     "end_time": "2023-05-03T05:18:00.686216Z",
     "start_time": "2023-05-03T05:17:56.668981Z"
    },
    "scrolled": true
   },
   "outputs": [
    {
     "data": {
      "text/plain": [
       "'1.5.2'"
      ]
     },
     "execution_count": 1,
     "metadata": {},
     "output_type": "execute_result"
    }
   ],
   "source": [
    "import pandas as pd\n",
    "import numpy as np\n",
    "pd.__version__"
   ]
  },
  {
   "cell_type": "markdown",
   "id": "15cfd8d1",
   "metadata": {},
   "source": [
    "# 데이터 집계와 그룹 연산"
   ]
  },
  {
   "cell_type": "markdown",
   "id": "529e77ee",
   "metadata": {},
   "source": [
    "| 집계 | 설명 |\n",
    "|------|------|\n",
    "|`count`|전체 개수|\n",
    "|`head,tail`|앞의 항목 일부 반환, 뒤의 항목 일부 반환|\n",
    "|`describe`|Series,DataFrame의 각 컬럼에 대한 요약 통계|\n",
    "|`min,max`|최소값,최대값|\n",
    "|`cummin,cummax`|누적 최소값,누적 최대값|\n",
    "|`argmin,argmax`|최소값과 최대값의 색인 위치|\n",
    "|`idxmin,idxmax`|최소값과 최대값의 색인값|\n",
    "|`mean,median`|평균값, 중앙값|\n",
    "|`std,var`|표준편차, 분산|\n",
    "|`skew`|왜도값 계산|\n",
    "|`kurt`|첨도값 계산|\n",
    "|`mad`|절대 평균 편차|\n",
    "|`sum,cumsum`|전체 항목 합, 누적합|\n",
    "|`prod, cumprod`|전체 항목 곱, 누적곱|\n",
    "|`quantile`|0부터 1까지의 분위수 계산|\n",
    "|`diff`|1차 산술차 계산|\n",
    "|`pct_change`|퍼센트 변화율 계산|\n",
    "|`corr,cov`|상관관계,공분산 계산|"
   ]
  },
  {
   "cell_type": "code",
   "execution_count": 2,
   "id": "6cd8a639",
   "metadata": {
    "ExecuteTime": {
     "end_time": "2023-05-03T05:18:00.731218Z",
     "start_time": "2023-05-03T05:18:00.690215Z"
    }
   },
   "outputs": [
    {
     "data": {
      "text/html": [
       "<div>\n",
       "<style scoped>\n",
       "    .dataframe tbody tr th:only-of-type {\n",
       "        vertical-align: middle;\n",
       "    }\n",
       "\n",
       "    .dataframe tbody tr th {\n",
       "        vertical-align: top;\n",
       "    }\n",
       "\n",
       "    .dataframe thead th {\n",
       "        text-align: right;\n",
       "    }\n",
       "</style>\n",
       "<table border=\"1\" class=\"dataframe\">\n",
       "  <thead>\n",
       "    <tr style=\"text-align: right;\">\n",
       "      <th></th>\n",
       "      <th>A</th>\n",
       "      <th>B</th>\n",
       "      <th>C</th>\n",
       "    </tr>\n",
       "  </thead>\n",
       "  <tbody>\n",
       "    <tr>\n",
       "      <th>1</th>\n",
       "      <td>1.00</td>\n",
       "      <td>1.2</td>\n",
       "      <td>NaN</td>\n",
       "    </tr>\n",
       "    <tr>\n",
       "      <th>2</th>\n",
       "      <td>2.40</td>\n",
       "      <td>-5.5</td>\n",
       "      <td>4.2</td>\n",
       "    </tr>\n",
       "    <tr>\n",
       "      <th>3</th>\n",
       "      <td>NaN</td>\n",
       "      <td>NaN</td>\n",
       "      <td>NaN</td>\n",
       "    </tr>\n",
       "    <tr>\n",
       "      <th>4</th>\n",
       "      <td>0.44</td>\n",
       "      <td>-3.1</td>\n",
       "      <td>-4.1</td>\n",
       "    </tr>\n",
       "  </tbody>\n",
       "</table>\n",
       "</div>"
      ],
      "text/plain": [
       "      A    B    C\n",
       "1  1.00  1.2  NaN\n",
       "2  2.40 -5.5  4.2\n",
       "3   NaN  NaN  NaN\n",
       "4  0.44 -3.1 -4.1"
      ]
     },
     "execution_count": 2,
     "metadata": {},
     "output_type": "execute_result"
    }
   ],
   "source": [
    "df = pd.DataFrame([[1,1.2,np.nan],\n",
    "                  [2.4,-5.5,4.2],\n",
    "                  [np.nan,np.nan,np.nan],\n",
    "                  [0.44,-3.1,-4.1]],\n",
    "                 index=[1,2,3,4],\n",
    "                 columns=['A','B','C']) \n",
    "df"
   ]
  },
  {
   "cell_type": "code",
   "execution_count": 3,
   "id": "cfeece69",
   "metadata": {
    "ExecuteTime": {
     "end_time": "2023-05-03T05:18:00.761201Z",
     "start_time": "2023-05-03T05:18:00.734217Z"
    }
   },
   "outputs": [
    {
     "data": {
      "text/html": [
       "<div>\n",
       "<style scoped>\n",
       "    .dataframe tbody tr th:only-of-type {\n",
       "        vertical-align: middle;\n",
       "    }\n",
       "\n",
       "    .dataframe tbody tr th {\n",
       "        vertical-align: top;\n",
       "    }\n",
       "\n",
       "    .dataframe thead th {\n",
       "        text-align: right;\n",
       "    }\n",
       "</style>\n",
       "<table border=\"1\" class=\"dataframe\">\n",
       "  <thead>\n",
       "    <tr style=\"text-align: right;\">\n",
       "      <th></th>\n",
       "      <th>A</th>\n",
       "      <th>B</th>\n",
       "      <th>C</th>\n",
       "    </tr>\n",
       "  </thead>\n",
       "  <tbody>\n",
       "    <tr>\n",
       "      <th>count</th>\n",
       "      <td>3.000000</td>\n",
       "      <td>3.000000</td>\n",
       "      <td>2.000000</td>\n",
       "    </tr>\n",
       "    <tr>\n",
       "      <th>mean</th>\n",
       "      <td>1.280000</td>\n",
       "      <td>-2.466667</td>\n",
       "      <td>0.050000</td>\n",
       "    </tr>\n",
       "    <tr>\n",
       "      <th>std</th>\n",
       "      <td>1.009554</td>\n",
       "      <td>3.394604</td>\n",
       "      <td>5.868986</td>\n",
       "    </tr>\n",
       "    <tr>\n",
       "      <th>min</th>\n",
       "      <td>0.440000</td>\n",
       "      <td>-5.500000</td>\n",
       "      <td>-4.100000</td>\n",
       "    </tr>\n",
       "    <tr>\n",
       "      <th>25%</th>\n",
       "      <td>0.720000</td>\n",
       "      <td>-4.300000</td>\n",
       "      <td>-2.025000</td>\n",
       "    </tr>\n",
       "    <tr>\n",
       "      <th>50%</th>\n",
       "      <td>1.000000</td>\n",
       "      <td>-3.100000</td>\n",
       "      <td>0.050000</td>\n",
       "    </tr>\n",
       "    <tr>\n",
       "      <th>75%</th>\n",
       "      <td>1.700000</td>\n",
       "      <td>-0.950000</td>\n",
       "      <td>2.125000</td>\n",
       "    </tr>\n",
       "    <tr>\n",
       "      <th>max</th>\n",
       "      <td>2.400000</td>\n",
       "      <td>1.200000</td>\n",
       "      <td>4.200000</td>\n",
       "    </tr>\n",
       "  </tbody>\n",
       "</table>\n",
       "</div>"
      ],
      "text/plain": [
       "              A         B         C\n",
       "count  3.000000  3.000000  2.000000\n",
       "mean   1.280000 -2.466667  0.050000\n",
       "std    1.009554  3.394604  5.868986\n",
       "min    0.440000 -5.500000 -4.100000\n",
       "25%    0.720000 -4.300000 -2.025000\n",
       "50%    1.000000 -3.100000  0.050000\n",
       "75%    1.700000 -0.950000  2.125000\n",
       "max    2.400000  1.200000  4.200000"
      ]
     },
     "execution_count": 3,
     "metadata": {},
     "output_type": "execute_result"
    }
   ],
   "source": [
    "df.describe()"
   ]
  },
  {
   "cell_type": "code",
   "execution_count": 4,
   "id": "44111b56",
   "metadata": {
    "ExecuteTime": {
     "end_time": "2023-05-03T05:18:00.792182Z",
     "start_time": "2023-05-03T05:18:00.765198Z"
    }
   },
   "outputs": [
    {
     "name": "stdout",
     "output_type": "stream",
     "text": [
      "A    2\n",
      "B    1\n",
      "C    2\n",
      "dtype: int64\n",
      "A    4\n",
      "B    2\n",
      "C    4\n",
      "dtype: int64\n"
     ]
    }
   ],
   "source": [
    "print(df.idxmax())\n",
    "print(df.idxmin())"
   ]
  },
  {
   "cell_type": "code",
   "execution_count": 5,
   "id": "c1b9a0e4",
   "metadata": {
    "ExecuteTime": {
     "end_time": "2023-05-03T05:18:00.807172Z",
     "start_time": "2023-05-03T05:18:00.795179Z"
    }
   },
   "outputs": [
    {
     "name": "stdout",
     "output_type": "stream",
     "text": [
      "A    1.009554\n",
      "B    3.394604\n",
      "C    5.868986\n",
      "dtype: float64\n",
      "\n",
      " A    1.280000\n",
      "B   -2.466667\n",
      "C    0.050000\n",
      "dtype: float64\n",
      "\n",
      " A     1.019200\n",
      "B    11.523333\n",
      "C    34.445000\n",
      "dtype: float64\n"
     ]
    }
   ],
   "source": [
    "print(df.std())\n",
    "print(\"\\n\" , df.mean())\n",
    "print(\"\\n\" , df.var())"
   ]
  },
  {
   "cell_type": "code",
   "execution_count": 6,
   "id": "554ac459",
   "metadata": {
    "ExecuteTime": {
     "end_time": "2023-05-03T05:18:00.822161Z",
     "start_time": "2023-05-03T05:18:00.809170Z"
    }
   },
   "outputs": [
    {
     "name": "stdout",
     "output_type": "stream",
     "text": [
      "A    1.152070\n",
      "B    0.810344\n",
      "C         NaN\n",
      "dtype: float64\n",
      "\n",
      " A   NaN\n",
      "B   NaN\n",
      "C   NaN\n",
      "dtype: float64\n"
     ]
    }
   ],
   "source": [
    "print(df.skew())\n",
    "print(\"\\n\", df.kurt())"
   ]
  },
  {
   "cell_type": "code",
   "execution_count": 7,
   "id": "166ab69c",
   "metadata": {
    "ExecuteTime": {
     "end_time": "2023-05-03T05:18:00.852146Z",
     "start_time": "2023-05-03T05:18:00.826161Z"
    }
   },
   "outputs": [
    {
     "name": "stdout",
     "output_type": "stream",
     "text": [
      "A    3.84\n",
      "B   -7.40\n",
      "C    0.10\n",
      "dtype: float64\n",
      "\n",
      "       A    B    C\n",
      "1  1.00  1.2  NaN\n",
      "2  3.40 -4.3  4.2\n",
      "3   NaN  NaN  NaN\n",
      "4  3.84 -7.4  0.1\n"
     ]
    }
   ],
   "source": [
    "print(df.sum())\n",
    "print(\"\\n\" , df.cumsum())"
   ]
  },
  {
   "cell_type": "code",
   "execution_count": 8,
   "id": "02ee9350",
   "metadata": {
    "ExecuteTime": {
     "end_time": "2023-05-03T05:18:00.884123Z",
     "start_time": "2023-05-03T05:18:00.856142Z"
    }
   },
   "outputs": [
    {
     "name": "stdout",
     "output_type": "stream",
     "text": [
      "A    3.84\n",
      "B   -7.40\n",
      "C    0.10\n",
      "dtype: float64\n",
      "\n",
      "       A    B    C\n",
      "1  1.00  1.2  NaN\n",
      "2  3.40 -4.3  4.2\n",
      "3   NaN  NaN  NaN\n",
      "4  3.84 -7.4  0.1\n"
     ]
    }
   ],
   "source": [
    "print(df.sum())\n",
    "print(\"\\n\" , df.cumsum())"
   ]
  },
  {
   "cell_type": "code",
   "execution_count": 9,
   "id": "3f6a3fe1",
   "metadata": {
    "ExecuteTime": {
     "end_time": "2023-05-03T05:18:00.899116Z",
     "start_time": "2023-05-03T05:18:00.887122Z"
    }
   },
   "outputs": [
    {
     "name": "stdout",
     "output_type": "stream",
     "text": [
      "A     1.056\n",
      "B    20.460\n",
      "C   -17.220\n",
      "dtype: float64\n",
      "\n",
      "        A      B      C\n",
      "1  1.000   1.20    NaN\n",
      "2  2.400  -6.60   4.20\n",
      "3    NaN    NaN    NaN\n",
      "4  1.056  20.46 -17.22\n"
     ]
    }
   ],
   "source": [
    "print(df.prod())\n",
    "print(\"\\n\" , df.cumprod())"
   ]
  },
  {
   "cell_type": "code",
   "execution_count": 10,
   "id": "d5f0a8bd",
   "metadata": {
    "ExecuteTime": {
     "end_time": "2023-05-03T05:18:00.929096Z",
     "start_time": "2023-05-03T05:18:00.905111Z"
    }
   },
   "outputs": [
    {
     "data": {
      "text/html": [
       "<div>\n",
       "<style scoped>\n",
       "    .dataframe tbody tr th:only-of-type {\n",
       "        vertical-align: middle;\n",
       "    }\n",
       "\n",
       "    .dataframe tbody tr th {\n",
       "        vertical-align: top;\n",
       "    }\n",
       "\n",
       "    .dataframe thead th {\n",
       "        text-align: right;\n",
       "    }\n",
       "</style>\n",
       "<table border=\"1\" class=\"dataframe\">\n",
       "  <thead>\n",
       "    <tr style=\"text-align: right;\">\n",
       "      <th></th>\n",
       "      <th>A</th>\n",
       "      <th>B</th>\n",
       "      <th>C</th>\n",
       "    </tr>\n",
       "  </thead>\n",
       "  <tbody>\n",
       "    <tr>\n",
       "      <th>1</th>\n",
       "      <td>NaN</td>\n",
       "      <td>NaN</td>\n",
       "      <td>NaN</td>\n",
       "    </tr>\n",
       "    <tr>\n",
       "      <th>2</th>\n",
       "      <td>1.4</td>\n",
       "      <td>-6.7</td>\n",
       "      <td>NaN</td>\n",
       "    </tr>\n",
       "    <tr>\n",
       "      <th>3</th>\n",
       "      <td>NaN</td>\n",
       "      <td>NaN</td>\n",
       "      <td>NaN</td>\n",
       "    </tr>\n",
       "    <tr>\n",
       "      <th>4</th>\n",
       "      <td>NaN</td>\n",
       "      <td>NaN</td>\n",
       "      <td>NaN</td>\n",
       "    </tr>\n",
       "  </tbody>\n",
       "</table>\n",
       "</div>"
      ],
      "text/plain": [
       "     A    B   C\n",
       "1  NaN  NaN NaN\n",
       "2  1.4 -6.7 NaN\n",
       "3  NaN  NaN NaN\n",
       "4  NaN  NaN NaN"
      ]
     },
     "execution_count": 10,
     "metadata": {},
     "output_type": "execute_result"
    }
   ],
   "source": [
    "df.diff()  # 빼기"
   ]
  },
  {
   "cell_type": "code",
   "execution_count": 11,
   "id": "1872be37",
   "metadata": {
    "ExecuteTime": {
     "end_time": "2023-05-03T05:18:00.944086Z",
     "start_time": "2023-05-03T05:18:00.932094Z"
    }
   },
   "outputs": [
    {
     "data": {
      "text/plain": [
       "A    1.00\n",
       "B   -3.10\n",
       "C    0.05\n",
       "Name: 0.5, dtype: float64"
      ]
     },
     "execution_count": 11,
     "metadata": {},
     "output_type": "execute_result"
    }
   ],
   "source": [
    "df.quantile()"
   ]
  },
  {
   "cell_type": "code",
   "execution_count": 12,
   "id": "4ae513b0",
   "metadata": {
    "ExecuteTime": {
     "end_time": "2023-05-03T05:18:00.975070Z",
     "start_time": "2023-05-03T05:18:00.947084Z"
    }
   },
   "outputs": [
    {
     "data": {
      "text/html": [
       "<div>\n",
       "<style scoped>\n",
       "    .dataframe tbody tr th:only-of-type {\n",
       "        vertical-align: middle;\n",
       "    }\n",
       "\n",
       "    .dataframe tbody tr th {\n",
       "        vertical-align: top;\n",
       "    }\n",
       "\n",
       "    .dataframe thead th {\n",
       "        text-align: right;\n",
       "    }\n",
       "</style>\n",
       "<table border=\"1\" class=\"dataframe\">\n",
       "  <thead>\n",
       "    <tr style=\"text-align: right;\">\n",
       "      <th></th>\n",
       "      <th>A</th>\n",
       "      <th>B</th>\n",
       "      <th>C</th>\n",
       "    </tr>\n",
       "  </thead>\n",
       "  <tbody>\n",
       "    <tr>\n",
       "      <th>1</th>\n",
       "      <td>NaN</td>\n",
       "      <td>NaN</td>\n",
       "      <td>NaN</td>\n",
       "    </tr>\n",
       "    <tr>\n",
       "      <th>2</th>\n",
       "      <td>1.400000</td>\n",
       "      <td>-5.583333</td>\n",
       "      <td>NaN</td>\n",
       "    </tr>\n",
       "    <tr>\n",
       "      <th>3</th>\n",
       "      <td>0.000000</td>\n",
       "      <td>0.000000</td>\n",
       "      <td>0.00000</td>\n",
       "    </tr>\n",
       "    <tr>\n",
       "      <th>4</th>\n",
       "      <td>-0.816667</td>\n",
       "      <td>-0.436364</td>\n",
       "      <td>-1.97619</td>\n",
       "    </tr>\n",
       "  </tbody>\n",
       "</table>\n",
       "</div>"
      ],
      "text/plain": [
       "          A         B        C\n",
       "1       NaN       NaN      NaN\n",
       "2  1.400000 -5.583333      NaN\n",
       "3  0.000000  0.000000  0.00000\n",
       "4 -0.816667 -0.436364 -1.97619"
      ]
     },
     "execution_count": 12,
     "metadata": {},
     "output_type": "execute_result"
    }
   ],
   "source": [
    "df.pct_change()"
   ]
  },
  {
   "cell_type": "code",
   "execution_count": 13,
   "id": "458650f1",
   "metadata": {
    "ExecuteTime": {
     "end_time": "2023-05-03T05:18:00.991057Z",
     "start_time": "2023-05-03T05:18:00.978065Z"
    }
   },
   "outputs": [
    {
     "data": {
      "text/html": [
       "<div>\n",
       "<style scoped>\n",
       "    .dataframe tbody tr th:only-of-type {\n",
       "        vertical-align: middle;\n",
       "    }\n",
       "\n",
       "    .dataframe tbody tr th {\n",
       "        vertical-align: top;\n",
       "    }\n",
       "\n",
       "    .dataframe thead th {\n",
       "        text-align: right;\n",
       "    }\n",
       "</style>\n",
       "<table border=\"1\" class=\"dataframe\">\n",
       "  <thead>\n",
       "    <tr style=\"text-align: right;\">\n",
       "      <th></th>\n",
       "      <th>A</th>\n",
       "      <th>B</th>\n",
       "      <th>C</th>\n",
       "    </tr>\n",
       "  </thead>\n",
       "  <tbody>\n",
       "    <tr>\n",
       "      <th>A</th>\n",
       "      <td>1.000000</td>\n",
       "      <td>-0.567837</td>\n",
       "      <td>1.0</td>\n",
       "    </tr>\n",
       "    <tr>\n",
       "      <th>B</th>\n",
       "      <td>-0.567837</td>\n",
       "      <td>1.000000</td>\n",
       "      <td>-1.0</td>\n",
       "    </tr>\n",
       "    <tr>\n",
       "      <th>C</th>\n",
       "      <td>1.000000</td>\n",
       "      <td>-1.000000</td>\n",
       "      <td>1.0</td>\n",
       "    </tr>\n",
       "  </tbody>\n",
       "</table>\n",
       "</div>"
      ],
      "text/plain": [
       "          A         B    C\n",
       "A  1.000000 -0.567837  1.0\n",
       "B -0.567837  1.000000 -1.0\n",
       "C  1.000000 -1.000000  1.0"
      ]
     },
     "execution_count": 13,
     "metadata": {},
     "output_type": "execute_result"
    }
   ],
   "source": [
    "df.corr()"
   ]
  },
  {
   "cell_type": "code",
   "execution_count": 14,
   "id": "dac45c5a",
   "metadata": {
    "ExecuteTime": {
     "end_time": "2023-05-03T05:18:01.021058Z",
     "start_time": "2023-05-03T05:18:00.994056Z"
    }
   },
   "outputs": [
    {
     "data": {
      "text/plain": [
       "A   -0.567837\n",
       "B    1.000000\n",
       "C   -1.000000\n",
       "dtype: float64"
      ]
     },
     "execution_count": 14,
     "metadata": {},
     "output_type": "execute_result"
    }
   ],
   "source": [
    "df.corrwith(df.B)"
   ]
  },
  {
   "cell_type": "code",
   "execution_count": 15,
   "id": "a5b6b00f",
   "metadata": {
    "ExecuteTime": {
     "end_time": "2023-05-03T05:18:01.051056Z",
     "start_time": "2023-05-03T05:18:01.024056Z"
    }
   },
   "outputs": [
    {
     "data": {
      "text/html": [
       "<div>\n",
       "<style scoped>\n",
       "    .dataframe tbody tr th:only-of-type {\n",
       "        vertical-align: middle;\n",
       "    }\n",
       "\n",
       "    .dataframe tbody tr th {\n",
       "        vertical-align: top;\n",
       "    }\n",
       "\n",
       "    .dataframe thead th {\n",
       "        text-align: right;\n",
       "    }\n",
       "</style>\n",
       "<table border=\"1\" class=\"dataframe\">\n",
       "  <thead>\n",
       "    <tr style=\"text-align: right;\">\n",
       "      <th></th>\n",
       "      <th>A</th>\n",
       "      <th>B</th>\n",
       "      <th>C</th>\n",
       "    </tr>\n",
       "  </thead>\n",
       "  <tbody>\n",
       "    <tr>\n",
       "      <th>A</th>\n",
       "      <td>1.0192</td>\n",
       "      <td>-1.946000</td>\n",
       "      <td>8.134</td>\n",
       "    </tr>\n",
       "    <tr>\n",
       "      <th>B</th>\n",
       "      <td>-1.9460</td>\n",
       "      <td>11.523333</td>\n",
       "      <td>-9.960</td>\n",
       "    </tr>\n",
       "    <tr>\n",
       "      <th>C</th>\n",
       "      <td>8.1340</td>\n",
       "      <td>-9.960000</td>\n",
       "      <td>34.445</td>\n",
       "    </tr>\n",
       "  </tbody>\n",
       "</table>\n",
       "</div>"
      ],
      "text/plain": [
       "        A          B       C\n",
       "A  1.0192  -1.946000   8.134\n",
       "B -1.9460  11.523333  -9.960\n",
       "C  8.1340  -9.960000  34.445"
      ]
     },
     "execution_count": 15,
     "metadata": {},
     "output_type": "execute_result"
    }
   ],
   "source": [
    "df.cov()"
   ]
  },
  {
   "cell_type": "code",
   "execution_count": 16,
   "id": "4f1f6abb",
   "metadata": {
    "ExecuteTime": {
     "end_time": "2023-05-03T05:18:01.066049Z",
     "start_time": "2023-05-03T05:18:01.055054Z"
    }
   },
   "outputs": [
    {
     "data": {
      "text/plain": [
       "array([ 1.2, -5.5,  nan, -3.1])"
      ]
     },
     "execution_count": 16,
     "metadata": {},
     "output_type": "execute_result"
    }
   ],
   "source": [
    "df['B'].unique()"
   ]
  },
  {
   "cell_type": "code",
   "execution_count": 17,
   "id": "163e8c0f",
   "metadata": {
    "ExecuteTime": {
     "end_time": "2023-05-03T05:18:01.096030Z",
     "start_time": "2023-05-03T05:18:01.070045Z"
    }
   },
   "outputs": [
    {
     "data": {
      "text/plain": [
       "1.00    1\n",
       "2.40    1\n",
       "0.44    1\n",
       "Name: A, dtype: int64"
      ]
     },
     "execution_count": 17,
     "metadata": {},
     "output_type": "execute_result"
    }
   ],
   "source": [
    "df['A'].value_counts()"
   ]
  },
  {
   "cell_type": "markdown",
   "id": "7064087d",
   "metadata": {},
   "source": [
    "## Groupby 연산"
   ]
  },
  {
   "cell_type": "code",
   "execution_count": 18,
   "id": "3710d920",
   "metadata": {
    "ExecuteTime": {
     "end_time": "2023-05-03T05:18:01.126012Z",
     "start_time": "2023-05-03T05:18:01.099028Z"
    }
   },
   "outputs": [
    {
     "data": {
      "text/html": [
       "<div>\n",
       "<style scoped>\n",
       "    .dataframe tbody tr th:only-of-type {\n",
       "        vertical-align: middle;\n",
       "    }\n",
       "\n",
       "    .dataframe tbody tr th {\n",
       "        vertical-align: top;\n",
       "    }\n",
       "\n",
       "    .dataframe thead th {\n",
       "        text-align: right;\n",
       "    }\n",
       "</style>\n",
       "<table border=\"1\" class=\"dataframe\">\n",
       "  <thead>\n",
       "    <tr style=\"text-align: right;\">\n",
       "      <th></th>\n",
       "      <th>c1</th>\n",
       "      <th>c2</th>\n",
       "      <th>c3</th>\n",
       "      <th>c4</th>\n",
       "    </tr>\n",
       "  </thead>\n",
       "  <tbody>\n",
       "    <tr>\n",
       "      <th>0</th>\n",
       "      <td>a</td>\n",
       "      <td>A</td>\n",
       "      <td>3</td>\n",
       "      <td>0.396911</td>\n",
       "    </tr>\n",
       "    <tr>\n",
       "      <th>1</th>\n",
       "      <td>a</td>\n",
       "      <td>B</td>\n",
       "      <td>9</td>\n",
       "      <td>0.773188</td>\n",
       "    </tr>\n",
       "    <tr>\n",
       "      <th>2</th>\n",
       "      <td>b</td>\n",
       "      <td>B</td>\n",
       "      <td>4</td>\n",
       "      <td>0.974735</td>\n",
       "    </tr>\n",
       "    <tr>\n",
       "      <th>3</th>\n",
       "      <td>b</td>\n",
       "      <td>A</td>\n",
       "      <td>3</td>\n",
       "      <td>0.024320</td>\n",
       "    </tr>\n",
       "    <tr>\n",
       "      <th>4</th>\n",
       "      <td>c</td>\n",
       "      <td>D</td>\n",
       "      <td>8</td>\n",
       "      <td>0.978075</td>\n",
       "    </tr>\n",
       "    <tr>\n",
       "      <th>5</th>\n",
       "      <td>d</td>\n",
       "      <td>C</td>\n",
       "      <td>7</td>\n",
       "      <td>0.142736</td>\n",
       "    </tr>\n",
       "    <tr>\n",
       "      <th>6</th>\n",
       "      <td>b</td>\n",
       "      <td>C</td>\n",
       "      <td>1</td>\n",
       "      <td>0.525929</td>\n",
       "    </tr>\n",
       "  </tbody>\n",
       "</table>\n",
       "</div>"
      ],
      "text/plain": [
       "  c1 c2  c3        c4\n",
       "0  a  A   3  0.396911\n",
       "1  a  B   9  0.773188\n",
       "2  b  B   4  0.974735\n",
       "3  b  A   3  0.024320\n",
       "4  c  D   8  0.978075\n",
       "5  d  C   7  0.142736\n",
       "6  b  C   1  0.525929"
      ]
     },
     "execution_count": 18,
     "metadata": {},
     "output_type": "execute_result"
    }
   ],
   "source": [
    "df = pd.DataFrame({'c1':list('aabbcdb'),\n",
    "                  'c2' : list('ABBADCC'),\n",
    "                  'c3' : np.random.randint(1,10,7),\n",
    "                  'c4' : np.random.rand(7)})\n",
    "df"
   ]
  },
  {
   "cell_type": "code",
   "execution_count": 19,
   "id": "ace19fc9",
   "metadata": {
    "ExecuteTime": {
     "end_time": "2023-05-03T05:18:01.141003Z",
     "start_time": "2023-05-03T05:18:01.129009Z"
    }
   },
   "outputs": [
    {
     "data": {
      "text/plain": [
       "c1     object\n",
       "c2     object\n",
       "c3      int32\n",
       "c4    float64\n",
       "dtype: object"
      ]
     },
     "execution_count": 19,
     "metadata": {},
     "output_type": "execute_result"
    }
   ],
   "source": [
    "df.dtypes"
   ]
  },
  {
   "cell_type": "code",
   "execution_count": 20,
   "id": "61f23ce8",
   "metadata": {
    "ExecuteTime": {
     "end_time": "2023-05-03T05:18:01.171982Z",
     "start_time": "2023-05-03T05:18:01.144999Z"
    }
   },
   "outputs": [
    {
     "name": "stderr",
     "output_type": "stream",
     "text": [
      "C:\\Users\\chosun\\AppData\\Local\\Temp\\ipykernel_17972\\2715285365.py:1: FutureWarning: The default value of numeric_only in DataFrameGroupBy.mean is deprecated. In a future version, numeric_only will default to False. Either specify numeric_only or select only columns which should be valid for the function.\n",
      "  df.groupby(df[\"c1\"]).mean()\n"
     ]
    },
    {
     "data": {
      "text/html": [
       "<div>\n",
       "<style scoped>\n",
       "    .dataframe tbody tr th:only-of-type {\n",
       "        vertical-align: middle;\n",
       "    }\n",
       "\n",
       "    .dataframe tbody tr th {\n",
       "        vertical-align: top;\n",
       "    }\n",
       "\n",
       "    .dataframe thead th {\n",
       "        text-align: right;\n",
       "    }\n",
       "</style>\n",
       "<table border=\"1\" class=\"dataframe\">\n",
       "  <thead>\n",
       "    <tr style=\"text-align: right;\">\n",
       "      <th></th>\n",
       "      <th>c3</th>\n",
       "      <th>c4</th>\n",
       "    </tr>\n",
       "    <tr>\n",
       "      <th>c1</th>\n",
       "      <th></th>\n",
       "      <th></th>\n",
       "    </tr>\n",
       "  </thead>\n",
       "  <tbody>\n",
       "    <tr>\n",
       "      <th>a</th>\n",
       "      <td>6.000000</td>\n",
       "      <td>0.585050</td>\n",
       "    </tr>\n",
       "    <tr>\n",
       "      <th>b</th>\n",
       "      <td>2.666667</td>\n",
       "      <td>0.508328</td>\n",
       "    </tr>\n",
       "    <tr>\n",
       "      <th>c</th>\n",
       "      <td>8.000000</td>\n",
       "      <td>0.978075</td>\n",
       "    </tr>\n",
       "    <tr>\n",
       "      <th>d</th>\n",
       "      <td>7.000000</td>\n",
       "      <td>0.142736</td>\n",
       "    </tr>\n",
       "  </tbody>\n",
       "</table>\n",
       "</div>"
      ],
      "text/plain": [
       "          c3        c4\n",
       "c1                    \n",
       "a   6.000000  0.585050\n",
       "b   2.666667  0.508328\n",
       "c   8.000000  0.978075\n",
       "d   7.000000  0.142736"
      ]
     },
     "execution_count": 20,
     "metadata": {},
     "output_type": "execute_result"
    }
   ],
   "source": [
    "df.groupby(df[\"c1\"]).mean()"
   ]
  },
  {
   "cell_type": "code",
   "execution_count": 21,
   "id": "14ac731c",
   "metadata": {
    "ExecuteTime": {
     "end_time": "2023-05-03T05:18:01.202983Z",
     "start_time": "2023-05-03T05:18:01.174979Z"
    }
   },
   "outputs": [
    {
     "data": {
      "text/plain": [
       "c2\n",
       "A    0.263461\n",
       "B    0.142515\n",
       "C    0.270958\n",
       "D         NaN\n",
       "Name: c4, dtype: float64"
      ]
     },
     "execution_count": 21,
     "metadata": {},
     "output_type": "execute_result"
    }
   ],
   "source": [
    "df[\"c4\"].groupby(df[\"c2\"]).std()"
   ]
  },
  {
   "cell_type": "code",
   "execution_count": 27,
   "id": "e2260e5c",
   "metadata": {
    "ExecuteTime": {
     "end_time": "2023-05-03T05:24:40.461828Z",
     "start_time": "2023-05-03T05:24:40.437840Z"
    }
   },
   "outputs": [
    {
     "data": {
      "text/html": [
       "<div>\n",
       "<style scoped>\n",
       "    .dataframe tbody tr th:only-of-type {\n",
       "        vertical-align: middle;\n",
       "    }\n",
       "\n",
       "    .dataframe tbody tr th {\n",
       "        vertical-align: top;\n",
       "    }\n",
       "\n",
       "    .dataframe thead th {\n",
       "        text-align: right;\n",
       "    }\n",
       "</style>\n",
       "<table border=\"1\" class=\"dataframe\">\n",
       "  <thead>\n",
       "    <tr style=\"text-align: right;\">\n",
       "      <th></th>\n",
       "      <th></th>\n",
       "      <th>c3</th>\n",
       "      <th>c4</th>\n",
       "    </tr>\n",
       "    <tr>\n",
       "      <th>c1</th>\n",
       "      <th>c2</th>\n",
       "      <th></th>\n",
       "      <th></th>\n",
       "    </tr>\n",
       "  </thead>\n",
       "  <tbody>\n",
       "    <tr>\n",
       "      <th rowspan=\"2\" valign=\"top\">a</th>\n",
       "      <th>A</th>\n",
       "      <td>3.0</td>\n",
       "      <td>0.396911</td>\n",
       "    </tr>\n",
       "    <tr>\n",
       "      <th>B</th>\n",
       "      <td>9.0</td>\n",
       "      <td>0.773188</td>\n",
       "    </tr>\n",
       "    <tr>\n",
       "      <th rowspan=\"3\" valign=\"top\">b</th>\n",
       "      <th>A</th>\n",
       "      <td>3.0</td>\n",
       "      <td>0.024320</td>\n",
       "    </tr>\n",
       "    <tr>\n",
       "      <th>B</th>\n",
       "      <td>4.0</td>\n",
       "      <td>0.974735</td>\n",
       "    </tr>\n",
       "    <tr>\n",
       "      <th>C</th>\n",
       "      <td>1.0</td>\n",
       "      <td>0.525929</td>\n",
       "    </tr>\n",
       "    <tr>\n",
       "      <th>c</th>\n",
       "      <th>D</th>\n",
       "      <td>8.0</td>\n",
       "      <td>0.978075</td>\n",
       "    </tr>\n",
       "    <tr>\n",
       "      <th>d</th>\n",
       "      <th>C</th>\n",
       "      <td>7.0</td>\n",
       "      <td>0.142736</td>\n",
       "    </tr>\n",
       "  </tbody>\n",
       "</table>\n",
       "</div>"
      ],
      "text/plain": [
       "        c3        c4\n",
       "c1 c2               \n",
       "a  A   3.0  0.396911\n",
       "   B   9.0  0.773188\n",
       "b  A   3.0  0.024320\n",
       "   B   4.0  0.974735\n",
       "   C   1.0  0.525929\n",
       "c  D   8.0  0.978075\n",
       "d  C   7.0  0.142736"
      ]
     },
     "execution_count": 27,
     "metadata": {},
     "output_type": "execute_result"
    }
   ],
   "source": [
    "df.groupby([df[\"c1\"],df[\"c2\"]]).mean()"
   ]
  },
  {
   "cell_type": "code",
   "execution_count": 32,
   "id": "c0660573",
   "metadata": {
    "ExecuteTime": {
     "end_time": "2023-05-03T05:26:51.803264Z",
     "start_time": "2023-05-03T05:26:51.775281Z"
    }
   },
   "outputs": [
    {
     "data": {
      "text/html": [
       "<div>\n",
       "<style scoped>\n",
       "    .dataframe tbody tr th:only-of-type {\n",
       "        vertical-align: middle;\n",
       "    }\n",
       "\n",
       "    .dataframe tbody tr th {\n",
       "        vertical-align: top;\n",
       "    }\n",
       "\n",
       "    .dataframe thead th {\n",
       "        text-align: right;\n",
       "    }\n",
       "</style>\n",
       "<table border=\"1\" class=\"dataframe\">\n",
       "  <thead>\n",
       "    <tr style=\"text-align: right;\">\n",
       "      <th></th>\n",
       "      <th></th>\n",
       "      <th>c3</th>\n",
       "      <th>c4</th>\n",
       "    </tr>\n",
       "    <tr>\n",
       "      <th>c1</th>\n",
       "      <th>c2</th>\n",
       "      <th></th>\n",
       "      <th></th>\n",
       "    </tr>\n",
       "  </thead>\n",
       "  <tbody>\n",
       "    <tr>\n",
       "      <th rowspan=\"2\" valign=\"top\">a</th>\n",
       "      <th>A</th>\n",
       "      <td>3.0</td>\n",
       "      <td>0.396911</td>\n",
       "    </tr>\n",
       "    <tr>\n",
       "      <th>B</th>\n",
       "      <td>9.0</td>\n",
       "      <td>0.773188</td>\n",
       "    </tr>\n",
       "    <tr>\n",
       "      <th rowspan=\"3\" valign=\"top\">b</th>\n",
       "      <th>A</th>\n",
       "      <td>3.0</td>\n",
       "      <td>0.024320</td>\n",
       "    </tr>\n",
       "    <tr>\n",
       "      <th>B</th>\n",
       "      <td>4.0</td>\n",
       "      <td>0.974735</td>\n",
       "    </tr>\n",
       "    <tr>\n",
       "      <th>C</th>\n",
       "      <td>1.0</td>\n",
       "      <td>0.525929</td>\n",
       "    </tr>\n",
       "    <tr>\n",
       "      <th>c</th>\n",
       "      <th>D</th>\n",
       "      <td>8.0</td>\n",
       "      <td>0.978075</td>\n",
       "    </tr>\n",
       "    <tr>\n",
       "      <th>d</th>\n",
       "      <th>C</th>\n",
       "      <td>7.0</td>\n",
       "      <td>0.142736</td>\n",
       "    </tr>\n",
       "  </tbody>\n",
       "</table>\n",
       "</div>"
      ],
      "text/plain": [
       "        c3        c4\n",
       "c1 c2               \n",
       "a  A   3.0  0.396911\n",
       "   B   9.0  0.773188\n",
       "b  A   3.0  0.024320\n",
       "   B   4.0  0.974735\n",
       "   C   1.0  0.525929\n",
       "c  D   8.0  0.978075\n",
       "d  C   7.0  0.142736"
      ]
     },
     "execution_count": 32,
     "metadata": {},
     "output_type": "execute_result"
    }
   ],
   "source": [
    "df.groupby([\"c1\",\"c2\"]).mean()  # 이렇게 하는게 훨씬 간편함"
   ]
  },
  {
   "cell_type": "code",
   "execution_count": 30,
   "id": "481281a6",
   "metadata": {
    "ExecuteTime": {
     "end_time": "2023-05-03T05:25:35.803255Z",
     "start_time": "2023-05-03T05:25:35.781266Z"
    }
   },
   "outputs": [
    {
     "data": {
      "text/html": [
       "<div>\n",
       "<style scoped>\n",
       "    .dataframe tbody tr th:only-of-type {\n",
       "        vertical-align: middle;\n",
       "    }\n",
       "\n",
       "    .dataframe tbody tr th {\n",
       "        vertical-align: top;\n",
       "    }\n",
       "\n",
       "    .dataframe thead th {\n",
       "        text-align: right;\n",
       "    }\n",
       "</style>\n",
       "<table border=\"1\" class=\"dataframe\">\n",
       "  <thead>\n",
       "    <tr style=\"text-align: right;\">\n",
       "      <th>c2</th>\n",
       "      <th>A</th>\n",
       "      <th>B</th>\n",
       "      <th>C</th>\n",
       "      <th>D</th>\n",
       "    </tr>\n",
       "    <tr>\n",
       "      <th>c1</th>\n",
       "      <th></th>\n",
       "      <th></th>\n",
       "      <th></th>\n",
       "      <th></th>\n",
       "    </tr>\n",
       "  </thead>\n",
       "  <tbody>\n",
       "    <tr>\n",
       "      <th>a</th>\n",
       "      <td>0.396911</td>\n",
       "      <td>0.773188</td>\n",
       "      <td>NaN</td>\n",
       "      <td>NaN</td>\n",
       "    </tr>\n",
       "    <tr>\n",
       "      <th>b</th>\n",
       "      <td>0.024320</td>\n",
       "      <td>0.974735</td>\n",
       "      <td>0.525929</td>\n",
       "      <td>NaN</td>\n",
       "    </tr>\n",
       "    <tr>\n",
       "      <th>c</th>\n",
       "      <td>NaN</td>\n",
       "      <td>NaN</td>\n",
       "      <td>NaN</td>\n",
       "      <td>0.978075</td>\n",
       "    </tr>\n",
       "    <tr>\n",
       "      <th>d</th>\n",
       "      <td>NaN</td>\n",
       "      <td>NaN</td>\n",
       "      <td>0.142736</td>\n",
       "      <td>NaN</td>\n",
       "    </tr>\n",
       "  </tbody>\n",
       "</table>\n",
       "</div>"
      ],
      "text/plain": [
       "c2         A         B         C         D\n",
       "c1                                        \n",
       "a   0.396911  0.773188       NaN       NaN\n",
       "b   0.024320  0.974735  0.525929       NaN\n",
       "c        NaN       NaN       NaN  0.978075\n",
       "d        NaN       NaN  0.142736       NaN"
      ]
     },
     "execution_count": 30,
     "metadata": {},
     "output_type": "execute_result"
    }
   ],
   "source": [
    "df[\"c4\"].groupby([df[\"c1\"],df[\"c2\"]]).mean().unstack()"
   ]
  },
  {
   "cell_type": "code",
   "execution_count": 33,
   "id": "a8a8849b",
   "metadata": {
    "ExecuteTime": {
     "end_time": "2023-05-03T05:27:11.176020Z",
     "start_time": "2023-05-03T05:27:11.148037Z"
    }
   },
   "outputs": [
    {
     "name": "stdout",
     "output_type": "stream",
     "text": [
      "a\n",
      "  c1 c2  c3        c4\n",
      "0  a  A   3  0.396911\n",
      "1  a  B   9  0.773188\n",
      "b\n",
      "  c1 c2  c3        c4\n",
      "2  b  B   4  0.974735\n",
      "3  b  A   3  0.024320\n",
      "6  b  C   1  0.525929\n",
      "c\n",
      "  c1 c2  c3        c4\n",
      "4  c  D   8  0.978075\n",
      "d\n",
      "  c1 c2  c3        c4\n",
      "5  d  C   7  0.142736\n"
     ]
    }
   ],
   "source": [
    "for c1,group in df.groupby('c1'):\n",
    "    print(c1)\n",
    "    print(group)"
   ]
  },
  {
   "cell_type": "code",
   "execution_count": 55,
   "id": "46e4a926",
   "metadata": {
    "ExecuteTime": {
     "end_time": "2023-05-03T05:32:17.739066Z",
     "start_time": "2023-05-03T05:32:17.720079Z"
    }
   },
   "outputs": [
    {
     "data": {
      "text/html": [
       "<div>\n",
       "<style scoped>\n",
       "    .dataframe tbody tr th:only-of-type {\n",
       "        vertical-align: middle;\n",
       "    }\n",
       "\n",
       "    .dataframe tbody tr th {\n",
       "        vertical-align: top;\n",
       "    }\n",
       "\n",
       "    .dataframe thead th {\n",
       "        text-align: right;\n",
       "    }\n",
       "</style>\n",
       "<table border=\"1\" class=\"dataframe\">\n",
       "  <thead>\n",
       "    <tr style=\"text-align: right;\">\n",
       "      <th></th>\n",
       "      <th></th>\n",
       "      <th>c4</th>\n",
       "    </tr>\n",
       "    <tr>\n",
       "      <th>c1</th>\n",
       "      <th>c2</th>\n",
       "      <th></th>\n",
       "    </tr>\n",
       "  </thead>\n",
       "  <tbody>\n",
       "    <tr>\n",
       "      <th rowspan=\"2\" valign=\"top\">a</th>\n",
       "      <th>A</th>\n",
       "      <td>0.396911</td>\n",
       "    </tr>\n",
       "    <tr>\n",
       "      <th>B</th>\n",
       "      <td>0.773188</td>\n",
       "    </tr>\n",
       "    <tr>\n",
       "      <th rowspan=\"3\" valign=\"top\">b</th>\n",
       "      <th>A</th>\n",
       "      <td>0.024320</td>\n",
       "    </tr>\n",
       "    <tr>\n",
       "      <th>B</th>\n",
       "      <td>0.974735</td>\n",
       "    </tr>\n",
       "    <tr>\n",
       "      <th>C</th>\n",
       "      <td>0.525929</td>\n",
       "    </tr>\n",
       "    <tr>\n",
       "      <th>c</th>\n",
       "      <th>D</th>\n",
       "      <td>0.978075</td>\n",
       "    </tr>\n",
       "    <tr>\n",
       "      <th>d</th>\n",
       "      <th>C</th>\n",
       "      <td>0.142736</td>\n",
       "    </tr>\n",
       "  </tbody>\n",
       "</table>\n",
       "</div>"
      ],
      "text/plain": [
       "             c4\n",
       "c1 c2          \n",
       "a  A   0.396911\n",
       "   B   0.773188\n",
       "b  A   0.024320\n",
       "   B   0.974735\n",
       "   C   0.525929\n",
       "c  D   0.978075\n",
       "d  C   0.142736"
      ]
     },
     "execution_count": 55,
     "metadata": {},
     "output_type": "execute_result"
    }
   ],
   "source": [
    "df[[\"c4\"]].groupby([df['c1'],df['c2'] ]).mean()"
   ]
  },
  {
   "cell_type": "code",
   "execution_count": 57,
   "id": "cc7265f1",
   "metadata": {
    "ExecuteTime": {
     "end_time": "2023-05-03T05:32:45.960699Z",
     "start_time": "2023-05-03T05:32:45.946712Z"
    }
   },
   "outputs": [
    {
     "data": {
      "text/html": [
       "<div>\n",
       "<style scoped>\n",
       "    .dataframe tbody tr th:only-of-type {\n",
       "        vertical-align: middle;\n",
       "    }\n",
       "\n",
       "    .dataframe tbody tr th {\n",
       "        vertical-align: top;\n",
       "    }\n",
       "\n",
       "    .dataframe thead th {\n",
       "        text-align: right;\n",
       "    }\n",
       "</style>\n",
       "<table border=\"1\" class=\"dataframe\">\n",
       "  <thead>\n",
       "    <tr style=\"text-align: right;\">\n",
       "      <th></th>\n",
       "      <th></th>\n",
       "      <th>c4</th>\n",
       "    </tr>\n",
       "    <tr>\n",
       "      <th>c1</th>\n",
       "      <th>c2</th>\n",
       "      <th></th>\n",
       "    </tr>\n",
       "  </thead>\n",
       "  <tbody>\n",
       "    <tr>\n",
       "      <th rowspan=\"2\" valign=\"top\">a</th>\n",
       "      <th>A</th>\n",
       "      <td>0.396911</td>\n",
       "    </tr>\n",
       "    <tr>\n",
       "      <th>B</th>\n",
       "      <td>0.773188</td>\n",
       "    </tr>\n",
       "    <tr>\n",
       "      <th rowspan=\"3\" valign=\"top\">b</th>\n",
       "      <th>A</th>\n",
       "      <td>0.024320</td>\n",
       "    </tr>\n",
       "    <tr>\n",
       "      <th>B</th>\n",
       "      <td>0.974735</td>\n",
       "    </tr>\n",
       "    <tr>\n",
       "      <th>C</th>\n",
       "      <td>0.525929</td>\n",
       "    </tr>\n",
       "    <tr>\n",
       "      <th>c</th>\n",
       "      <th>D</th>\n",
       "      <td>0.978075</td>\n",
       "    </tr>\n",
       "    <tr>\n",
       "      <th>d</th>\n",
       "      <th>C</th>\n",
       "      <td>0.142736</td>\n",
       "    </tr>\n",
       "  </tbody>\n",
       "</table>\n",
       "</div>"
      ],
      "text/plain": [
       "             c4\n",
       "c1 c2          \n",
       "a  A   0.396911\n",
       "   B   0.773188\n",
       "b  A   0.024320\n",
       "   B   0.974735\n",
       "   C   0.525929\n",
       "c  D   0.978075\n",
       "d  C   0.142736"
      ]
     },
     "execution_count": 57,
     "metadata": {},
     "output_type": "execute_result"
    }
   ],
   "source": [
    "df.groupby(['c1','c2'])[[\"c4\"]].mean()  # 이렇게 하는게 좀 더 나을듯"
   ]
  },
  {
   "cell_type": "code",
   "execution_count": 58,
   "id": "5be8abe4",
   "metadata": {
    "ExecuteTime": {
     "end_time": "2023-05-03T05:33:18.985274Z",
     "start_time": "2023-05-03T05:33:18.967287Z"
    }
   },
   "outputs": [
    {
     "data": {
      "text/plain": [
       "c1\n",
       "a    6.0\n",
       "b    3.0\n",
       "c    8.0\n",
       "d    7.0\n",
       "Name: c3, dtype: float64"
      ]
     },
     "execution_count": 58,
     "metadata": {},
     "output_type": "execute_result"
    }
   ],
   "source": [
    "df.groupby('c1')['c3'].quantile()"
   ]
  },
  {
   "cell_type": "code",
   "execution_count": 59,
   "id": "8ee8d9c3",
   "metadata": {
    "ExecuteTime": {
     "end_time": "2023-05-03T05:33:26.438042Z",
     "start_time": "2023-05-03T05:33:26.415059Z"
    }
   },
   "outputs": [
    {
     "data": {
      "text/plain": [
       "c1\n",
       "a    2\n",
       "b    3\n",
       "c    1\n",
       "d    1\n",
       "Name: c3, dtype: int64"
      ]
     },
     "execution_count": 59,
     "metadata": {},
     "output_type": "execute_result"
    }
   ],
   "source": [
    "df.groupby('c1')['c3'].count()"
   ]
  },
  {
   "cell_type": "code",
   "execution_count": 60,
   "id": "9bf13f66",
   "metadata": {
    "ExecuteTime": {
     "end_time": "2023-05-03T05:33:33.229430Z",
     "start_time": "2023-05-03T05:33:33.207441Z"
    }
   },
   "outputs": [
    {
     "data": {
      "text/plain": [
       "c1\n",
       "a    6.0\n",
       "b    3.0\n",
       "c    8.0\n",
       "d    7.0\n",
       "Name: c3, dtype: float64"
      ]
     },
     "execution_count": 60,
     "metadata": {},
     "output_type": "execute_result"
    }
   ],
   "source": [
    "df.groupby('c1')['c3'].median()"
   ]
  },
  {
   "cell_type": "code",
   "execution_count": 62,
   "id": "5631b026",
   "metadata": {
    "ExecuteTime": {
     "end_time": "2023-05-03T05:33:39.413012Z",
     "start_time": "2023-05-03T05:33:39.399021Z"
    }
   },
   "outputs": [
    {
     "data": {
      "text/plain": [
       "c1\n",
       "a    4.242641\n",
       "b    1.527525\n",
       "c         NaN\n",
       "d         NaN\n",
       "Name: c3, dtype: float64"
      ]
     },
     "execution_count": 62,
     "metadata": {},
     "output_type": "execute_result"
    }
   ],
   "source": [
    "df.groupby('c1')['c3'].std()"
   ]
  },
  {
   "cell_type": "code",
   "execution_count": 65,
   "id": "be3131ec",
   "metadata": {
    "ExecuteTime": {
     "end_time": "2023-05-03T05:34:19.972484Z",
     "start_time": "2023-05-03T05:34:19.950498Z"
    }
   },
   "outputs": [
    {
     "data": {
      "text/html": [
       "<div>\n",
       "<style scoped>\n",
       "    .dataframe tbody tr th:only-of-type {\n",
       "        vertical-align: middle;\n",
       "    }\n",
       "\n",
       "    .dataframe tbody tr th {\n",
       "        vertical-align: top;\n",
       "    }\n",
       "\n",
       "    .dataframe thead th {\n",
       "        text-align: right;\n",
       "    }\n",
       "</style>\n",
       "<table border=\"1\" class=\"dataframe\">\n",
       "  <thead>\n",
       "    <tr style=\"text-align: right;\">\n",
       "      <th></th>\n",
       "      <th>mean</th>\n",
       "      <th>max</th>\n",
       "      <th>min</th>\n",
       "    </tr>\n",
       "    <tr>\n",
       "      <th>c1</th>\n",
       "      <th></th>\n",
       "      <th></th>\n",
       "      <th></th>\n",
       "    </tr>\n",
       "  </thead>\n",
       "  <tbody>\n",
       "    <tr>\n",
       "      <th>a</th>\n",
       "      <td>6.000000</td>\n",
       "      <td>9</td>\n",
       "      <td>3</td>\n",
       "    </tr>\n",
       "    <tr>\n",
       "      <th>b</th>\n",
       "      <td>2.666667</td>\n",
       "      <td>4</td>\n",
       "      <td>1</td>\n",
       "    </tr>\n",
       "    <tr>\n",
       "      <th>c</th>\n",
       "      <td>8.000000</td>\n",
       "      <td>8</td>\n",
       "      <td>8</td>\n",
       "    </tr>\n",
       "    <tr>\n",
       "      <th>d</th>\n",
       "      <td>7.000000</td>\n",
       "      <td>7</td>\n",
       "      <td>7</td>\n",
       "    </tr>\n",
       "  </tbody>\n",
       "</table>\n",
       "</div>"
      ],
      "text/plain": [
       "        mean  max  min\n",
       "c1                    \n",
       "a   6.000000    9    3\n",
       "b   2.666667    4    1\n",
       "c   8.000000    8    8\n",
       "d   7.000000    7    7"
      ]
     },
     "execution_count": 65,
     "metadata": {},
     "output_type": "execute_result"
    }
   ],
   "source": [
    "df.groupby('c1')['c3'].agg(['mean','max','min'])"
   ]
  },
  {
   "cell_type": "code",
   "execution_count": 72,
   "id": "c54d7acc",
   "metadata": {
    "ExecuteTime": {
     "end_time": "2023-05-03T05:35:52.698034Z",
     "start_time": "2023-05-03T05:35:52.677046Z"
    }
   },
   "outputs": [
    {
     "data": {
      "text/html": [
       "<div>\n",
       "<style scoped>\n",
       "    .dataframe tbody tr th:only-of-type {\n",
       "        vertical-align: middle;\n",
       "    }\n",
       "\n",
       "    .dataframe tbody tr th {\n",
       "        vertical-align: top;\n",
       "    }\n",
       "\n",
       "    .dataframe thead th {\n",
       "        text-align: right;\n",
       "    }\n",
       "</style>\n",
       "<table border=\"1\" class=\"dataframe\">\n",
       "  <thead>\n",
       "    <tr style=\"text-align: right;\">\n",
       "      <th></th>\n",
       "      <th>c1</th>\n",
       "      <th>c2</th>\n",
       "      <th>c4</th>\n",
       "    </tr>\n",
       "  </thead>\n",
       "  <tbody>\n",
       "    <tr>\n",
       "      <th>0</th>\n",
       "      <td>a</td>\n",
       "      <td>A</td>\n",
       "      <td>0.396911</td>\n",
       "    </tr>\n",
       "    <tr>\n",
       "      <th>1</th>\n",
       "      <td>a</td>\n",
       "      <td>B</td>\n",
       "      <td>0.773188</td>\n",
       "    </tr>\n",
       "    <tr>\n",
       "      <th>2</th>\n",
       "      <td>b</td>\n",
       "      <td>A</td>\n",
       "      <td>0.024320</td>\n",
       "    </tr>\n",
       "    <tr>\n",
       "      <th>3</th>\n",
       "      <td>b</td>\n",
       "      <td>B</td>\n",
       "      <td>0.974735</td>\n",
       "    </tr>\n",
       "    <tr>\n",
       "      <th>4</th>\n",
       "      <td>b</td>\n",
       "      <td>C</td>\n",
       "      <td>0.525929</td>\n",
       "    </tr>\n",
       "    <tr>\n",
       "      <th>5</th>\n",
       "      <td>c</td>\n",
       "      <td>D</td>\n",
       "      <td>0.978075</td>\n",
       "    </tr>\n",
       "    <tr>\n",
       "      <th>6</th>\n",
       "      <td>d</td>\n",
       "      <td>C</td>\n",
       "      <td>0.142736</td>\n",
       "    </tr>\n",
       "  </tbody>\n",
       "</table>\n",
       "</div>"
      ],
      "text/plain": [
       "  c1 c2        c4\n",
       "0  a  A  0.396911\n",
       "1  a  B  0.773188\n",
       "2  b  A  0.024320\n",
       "3  b  B  0.974735\n",
       "4  b  C  0.525929\n",
       "5  c  D  0.978075\n",
       "6  d  C  0.142736"
      ]
     },
     "execution_count": 72,
     "metadata": {},
     "output_type": "execute_result"
    }
   ],
   "source": [
    "df.groupby(['c1','c2'], as_index=False)['c4'].mean()"
   ]
  },
  {
   "cell_type": "code",
   "execution_count": 74,
   "id": "86630366",
   "metadata": {
    "ExecuteTime": {
     "end_time": "2023-05-03T05:36:08.753083Z",
     "start_time": "2023-05-03T05:36:08.734092Z"
    }
   },
   "outputs": [
    {
     "data": {
      "text/html": [
       "<div>\n",
       "<style scoped>\n",
       "    .dataframe tbody tr th:only-of-type {\n",
       "        vertical-align: middle;\n",
       "    }\n",
       "\n",
       "    .dataframe tbody tr th {\n",
       "        vertical-align: top;\n",
       "    }\n",
       "\n",
       "    .dataframe thead th {\n",
       "        text-align: right;\n",
       "    }\n",
       "</style>\n",
       "<table border=\"1\" class=\"dataframe\">\n",
       "  <thead>\n",
       "    <tr style=\"text-align: right;\">\n",
       "      <th></th>\n",
       "      <th>c1</th>\n",
       "      <th>c2</th>\n",
       "      <th>c3</th>\n",
       "      <th>c4</th>\n",
       "    </tr>\n",
       "  </thead>\n",
       "  <tbody>\n",
       "    <tr>\n",
       "      <th>0</th>\n",
       "      <td>a</td>\n",
       "      <td>A</td>\n",
       "      <td>3.0</td>\n",
       "      <td>0.396911</td>\n",
       "    </tr>\n",
       "    <tr>\n",
       "      <th>1</th>\n",
       "      <td>a</td>\n",
       "      <td>B</td>\n",
       "      <td>9.0</td>\n",
       "      <td>0.773188</td>\n",
       "    </tr>\n",
       "    <tr>\n",
       "      <th>2</th>\n",
       "      <td>b</td>\n",
       "      <td>A</td>\n",
       "      <td>3.0</td>\n",
       "      <td>0.024320</td>\n",
       "    </tr>\n",
       "    <tr>\n",
       "      <th>3</th>\n",
       "      <td>b</td>\n",
       "      <td>B</td>\n",
       "      <td>4.0</td>\n",
       "      <td>0.974735</td>\n",
       "    </tr>\n",
       "    <tr>\n",
       "      <th>4</th>\n",
       "      <td>b</td>\n",
       "      <td>C</td>\n",
       "      <td>1.0</td>\n",
       "      <td>0.525929</td>\n",
       "    </tr>\n",
       "    <tr>\n",
       "      <th>5</th>\n",
       "      <td>c</td>\n",
       "      <td>D</td>\n",
       "      <td>8.0</td>\n",
       "      <td>0.978075</td>\n",
       "    </tr>\n",
       "    <tr>\n",
       "      <th>6</th>\n",
       "      <td>d</td>\n",
       "      <td>C</td>\n",
       "      <td>7.0</td>\n",
       "      <td>0.142736</td>\n",
       "    </tr>\n",
       "  </tbody>\n",
       "</table>\n",
       "</div>"
      ],
      "text/plain": [
       "  c1 c2   c3        c4\n",
       "0  a  A  3.0  0.396911\n",
       "1  a  B  9.0  0.773188\n",
       "2  b  A  3.0  0.024320\n",
       "3  b  B  4.0  0.974735\n",
       "4  b  C  1.0  0.525929\n",
       "5  c  D  8.0  0.978075\n",
       "6  d  C  7.0  0.142736"
      ]
     },
     "execution_count": 74,
     "metadata": {},
     "output_type": "execute_result"
    }
   ],
   "source": [
    "df.groupby(['c1','c2'], as_index=False).mean()"
   ]
  },
  {
   "cell_type": "code",
   "execution_count": 84,
   "id": "1488c1c1",
   "metadata": {
    "ExecuteTime": {
     "end_time": "2023-05-03T05:51:45.439993Z",
     "start_time": "2023-05-03T05:51:45.426001Z"
    }
   },
   "outputs": [
    {
     "data": {
      "text/html": [
       "<div>\n",
       "<style scoped>\n",
       "    .dataframe tbody tr th:only-of-type {\n",
       "        vertical-align: middle;\n",
       "    }\n",
       "\n",
       "    .dataframe tbody tr th {\n",
       "        vertical-align: top;\n",
       "    }\n",
       "\n",
       "    .dataframe thead th {\n",
       "        text-align: right;\n",
       "    }\n",
       "</style>\n",
       "<table border=\"1\" class=\"dataframe\">\n",
       "  <thead>\n",
       "    <tr style=\"text-align: right;\">\n",
       "      <th></th>\n",
       "      <th></th>\n",
       "      <th>c3</th>\n",
       "      <th>c4</th>\n",
       "    </tr>\n",
       "    <tr>\n",
       "      <th>c1</th>\n",
       "      <th>c2</th>\n",
       "      <th></th>\n",
       "      <th></th>\n",
       "    </tr>\n",
       "  </thead>\n",
       "  <tbody>\n",
       "    <tr>\n",
       "      <th rowspan=\"2\" valign=\"top\">a</th>\n",
       "      <th>A</th>\n",
       "      <td>3.0</td>\n",
       "      <td>0.396911</td>\n",
       "    </tr>\n",
       "    <tr>\n",
       "      <th>B</th>\n",
       "      <td>9.0</td>\n",
       "      <td>0.773188</td>\n",
       "    </tr>\n",
       "    <tr>\n",
       "      <th rowspan=\"3\" valign=\"top\">b</th>\n",
       "      <th>A</th>\n",
       "      <td>3.0</td>\n",
       "      <td>0.024320</td>\n",
       "    </tr>\n",
       "    <tr>\n",
       "      <th>B</th>\n",
       "      <td>4.0</td>\n",
       "      <td>0.974735</td>\n",
       "    </tr>\n",
       "    <tr>\n",
       "      <th>C</th>\n",
       "      <td>1.0</td>\n",
       "      <td>0.525929</td>\n",
       "    </tr>\n",
       "    <tr>\n",
       "      <th>c</th>\n",
       "      <th>D</th>\n",
       "      <td>8.0</td>\n",
       "      <td>0.978075</td>\n",
       "    </tr>\n",
       "    <tr>\n",
       "      <th>d</th>\n",
       "      <th>C</th>\n",
       "      <td>7.0</td>\n",
       "      <td>0.142736</td>\n",
       "    </tr>\n",
       "  </tbody>\n",
       "</table>\n",
       "</div>"
      ],
      "text/plain": [
       "        c3        c4\n",
       "c1 c2               \n",
       "a  A   3.0  0.396911\n",
       "   B   9.0  0.773188\n",
       "b  A   3.0  0.024320\n",
       "   B   4.0  0.974735\n",
       "   C   1.0  0.525929\n",
       "c  D   8.0  0.978075\n",
       "d  C   7.0  0.142736"
      ]
     },
     "execution_count": 84,
     "metadata": {},
     "output_type": "execute_result"
    }
   ],
   "source": [
    "df.groupby(['c1','c2'],group_keys=True).mean()"
   ]
  },
  {
   "cell_type": "code",
   "execution_count": 85,
   "id": "b71afceb",
   "metadata": {
    "ExecuteTime": {
     "end_time": "2023-05-03T05:51:52.499364Z",
     "start_time": "2023-05-03T05:51:52.473911Z"
    }
   },
   "outputs": [
    {
     "data": {
      "text/html": [
       "<div>\n",
       "<style scoped>\n",
       "    .dataframe tbody tr th:only-of-type {\n",
       "        vertical-align: middle;\n",
       "    }\n",
       "\n",
       "    .dataframe tbody tr th {\n",
       "        vertical-align: top;\n",
       "    }\n",
       "\n",
       "    .dataframe thead th {\n",
       "        text-align: right;\n",
       "    }\n",
       "</style>\n",
       "<table border=\"1\" class=\"dataframe\">\n",
       "  <thead>\n",
       "    <tr style=\"text-align: right;\">\n",
       "      <th></th>\n",
       "      <th></th>\n",
       "      <th>c3</th>\n",
       "      <th>c4</th>\n",
       "    </tr>\n",
       "    <tr>\n",
       "      <th>c1</th>\n",
       "      <th>c2</th>\n",
       "      <th></th>\n",
       "      <th></th>\n",
       "    </tr>\n",
       "  </thead>\n",
       "  <tbody>\n",
       "    <tr>\n",
       "      <th rowspan=\"2\" valign=\"top\">a</th>\n",
       "      <th>A</th>\n",
       "      <td>3.0</td>\n",
       "      <td>0.396911</td>\n",
       "    </tr>\n",
       "    <tr>\n",
       "      <th>B</th>\n",
       "      <td>9.0</td>\n",
       "      <td>0.773188</td>\n",
       "    </tr>\n",
       "    <tr>\n",
       "      <th rowspan=\"3\" valign=\"top\">b</th>\n",
       "      <th>A</th>\n",
       "      <td>3.0</td>\n",
       "      <td>0.024320</td>\n",
       "    </tr>\n",
       "    <tr>\n",
       "      <th>B</th>\n",
       "      <td>4.0</td>\n",
       "      <td>0.974735</td>\n",
       "    </tr>\n",
       "    <tr>\n",
       "      <th>C</th>\n",
       "      <td>1.0</td>\n",
       "      <td>0.525929</td>\n",
       "    </tr>\n",
       "    <tr>\n",
       "      <th>c</th>\n",
       "      <th>D</th>\n",
       "      <td>8.0</td>\n",
       "      <td>0.978075</td>\n",
       "    </tr>\n",
       "    <tr>\n",
       "      <th>d</th>\n",
       "      <th>C</th>\n",
       "      <td>7.0</td>\n",
       "      <td>0.142736</td>\n",
       "    </tr>\n",
       "  </tbody>\n",
       "</table>\n",
       "</div>"
      ],
      "text/plain": [
       "        c3        c4\n",
       "c1 c2               \n",
       "a  A   3.0  0.396911\n",
       "   B   9.0  0.773188\n",
       "b  A   3.0  0.024320\n",
       "   B   4.0  0.974735\n",
       "   C   1.0  0.525929\n",
       "c  D   8.0  0.978075\n",
       "d  C   7.0  0.142736"
      ]
     },
     "execution_count": 85,
     "metadata": {},
     "output_type": "execute_result"
    }
   ],
   "source": [
    "df.groupby(['c1','c2'],group_keys=False).mean()"
   ]
  },
  {
   "cell_type": "code",
   "execution_count": 86,
   "id": "3f83eb97",
   "metadata": {
    "ExecuteTime": {
     "end_time": "2023-05-03T05:53:25.581701Z",
     "start_time": "2023-05-03T05:53:25.568710Z"
    }
   },
   "outputs": [
    {
     "data": {
      "text/html": [
       "<div>\n",
       "<style scoped>\n",
       "    .dataframe tbody tr th:only-of-type {\n",
       "        vertical-align: middle;\n",
       "    }\n",
       "\n",
       "    .dataframe tbody tr th {\n",
       "        vertical-align: top;\n",
       "    }\n",
       "\n",
       "    .dataframe thead th {\n",
       "        text-align: right;\n",
       "    }\n",
       "</style>\n",
       "<table border=\"1\" class=\"dataframe\">\n",
       "  <thead>\n",
       "    <tr style=\"text-align: right;\">\n",
       "      <th></th>\n",
       "      <th>c1</th>\n",
       "      <th>c2</th>\n",
       "      <th>c3</th>\n",
       "      <th>c4</th>\n",
       "    </tr>\n",
       "  </thead>\n",
       "  <tbody>\n",
       "    <tr>\n",
       "      <th>0</th>\n",
       "      <td>a</td>\n",
       "      <td>A</td>\n",
       "      <td>3</td>\n",
       "      <td>0.396911</td>\n",
       "    </tr>\n",
       "    <tr>\n",
       "      <th>1</th>\n",
       "      <td>a</td>\n",
       "      <td>B</td>\n",
       "      <td>9</td>\n",
       "      <td>0.773188</td>\n",
       "    </tr>\n",
       "    <tr>\n",
       "      <th>2</th>\n",
       "      <td>b</td>\n",
       "      <td>B</td>\n",
       "      <td>4</td>\n",
       "      <td>0.974735</td>\n",
       "    </tr>\n",
       "    <tr>\n",
       "      <th>3</th>\n",
       "      <td>b</td>\n",
       "      <td>A</td>\n",
       "      <td>3</td>\n",
       "      <td>0.024320</td>\n",
       "    </tr>\n",
       "    <tr>\n",
       "      <th>6</th>\n",
       "      <td>b</td>\n",
       "      <td>C</td>\n",
       "      <td>1</td>\n",
       "      <td>0.525929</td>\n",
       "    </tr>\n",
       "    <tr>\n",
       "      <th>4</th>\n",
       "      <td>c</td>\n",
       "      <td>D</td>\n",
       "      <td>8</td>\n",
       "      <td>0.978075</td>\n",
       "    </tr>\n",
       "    <tr>\n",
       "      <th>5</th>\n",
       "      <td>d</td>\n",
       "      <td>C</td>\n",
       "      <td>7</td>\n",
       "      <td>0.142736</td>\n",
       "    </tr>\n",
       "  </tbody>\n",
       "</table>\n",
       "</div>"
      ],
      "text/plain": [
       "  c1 c2  c3        c4\n",
       "0  a  A   3  0.396911\n",
       "1  a  B   9  0.773188\n",
       "2  b  B   4  0.974735\n",
       "3  b  A   3  0.024320\n",
       "6  b  C   1  0.525929\n",
       "4  c  D   8  0.978075\n",
       "5  d  C   7  0.142736"
      ]
     },
     "execution_count": 86,
     "metadata": {},
     "output_type": "execute_result"
    }
   ],
   "source": [
    "df.sort_values(by = 'c1')"
   ]
  },
  {
   "cell_type": "markdown",
   "id": "b0bc6463",
   "metadata": {},
   "source": [
    "## 피벗 테이블"
   ]
  },
  {
   "cell_type": "code",
   "execution_count": 91,
   "id": "c1b567ce",
   "metadata": {
    "ExecuteTime": {
     "end_time": "2023-05-03T05:57:36.848434Z",
     "start_time": "2023-05-03T05:57:36.821449Z"
    }
   },
   "outputs": [
    {
     "data": {
      "text/html": [
       "<div>\n",
       "<style scoped>\n",
       "    .dataframe tbody tr th:only-of-type {\n",
       "        vertical-align: middle;\n",
       "    }\n",
       "\n",
       "    .dataframe tbody tr th {\n",
       "        vertical-align: top;\n",
       "    }\n",
       "\n",
       "    .dataframe thead tr th {\n",
       "        text-align: left;\n",
       "    }\n",
       "\n",
       "    .dataframe thead tr:last-of-type th {\n",
       "        text-align: right;\n",
       "    }\n",
       "</style>\n",
       "<table border=\"1\" class=\"dataframe\">\n",
       "  <thead>\n",
       "    <tr>\n",
       "      <th></th>\n",
       "      <th colspan=\"4\" halign=\"left\">c3</th>\n",
       "      <th colspan=\"4\" halign=\"left\">c4</th>\n",
       "    </tr>\n",
       "    <tr>\n",
       "      <th>c2</th>\n",
       "      <th>A</th>\n",
       "      <th>B</th>\n",
       "      <th>C</th>\n",
       "      <th>D</th>\n",
       "      <th>A</th>\n",
       "      <th>B</th>\n",
       "      <th>C</th>\n",
       "      <th>D</th>\n",
       "    </tr>\n",
       "    <tr>\n",
       "      <th>c1</th>\n",
       "      <th></th>\n",
       "      <th></th>\n",
       "      <th></th>\n",
       "      <th></th>\n",
       "      <th></th>\n",
       "      <th></th>\n",
       "      <th></th>\n",
       "      <th></th>\n",
       "    </tr>\n",
       "  </thead>\n",
       "  <tbody>\n",
       "    <tr>\n",
       "      <th>a</th>\n",
       "      <td>3</td>\n",
       "      <td>9</td>\n",
       "      <td>0</td>\n",
       "      <td>0</td>\n",
       "      <td>0.396911</td>\n",
       "      <td>0.773188</td>\n",
       "      <td>0.000000</td>\n",
       "      <td>0.000000</td>\n",
       "    </tr>\n",
       "    <tr>\n",
       "      <th>b</th>\n",
       "      <td>3</td>\n",
       "      <td>4</td>\n",
       "      <td>1</td>\n",
       "      <td>0</td>\n",
       "      <td>0.024320</td>\n",
       "      <td>0.974735</td>\n",
       "      <td>0.525929</td>\n",
       "      <td>0.000000</td>\n",
       "    </tr>\n",
       "    <tr>\n",
       "      <th>c</th>\n",
       "      <td>0</td>\n",
       "      <td>0</td>\n",
       "      <td>0</td>\n",
       "      <td>8</td>\n",
       "      <td>0.000000</td>\n",
       "      <td>0.000000</td>\n",
       "      <td>0.000000</td>\n",
       "      <td>0.978075</td>\n",
       "    </tr>\n",
       "    <tr>\n",
       "      <th>d</th>\n",
       "      <td>0</td>\n",
       "      <td>0</td>\n",
       "      <td>7</td>\n",
       "      <td>0</td>\n",
       "      <td>0.000000</td>\n",
       "      <td>0.000000</td>\n",
       "      <td>0.142736</td>\n",
       "      <td>0.000000</td>\n",
       "    </tr>\n",
       "  </tbody>\n",
       "</table>\n",
       "</div>"
      ],
      "text/plain": [
       "   c3                 c4                              \n",
       "c2  A  B  C  D         A         B         C         D\n",
       "c1                                                    \n",
       "a   3  9  0  0  0.396911  0.773188  0.000000  0.000000\n",
       "b   3  4  1  0  0.024320  0.974735  0.525929  0.000000\n",
       "c   0  0  0  8  0.000000  0.000000  0.000000  0.978075\n",
       "d   0  0  7  0  0.000000  0.000000  0.142736  0.000000"
      ]
     },
     "execution_count": 91,
     "metadata": {},
     "output_type": "execute_result"
    }
   ],
   "source": [
    "df.pivot_table(['c3','c4'],\n",
    "            index = ['c1'],\n",
    "            columns=['c2'],\n",
    "            aggfunc=sum,\n",
    "             fill_value=0)"
   ]
  },
  {
   "cell_type": "code",
   "execution_count": 92,
   "id": "84759576",
   "metadata": {
    "ExecuteTime": {
     "end_time": "2023-05-03T05:58:05.971376Z",
     "start_time": "2023-05-03T05:58:05.940396Z"
    }
   },
   "outputs": [
    {
     "data": {
      "text/html": [
       "<div>\n",
       "<style scoped>\n",
       "    .dataframe tbody tr th:only-of-type {\n",
       "        vertical-align: middle;\n",
       "    }\n",
       "\n",
       "    .dataframe tbody tr th {\n",
       "        vertical-align: top;\n",
       "    }\n",
       "\n",
       "    .dataframe thead th {\n",
       "        text-align: right;\n",
       "    }\n",
       "</style>\n",
       "<table border=\"1\" class=\"dataframe\">\n",
       "  <thead>\n",
       "    <tr style=\"text-align: right;\">\n",
       "      <th>c2</th>\n",
       "      <th>A</th>\n",
       "      <th>B</th>\n",
       "      <th>C</th>\n",
       "      <th>D</th>\n",
       "    </tr>\n",
       "    <tr>\n",
       "      <th>c1</th>\n",
       "      <th></th>\n",
       "      <th></th>\n",
       "      <th></th>\n",
       "      <th></th>\n",
       "    </tr>\n",
       "  </thead>\n",
       "  <tbody>\n",
       "    <tr>\n",
       "      <th>a</th>\n",
       "      <td>1</td>\n",
       "      <td>1</td>\n",
       "      <td>0</td>\n",
       "      <td>0</td>\n",
       "    </tr>\n",
       "    <tr>\n",
       "      <th>b</th>\n",
       "      <td>1</td>\n",
       "      <td>1</td>\n",
       "      <td>1</td>\n",
       "      <td>0</td>\n",
       "    </tr>\n",
       "    <tr>\n",
       "      <th>c</th>\n",
       "      <td>0</td>\n",
       "      <td>0</td>\n",
       "      <td>0</td>\n",
       "      <td>1</td>\n",
       "    </tr>\n",
       "    <tr>\n",
       "      <th>d</th>\n",
       "      <td>0</td>\n",
       "      <td>0</td>\n",
       "      <td>1</td>\n",
       "      <td>0</td>\n",
       "    </tr>\n",
       "  </tbody>\n",
       "</table>\n",
       "</div>"
      ],
      "text/plain": [
       "c2  A  B  C  D\n",
       "c1            \n",
       "a   1  1  0  0\n",
       "b   1  1  1  0\n",
       "c   0  0  0  1\n",
       "d   0  0  1  0"
      ]
     },
     "execution_count": 92,
     "metadata": {},
     "output_type": "execute_result"
    }
   ],
   "source": [
    "pd.crosstab(df.c1,df.c2)"
   ]
  },
  {
   "cell_type": "code",
   "execution_count": 100,
   "id": "9c15d982",
   "metadata": {
    "ExecuteTime": {
     "end_time": "2023-05-03T06:02:50.583711Z",
     "start_time": "2023-05-03T06:02:50.528746Z"
    }
   },
   "outputs": [
    {
     "data": {
      "text/html": [
       "<div>\n",
       "<style scoped>\n",
       "    .dataframe tbody tr th:only-of-type {\n",
       "        vertical-align: middle;\n",
       "    }\n",
       "\n",
       "    .dataframe tbody tr th {\n",
       "        vertical-align: top;\n",
       "    }\n",
       "\n",
       "    .dataframe thead th {\n",
       "        text-align: right;\n",
       "    }\n",
       "</style>\n",
       "<table border=\"1\" class=\"dataframe\">\n",
       "  <thead>\n",
       "    <tr style=\"text-align: right;\">\n",
       "      <th>c2</th>\n",
       "      <th>A</th>\n",
       "      <th>B</th>\n",
       "      <th>C</th>\n",
       "      <th>D</th>\n",
       "      <th>All</th>\n",
       "    </tr>\n",
       "    <tr>\n",
       "      <th>c1</th>\n",
       "      <th></th>\n",
       "      <th></th>\n",
       "      <th></th>\n",
       "      <th></th>\n",
       "      <th></th>\n",
       "    </tr>\n",
       "  </thead>\n",
       "  <tbody>\n",
       "    <tr>\n",
       "      <th>a</th>\n",
       "      <td>3.0</td>\n",
       "      <td>9.0</td>\n",
       "      <td>NaN</td>\n",
       "      <td>NaN</td>\n",
       "      <td>12</td>\n",
       "    </tr>\n",
       "    <tr>\n",
       "      <th>b</th>\n",
       "      <td>3.0</td>\n",
       "      <td>4.0</td>\n",
       "      <td>1.0</td>\n",
       "      <td>NaN</td>\n",
       "      <td>8</td>\n",
       "    </tr>\n",
       "    <tr>\n",
       "      <th>c</th>\n",
       "      <td>NaN</td>\n",
       "      <td>NaN</td>\n",
       "      <td>NaN</td>\n",
       "      <td>8.0</td>\n",
       "      <td>8</td>\n",
       "    </tr>\n",
       "    <tr>\n",
       "      <th>d</th>\n",
       "      <td>NaN</td>\n",
       "      <td>NaN</td>\n",
       "      <td>7.0</td>\n",
       "      <td>NaN</td>\n",
       "      <td>7</td>\n",
       "    </tr>\n",
       "    <tr>\n",
       "      <th>All</th>\n",
       "      <td>6.0</td>\n",
       "      <td>13.0</td>\n",
       "      <td>8.0</td>\n",
       "      <td>8.0</td>\n",
       "      <td>35</td>\n",
       "    </tr>\n",
       "  </tbody>\n",
       "</table>\n",
       "</div>"
      ],
      "text/plain": [
       "c2     A     B    C    D  All\n",
       "c1                           \n",
       "a    3.0   9.0  NaN  NaN   12\n",
       "b    3.0   4.0  1.0  NaN    8\n",
       "c    NaN   NaN  NaN  8.0    8\n",
       "d    NaN   NaN  7.0  NaN    7\n",
       "All  6.0  13.0  8.0  8.0   35"
      ]
     },
     "execution_count": 100,
     "metadata": {},
     "output_type": "execute_result"
    }
   ],
   "source": [
    "pd.crosstab(df[\"c1\"],df[\"c2\"],values=df[\"c3\"],aggfunc=sum,margins=True)"
   ]
  },
  {
   "cell_type": "markdown",
   "id": "866f338f",
   "metadata": {},
   "source": [
    "## 범주형 데이터"
   ]
  },
  {
   "cell_type": "code",
   "execution_count": 123,
   "id": "c17409e3",
   "metadata": {
    "ExecuteTime": {
     "end_time": "2023-05-03T06:13:04.823944Z",
     "start_time": "2023-05-03T06:13:04.809952Z"
    }
   },
   "outputs": [
    {
     "data": {
      "text/plain": [
       "0    c1\n",
       "1    c2\n",
       "2    c1\n",
       "3    c2\n",
       "4    c1\n",
       "5    c1\n",
       "6    c2\n",
       "7    c1\n",
       "8    c2\n",
       "9    c1\n",
       "dtype: object"
      ]
     },
     "execution_count": 123,
     "metadata": {},
     "output_type": "execute_result"
    }
   ],
   "source": [
    "s = pd.Series(['c1','c2','c1','c2','c1']*2)\n",
    "s"
   ]
  },
  {
   "cell_type": "code",
   "execution_count": 124,
   "id": "60fe9d24",
   "metadata": {
    "ExecuteTime": {
     "end_time": "2023-05-03T06:13:05.007446Z",
     "start_time": "2023-05-03T06:13:04.992456Z"
    }
   },
   "outputs": [
    {
     "data": {
      "text/plain": [
       "array(['c1', 'c2'], dtype=object)"
      ]
     },
     "execution_count": 124,
     "metadata": {},
     "output_type": "execute_result"
    }
   ],
   "source": [
    "s.unique()"
   ]
  },
  {
   "cell_type": "code",
   "execution_count": 125,
   "id": "cc2b4eb8",
   "metadata": {
    "ExecuteTime": {
     "end_time": "2023-05-03T06:13:05.189473Z",
     "start_time": "2023-05-03T06:13:05.177480Z"
    }
   },
   "outputs": [
    {
     "data": {
      "text/plain": [
       "c1    6\n",
       "c2    4\n",
       "dtype: int64"
      ]
     },
     "execution_count": 125,
     "metadata": {},
     "output_type": "execute_result"
    }
   ],
   "source": [
    "s.value_counts()"
   ]
  },
  {
   "cell_type": "code",
   "execution_count": 126,
   "id": "8e456f25",
   "metadata": {
    "ExecuteTime": {
     "end_time": "2023-05-03T06:13:05.371550Z",
     "start_time": "2023-05-03T06:13:05.360556Z"
    }
   },
   "outputs": [
    {
     "data": {
      "text/plain": [
       "0    0\n",
       "1    1\n",
       "2    0\n",
       "3    1\n",
       "4    0\n",
       "5    1\n",
       "6    0\n",
       "7    1\n",
       "dtype: int64"
      ]
     },
     "execution_count": 126,
     "metadata": {},
     "output_type": "execute_result"
    }
   ],
   "source": [
    "code = pd.Series([0,1,0,1]*2)\n",
    "code"
   ]
  },
  {
   "cell_type": "code",
   "execution_count": 127,
   "id": "9983facf",
   "metadata": {
    "ExecuteTime": {
     "end_time": "2023-05-03T06:13:05.538472Z",
     "start_time": "2023-05-03T06:13:05.529477Z"
    }
   },
   "outputs": [
    {
     "data": {
      "text/plain": [
       "0    c1\n",
       "1    c2\n",
       "0    c1\n",
       "1    c2\n",
       "0    c1\n",
       "1    c2\n",
       "0    c1\n",
       "1    c2\n",
       "dtype: object"
      ]
     },
     "execution_count": 127,
     "metadata": {},
     "output_type": "execute_result"
    }
   ],
   "source": [
    "d = pd.Series(['c1','c2'])\n",
    "d.take(code)"
   ]
  },
  {
   "cell_type": "code",
   "execution_count": 128,
   "id": "6041b70d",
   "metadata": {
    "ExecuteTime": {
     "end_time": "2023-05-03T06:13:05.765803Z",
     "start_time": "2023-05-03T06:13:05.752810Z"
    }
   },
   "outputs": [
    {
     "data": {
      "text/html": [
       "<div>\n",
       "<style scoped>\n",
       "    .dataframe tbody tr th:only-of-type {\n",
       "        vertical-align: middle;\n",
       "    }\n",
       "\n",
       "    .dataframe tbody tr th {\n",
       "        vertical-align: top;\n",
       "    }\n",
       "\n",
       "    .dataframe thead th {\n",
       "        text-align: right;\n",
       "    }\n",
       "</style>\n",
       "<table border=\"1\" class=\"dataframe\">\n",
       "  <thead>\n",
       "    <tr style=\"text-align: right;\">\n",
       "      <th></th>\n",
       "      <th>id</th>\n",
       "      <th>c</th>\n",
       "      <th>v</th>\n",
       "    </tr>\n",
       "  </thead>\n",
       "  <tbody>\n",
       "    <tr>\n",
       "      <th>0</th>\n",
       "      <td>0</td>\n",
       "      <td>c1</td>\n",
       "      <td>3237</td>\n",
       "    </tr>\n",
       "    <tr>\n",
       "      <th>1</th>\n",
       "      <td>1</td>\n",
       "      <td>c2</td>\n",
       "      <td>4338</td>\n",
       "    </tr>\n",
       "    <tr>\n",
       "      <th>2</th>\n",
       "      <td>2</td>\n",
       "      <td>c1</td>\n",
       "      <td>1523</td>\n",
       "    </tr>\n",
       "    <tr>\n",
       "      <th>3</th>\n",
       "      <td>3</td>\n",
       "      <td>c2</td>\n",
       "      <td>1133</td>\n",
       "    </tr>\n",
       "    <tr>\n",
       "      <th>4</th>\n",
       "      <td>4</td>\n",
       "      <td>c1</td>\n",
       "      <td>4409</td>\n",
       "    </tr>\n",
       "    <tr>\n",
       "      <th>5</th>\n",
       "      <td>5</td>\n",
       "      <td>c1</td>\n",
       "      <td>1465</td>\n",
       "    </tr>\n",
       "    <tr>\n",
       "      <th>6</th>\n",
       "      <td>6</td>\n",
       "      <td>c2</td>\n",
       "      <td>2486</td>\n",
       "    </tr>\n",
       "    <tr>\n",
       "      <th>7</th>\n",
       "      <td>7</td>\n",
       "      <td>c1</td>\n",
       "      <td>3489</td>\n",
       "    </tr>\n",
       "    <tr>\n",
       "      <th>8</th>\n",
       "      <td>8</td>\n",
       "      <td>c2</td>\n",
       "      <td>1046</td>\n",
       "    </tr>\n",
       "    <tr>\n",
       "      <th>9</th>\n",
       "      <td>9</td>\n",
       "      <td>c1</td>\n",
       "      <td>4306</td>\n",
       "    </tr>\n",
       "  </tbody>\n",
       "</table>\n",
       "</div>"
      ],
      "text/plain": [
       "   id   c     v\n",
       "0   0  c1  3237\n",
       "1   1  c2  4338\n",
       "2   2  c1  1523\n",
       "3   3  c2  1133\n",
       "4   4  c1  4409\n",
       "5   5  c1  1465\n",
       "6   6  c2  2486\n",
       "7   7  c1  3489\n",
       "8   8  c2  1046\n",
       "9   9  c1  4306"
      ]
     },
     "execution_count": 128,
     "metadata": {},
     "output_type": "execute_result"
    }
   ],
   "source": [
    "df = pd.DataFrame({\"id\" : np.arange(len(s)),\n",
    "                  'c' : s,\n",
    "                  \"v\" : np.random.randint(1000,5000,size=len(s))})\n",
    "df"
   ]
  },
  {
   "cell_type": "code",
   "execution_count": 133,
   "id": "e4211a34",
   "metadata": {
    "ExecuteTime": {
     "end_time": "2023-05-03T06:13:59.186778Z",
     "start_time": "2023-05-03T06:13:59.176782Z"
    }
   },
   "outputs": [
    {
     "data": {
      "text/plain": [
       "0    c1\n",
       "1    c2\n",
       "2    c1\n",
       "3    c2\n",
       "4    c1\n",
       "5    c1\n",
       "6    c2\n",
       "7    c1\n",
       "8    c2\n",
       "9    c1\n",
       "Name: c, dtype: category\n",
       "Categories (2, object): ['c1', 'c2']"
      ]
     },
     "execution_count": 133,
     "metadata": {},
     "output_type": "execute_result"
    }
   ],
   "source": [
    "c =  df['c'].astype(\"category\")\n",
    "c"
   ]
  },
  {
   "cell_type": "code",
   "execution_count": 137,
   "id": "26516edb",
   "metadata": {
    "ExecuteTime": {
     "end_time": "2023-05-03T06:16:17.516127Z",
     "start_time": "2023-05-03T06:16:17.503135Z"
    }
   },
   "outputs": [
    {
     "data": {
      "text/plain": [
       "array([0, 1, 0, 1, 0, 0, 1, 0, 1, 0], dtype=int8)"
      ]
     },
     "execution_count": 137,
     "metadata": {},
     "output_type": "execute_result"
    }
   ],
   "source": [
    "c.values.codes"
   ]
  },
  {
   "cell_type": "code",
   "execution_count": 141,
   "id": "15969e4a",
   "metadata": {
    "ExecuteTime": {
     "end_time": "2023-05-03T06:20:24.954793Z",
     "start_time": "2023-05-03T06:20:24.938802Z"
    }
   },
   "outputs": [
    {
     "data": {
      "text/plain": [
       "['c1', 'c2', 'c3', 'c1', 'c2']\n",
       "Categories (3, object): ['c1', 'c2', 'c3']"
      ]
     },
     "execution_count": 141,
     "metadata": {},
     "output_type": "execute_result"
    }
   ],
   "source": [
    "c = pd.Categorical(['c1','c2','c3','c1','c2'])\n",
    "c"
   ]
  },
  {
   "cell_type": "code",
   "execution_count": 142,
   "id": "9a6009d4",
   "metadata": {
    "ExecuteTime": {
     "end_time": "2023-05-03T06:28:25.146596Z",
     "start_time": "2023-05-03T06:28:25.133601Z"
    }
   },
   "outputs": [
    {
     "data": {
      "text/plain": [
       "['c1', 'c2', 'c3', 'c1', 'c2']\n",
       "Categories (3, object): ['c1', 'c2', 'c3']"
      ]
     },
     "execution_count": 142,
     "metadata": {},
     "output_type": "execute_result"
    }
   ],
   "source": [
    "categories = ['c1','c2','c3']\n",
    "codes = [0,1,2,0,1]\n",
    "c = pd.Categorical.from_codes(codes,categories)\n",
    "c"
   ]
  },
  {
   "cell_type": "code",
   "execution_count": 143,
   "id": "575afc91",
   "metadata": {
    "ExecuteTime": {
     "end_time": "2023-05-03T06:29:11.409999Z",
     "start_time": "2023-05-03T06:29:11.397006Z"
    }
   },
   "outputs": [
    {
     "data": {
      "text/plain": [
       "['c1', 'c2', 'c3', 'c1', 'c2']\n",
       "Categories (3, object): ['c1' < 'c2' < 'c3']"
      ]
     },
     "execution_count": 143,
     "metadata": {},
     "output_type": "execute_result"
    }
   ],
   "source": [
    "pd.Categorical.from_codes(codes,categories,ordered=True)"
   ]
  },
  {
   "cell_type": "code",
   "execution_count": 144,
   "id": "35253885",
   "metadata": {
    "ExecuteTime": {
     "end_time": "2023-05-03T06:29:28.488103Z",
     "start_time": "2023-05-03T06:29:28.468789Z"
    }
   },
   "outputs": [
    {
     "data": {
      "text/plain": [
       "['c1', 'c2', 'c3', 'c1', 'c2']\n",
       "Categories (3, object): ['c1' < 'c2' < 'c3']"
      ]
     },
     "execution_count": 144,
     "metadata": {},
     "output_type": "execute_result"
    }
   ],
   "source": [
    "c.as_ordered() "
   ]
  },
  {
   "cell_type": "markdown",
   "id": "f8e45615",
   "metadata": {
    "ExecuteTime": {
     "end_time": "2023-05-03T06:31:31.690841Z",
     "start_time": "2023-05-03T06:31:31.682847Z"
    }
   },
   "source": [
    "# 문자열 연산"
   ]
  },
  {
   "cell_type": "code",
   "execution_count": 147,
   "id": "8d6ba8d0",
   "metadata": {
    "ExecuteTime": {
     "end_time": "2023-05-03T06:37:48.209321Z",
     "start_time": "2023-05-03T06:37:48.190333Z"
    }
   },
   "outputs": [
    {
     "data": {
      "text/plain": [
       "0         Susan lee \n",
       "1        Steven Jobs\n",
       "2         Larry page\n",
       "3          Elon Must\n",
       "4               None\n",
       "5         Bill Gates\n",
       "6    Mark Zuckerberg\n",
       "7        Jeff Bezoes\n",
       "dtype: object"
      ]
     },
     "execution_count": 147,
     "metadata": {},
     "output_type": "execute_result"
    }
   ],
   "source": [
    "name_tuple = ['Susan lee ', 'Steven Jobs', 'Larry page', 'Elon Must',None,'Bill Gates', 'Mark Zuckerberg','Jeff Bezoes']\n",
    "names = pd.Series(name_tuple)\n",
    "names"
   ]
  },
  {
   "cell_type": "code",
   "execution_count": 151,
   "id": "1b89a9e8",
   "metadata": {
    "ExecuteTime": {
     "end_time": "2023-05-03T06:38:15.766547Z",
     "start_time": "2023-05-03T06:38:15.757551Z"
    }
   },
   "outputs": [
    {
     "data": {
      "text/plain": [
       "0         susan lee \n",
       "1        steven jobs\n",
       "2         larry page\n",
       "3          elon must\n",
       "4               None\n",
       "5         bill gates\n",
       "6    mark zuckerberg\n",
       "7        jeff bezoes\n",
       "dtype: object"
      ]
     },
     "execution_count": 151,
     "metadata": {},
     "output_type": "execute_result"
    }
   ],
   "source": [
    "names.str.lower()"
   ]
  },
  {
   "cell_type": "code",
   "execution_count": 153,
   "id": "4a565cd4",
   "metadata": {
    "ExecuteTime": {
     "end_time": "2023-05-03T06:38:30.332781Z",
     "start_time": "2023-05-03T06:38:30.317790Z"
    }
   },
   "outputs": [
    {
     "data": {
      "text/plain": [
       "0    10.0\n",
       "1    11.0\n",
       "2    10.0\n",
       "3     9.0\n",
       "4     NaN\n",
       "5    10.0\n",
       "6    15.0\n",
       "7    11.0\n",
       "dtype: float64"
      ]
     },
     "execution_count": 153,
     "metadata": {},
     "output_type": "execute_result"
    }
   ],
   "source": [
    "names.str.len()"
   ]
  },
  {
   "cell_type": "code",
   "execution_count": 154,
   "id": "a1a1b5c4",
   "metadata": {
    "ExecuteTime": {
     "end_time": "2023-05-03T06:38:38.640671Z",
     "start_time": "2023-05-03T06:38:38.621685Z"
    }
   },
   "outputs": [
    {
     "data": {
      "text/plain": [
       "0          [Susan, lee]\n",
       "1        [Steven, Jobs]\n",
       "2         [Larry, page]\n",
       "3          [Elon, Must]\n",
       "4                  None\n",
       "5         [Bill, Gates]\n",
       "6    [Mark, Zuckerberg]\n",
       "7        [Jeff, Bezoes]\n",
       "dtype: object"
      ]
     },
     "execution_count": 154,
     "metadata": {},
     "output_type": "execute_result"
    }
   ],
   "source": [
    "names.str.split()"
   ]
  },
  {
   "cell_type": "code",
   "execution_count": 157,
   "id": "9e5f9b97",
   "metadata": {
    "ExecuteTime": {
     "end_time": "2023-05-03T06:39:00.966266Z",
     "start_time": "2023-05-03T06:39:00.957272Z"
    }
   },
   "outputs": [
    {
     "data": {
      "text/plain": [
       "0    Susan\n",
       "1    Steve\n",
       "2    Larry\n",
       "3    Elon \n",
       "4     None\n",
       "5    Bill \n",
       "6    Mark \n",
       "7    Jeff \n",
       "dtype: object"
      ]
     },
     "execution_count": 157,
     "metadata": {},
     "output_type": "execute_result"
    }
   ],
   "source": [
    "names.str[0:5]"
   ]
  },
  {
   "cell_type": "code",
   "execution_count": 163,
   "id": "3f611ba7",
   "metadata": {
    "ExecuteTime": {
     "end_time": "2023-05-03T06:39:43.114841Z",
     "start_time": "2023-05-03T06:39:43.100851Z"
    }
   },
   "outputs": [
    {
     "data": {
      "text/plain": [
       "0           lee\n",
       "1          Jobs\n",
       "2          page\n",
       "3          Must\n",
       "4          None\n",
       "5         Gates\n",
       "6    Zuckerberg\n",
       "7        Bezoes\n",
       "dtype: object"
      ]
     },
     "execution_count": 163,
     "metadata": {},
     "output_type": "execute_result"
    }
   ],
   "source": [
    "names.str.split().str.get(-1)"
   ]
  },
  {
   "cell_type": "code",
   "execution_count": 164,
   "id": "8036ea12",
   "metadata": {
    "ExecuteTime": {
     "end_time": "2023-05-03T06:40:09.023873Z",
     "start_time": "2023-05-03T06:40:09.004885Z"
    }
   },
   "outputs": [
    {
     "data": {
      "text/plain": [
       "0     Susan\n",
       "1    Steven\n",
       "2     Larry\n",
       "3      Elon\n",
       "4      None\n",
       "5      Bill\n",
       "6      Mark\n",
       "7      Jeff\n",
       "dtype: object"
      ]
     },
     "execution_count": 164,
     "metadata": {},
     "output_type": "execute_result"
    }
   ],
   "source": [
    "names.str.split().str.get(0)"
   ]
  },
  {
   "cell_type": "code",
   "execution_count": 165,
   "id": "9bc727a6",
   "metadata": {
    "ExecuteTime": {
     "end_time": "2023-05-03T06:40:26.581246Z",
     "start_time": "2023-05-03T06:40:26.572252Z"
    }
   },
   "outputs": [
    {
     "data": {
      "text/plain": [
       "0              Susan lee Susan lee \n",
       "1            Steven JobsSteven Jobs\n",
       "2              Larry pageLarry page\n",
       "3                Elon MustElon Must\n",
       "4                              None\n",
       "5              Bill GatesBill Gates\n",
       "6    Mark ZuckerbergMark Zuckerberg\n",
       "7            Jeff BezoesJeff Bezoes\n",
       "dtype: object"
      ]
     },
     "execution_count": 165,
     "metadata": {},
     "output_type": "execute_result"
    }
   ],
   "source": [
    "names.str.repeat(2)"
   ]
  },
  {
   "cell_type": "code",
   "execution_count": 166,
   "id": "78168154",
   "metadata": {
    "ExecuteTime": {
     "end_time": "2023-05-03T06:40:42.886071Z",
     "start_time": "2023-05-03T06:40:42.868083Z"
    }
   },
   "outputs": [
    {
     "data": {
      "text/plain": [
       "0              S*u*s*a*n* *l*e*e* \n",
       "1            S*t*e*v*e*n* *J*o*b*s\n",
       "2              L*a*r*r*y* *p*a*g*e\n",
       "3                E*l*o*n* *M*u*s*t\n",
       "4                             None\n",
       "5              B*i*l*l* *G*a*t*e*s\n",
       "6    M*a*r*k* *Z*u*c*k*e*r*b*e*r*g\n",
       "7            J*e*f*f* *B*e*z*o*e*s\n",
       "dtype: object"
      ]
     },
     "execution_count": 166,
     "metadata": {},
     "output_type": "execute_result"
    }
   ],
   "source": [
    "names.str.join(\"*\")"
   ]
  },
  {
   "cell_type": "code",
   "execution_count": null,
   "id": "50e5eb66",
   "metadata": {},
   "outputs": [],
   "source": []
  }
 ],
 "metadata": {
  "kernelspec": {
   "display_name": "Python 3 (ipykernel)",
   "language": "python",
   "name": "python3"
  },
  "language_info": {
   "codemirror_mode": {
    "name": "ipython",
    "version": 3
   },
   "file_extension": ".py",
   "mimetype": "text/x-python",
   "name": "python",
   "nbconvert_exporter": "python",
   "pygments_lexer": "ipython3",
   "version": "3.10.9"
  },
  "toc": {
   "base_numbering": 1,
   "nav_menu": {},
   "number_sections": true,
   "sideBar": true,
   "skip_h1_title": false,
   "title_cell": "Table of Contents",
   "title_sidebar": "Contents",
   "toc_cell": false,
   "toc_position": {},
   "toc_section_display": true,
   "toc_window_display": false
  }
 },
 "nbformat": 4,
 "nbformat_minor": 5
}
