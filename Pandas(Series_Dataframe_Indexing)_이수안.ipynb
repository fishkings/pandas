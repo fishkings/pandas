{
 "cells": [
  {
   "cell_type": "code",
   "execution_count": 2,
   "id": "fb3cfeda",
   "metadata": {
    "ExecuteTime": {
     "end_time": "2023-04-26T03:58:40.481886Z",
     "start_time": "2023-04-26T03:58:38.446500Z"
    }
   },
   "outputs": [
    {
     "data": {
      "text/plain": [
       "'1.5.2'"
      ]
     },
     "execution_count": 2,
     "metadata": {},
     "output_type": "execute_result"
    }
   ],
   "source": [
    "import numpy as np\n",
    "import pandas as pd\n",
    "pd.__version__"
   ]
  },
  {
   "cell_type": "markdown",
   "id": "4e96bb89",
   "metadata": {
    "ExecuteTime": {
     "end_time": "2023-04-24T04:44:51.203161Z",
     "start_time": "2023-04-24T04:44:51.192170Z"
    }
   },
   "source": [
    "# Series"
   ]
  },
  {
   "cell_type": "code",
   "execution_count": 3,
   "id": "a23a0176",
   "metadata": {
    "ExecuteTime": {
     "end_time": "2023-04-26T03:58:40.496877Z",
     "start_time": "2023-04-26T03:58:40.485883Z"
    }
   },
   "outputs": [
    {
     "data": {
      "text/plain": [
       "0    1\n",
       "1    2\n",
       "2    3\n",
       "3    4\n",
       "4    5\n",
       "dtype: int64"
      ]
     },
     "execution_count": 3,
     "metadata": {},
     "output_type": "execute_result"
    }
   ],
   "source": [
    "a = pd.Series([1,2,3,4,5])\n",
    "a"
   ]
  },
  {
   "cell_type": "code",
   "execution_count": 5,
   "id": "4afb1b6a",
   "metadata": {
    "ExecuteTime": {
     "end_time": "2023-04-26T03:58:55.559698Z",
     "start_time": "2023-04-26T03:58:55.542708Z"
    }
   },
   "outputs": [
    {
     "data": {
      "text/plain": [
       "(array([1, 2, 3, 4, 5], dtype=int64), RangeIndex(start=0, stop=5, step=1))"
      ]
     },
     "execution_count": 5,
     "metadata": {},
     "output_type": "execute_result"
    }
   ],
   "source": [
    "a.values, a.index"
   ]
  },
  {
   "cell_type": "code",
   "execution_count": 6,
   "id": "5cfab0b1",
   "metadata": {
    "ExecuteTime": {
     "end_time": "2023-04-26T03:58:59.281297Z",
     "start_time": "2023-04-26T03:58:59.261665Z"
    }
   },
   "outputs": [
    {
     "data": {
      "text/plain": [
       "a    1\n",
       "b    2\n",
       "c    3\n",
       "d    4\n",
       "e    5\n",
       "dtype: int64"
      ]
     },
     "execution_count": 6,
     "metadata": {},
     "output_type": "execute_result"
    }
   ],
   "source": [
    "b = pd.Series([1,2,3,4,5], index=[\"a\",\"b\",\"c\",\"d\",\"e\"])\n",
    "b"
   ]
  },
  {
   "cell_type": "code",
   "execution_count": 7,
   "id": "fd4b39ad",
   "metadata": {
    "ExecuteTime": {
     "end_time": "2023-04-26T03:58:59.584652Z",
     "start_time": "2023-04-26T03:58:59.566662Z"
    }
   },
   "outputs": [
    {
     "data": {
      "text/plain": [
       "(array([1, 2, 3, 4, 5], dtype=int64),\n",
       " 1    1\n",
       " 2    1\n",
       " 3    1\n",
       " 4    1\n",
       " 5    1\n",
       " dtype: int64)"
      ]
     },
     "execution_count": 7,
     "metadata": {},
     "output_type": "execute_result"
    }
   ],
   "source": [
    "b.unique(), b.value_counts()"
   ]
  },
  {
   "cell_type": "code",
   "execution_count": 8,
   "id": "bf1fb534",
   "metadata": {
    "ExecuteTime": {
     "end_time": "2023-04-26T03:58:59.826647Z",
     "start_time": "2023-04-26T03:58:59.806659Z"
    }
   },
   "outputs": [
    {
     "data": {
      "text/plain": [
       "a    False\n",
       "b    False\n",
       "c     True\n",
       "d    False\n",
       "e     True\n",
       "dtype: bool"
      ]
     },
     "execution_count": 8,
     "metadata": {},
     "output_type": "execute_result"
    }
   ],
   "source": [
    "b.isin([3,5])"
   ]
  },
  {
   "cell_type": "markdown",
   "id": "b5b29ad9",
   "metadata": {},
   "source": [
    "# DataFrame"
   ]
  },
  {
   "cell_type": "code",
   "execution_count": 12,
   "id": "097f5e7a",
   "metadata": {
    "ExecuteTime": {
     "end_time": "2023-04-26T03:59:10.849520Z",
     "start_time": "2023-04-26T03:59:10.830534Z"
    }
   },
   "outputs": [],
   "source": [
    "pop_tuple = {'서울 특별시': 9708460,\n",
    "            '인천 광역시' : 3404424,\n",
    "            '부산 광역시' : 2947217,\n",
    "            '대구 광역시' : 2427954,\n",
    "            '대전 광역시' : 1471040,\n",
    "            '광주 광역시' : 1455048}"
   ]
  },
  {
   "cell_type": "code",
   "execution_count": 13,
   "id": "f91893d7",
   "metadata": {
    "ExecuteTime": {
     "end_time": "2023-04-26T03:59:11.107683Z",
     "start_time": "2023-04-26T03:59:11.086949Z"
    }
   },
   "outputs": [
    {
     "data": {
      "text/plain": [
       "서울 특별시    9708460\n",
       "인천 광역시    3404424\n",
       "부산 광역시    2947217\n",
       "대구 광역시    2427954\n",
       "대전 광역시    1471040\n",
       "광주 광역시    1455048\n",
       "dtype: int64"
      ]
     },
     "execution_count": 13,
     "metadata": {},
     "output_type": "execute_result"
    }
   ],
   "source": [
    "population = pd.Series(pop_tuple)\n",
    "population"
   ]
  },
  {
   "cell_type": "code",
   "execution_count": 14,
   "id": "faff9961",
   "metadata": {
    "ExecuteTime": {
     "end_time": "2023-04-26T03:59:11.593412Z",
     "start_time": "2023-04-26T03:59:11.574423Z"
    }
   },
   "outputs": [
    {
     "data": {
      "text/html": [
       "<div>\n",
       "<style scoped>\n",
       "    .dataframe tbody tr th:only-of-type {\n",
       "        vertical-align: middle;\n",
       "    }\n",
       "\n",
       "    .dataframe tbody tr th {\n",
       "        vertical-align: top;\n",
       "    }\n",
       "\n",
       "    .dataframe thead th {\n",
       "        text-align: right;\n",
       "    }\n",
       "</style>\n",
       "<table border=\"1\" class=\"dataframe\">\n",
       "  <thead>\n",
       "    <tr style=\"text-align: right;\">\n",
       "      <th></th>\n",
       "      <th>a</th>\n",
       "      <th>b</th>\n",
       "      <th>c</th>\n",
       "      <th>d</th>\n",
       "      <th>e</th>\n",
       "    </tr>\n",
       "  </thead>\n",
       "  <tbody>\n",
       "    <tr>\n",
       "      <th>1</th>\n",
       "      <td>0.543957</td>\n",
       "      <td>0.881881</td>\n",
       "      <td>0.724633</td>\n",
       "      <td>0.162198</td>\n",
       "      <td>0.801944</td>\n",
       "    </tr>\n",
       "    <tr>\n",
       "      <th>2</th>\n",
       "      <td>0.509862</td>\n",
       "      <td>0.014799</td>\n",
       "      <td>0.833257</td>\n",
       "      <td>0.097189</td>\n",
       "      <td>0.731968</td>\n",
       "    </tr>\n",
       "    <tr>\n",
       "      <th>3</th>\n",
       "      <td>0.483029</td>\n",
       "      <td>0.044825</td>\n",
       "      <td>0.281936</td>\n",
       "      <td>0.831184</td>\n",
       "      <td>0.727593</td>\n",
       "    </tr>\n",
       "    <tr>\n",
       "      <th>4</th>\n",
       "      <td>0.076813</td>\n",
       "      <td>0.837387</td>\n",
       "      <td>0.896001</td>\n",
       "      <td>0.281954</td>\n",
       "      <td>0.374519</td>\n",
       "    </tr>\n",
       "    <tr>\n",
       "      <th>5</th>\n",
       "      <td>0.032600</td>\n",
       "      <td>0.187077</td>\n",
       "      <td>0.856868</td>\n",
       "      <td>0.685612</td>\n",
       "      <td>0.975498</td>\n",
       "    </tr>\n",
       "  </tbody>\n",
       "</table>\n",
       "</div>"
      ],
      "text/plain": [
       "          a         b         c         d         e\n",
       "1  0.543957  0.881881  0.724633  0.162198  0.801944\n",
       "2  0.509862  0.014799  0.833257  0.097189  0.731968\n",
       "3  0.483029  0.044825  0.281936  0.831184  0.727593\n",
       "4  0.076813  0.837387  0.896001  0.281954  0.374519\n",
       "5  0.032600  0.187077  0.856868  0.685612  0.975498"
      ]
     },
     "execution_count": 14,
     "metadata": {},
     "output_type": "execute_result"
    }
   ],
   "source": [
    "pd.DataFrame(np.random.rand(5,5),\n",
    "            index = [1,2,3,4,5],\n",
    "            columns=[\"a\",\"b\",\"c\",\"d\",\"e\"])"
   ]
  },
  {
   "cell_type": "code",
   "execution_count": 15,
   "id": "96b39594",
   "metadata": {
    "ExecuteTime": {
     "end_time": "2023-04-26T03:59:11.804408Z",
     "start_time": "2023-04-26T03:59:11.798409Z"
    }
   },
   "outputs": [],
   "source": [
    "male_tuple = {'서울 특별시': 4758460,\n",
    "            '인천 광역시' : 1668424,\n",
    "            '부산 광역시' : 1437217,\n",
    "            '대구 광역시' : 1199854,\n",
    "            '대전 광역시' : 713040,\n",
    "            '광주 광역시' : 755048}\n",
    "\n",
    "female_tuple = {'서울 특별시': 4908460,\n",
    "            '인천 광역시' : 1784424,\n",
    "            '부산 광역시' : 1337217,\n",
    "            '대구 광역시' : 1259854,\n",
    "            '대전 광역시' : 735740,\n",
    "            '광주 광역시' : 713638}"
   ]
  },
  {
   "cell_type": "code",
   "execution_count": 16,
   "id": "50e38c7f",
   "metadata": {
    "ExecuteTime": {
     "end_time": "2023-04-26T03:59:12.064510Z",
     "start_time": "2023-04-26T03:59:12.046520Z"
    }
   },
   "outputs": [],
   "source": [
    "korea_df = pd.DataFrame({\"인구수\" : pop_tuple,\n",
    "              \"남자 인구수\" : male_tuple,\n",
    "             \"여자 인구수\" : female_tuple})"
   ]
  },
  {
   "cell_type": "code",
   "execution_count": 17,
   "id": "e6e6a493",
   "metadata": {
    "ExecuteTime": {
     "end_time": "2023-04-26T03:59:12.516660Z",
     "start_time": "2023-04-26T03:59:12.503668Z"
    }
   },
   "outputs": [
    {
     "name": "stdout",
     "output_type": "stream",
     "text": [
      "Index(['서울 특별시', '인천 광역시', '부산 광역시', '대구 광역시', '대전 광역시', '광주 광역시'], dtype='object')\n",
      "\n",
      " Index(['인구수', '남자 인구수', '여자 인구수'], dtype='object')\n"
     ]
    }
   ],
   "source": [
    "print(korea_df.index)\n",
    "print(\"\\n\", korea_df.columns)"
   ]
  },
  {
   "cell_type": "code",
   "execution_count": 19,
   "id": "238f5b45",
   "metadata": {
    "ExecuteTime": {
     "end_time": "2023-04-26T03:59:26.689339Z",
     "start_time": "2023-04-26T03:59:26.670352Z"
    }
   },
   "outputs": [
    {
     "data": {
      "text/html": [
       "<div>\n",
       "<style scoped>\n",
       "    .dataframe tbody tr th:only-of-type {\n",
       "        vertical-align: middle;\n",
       "    }\n",
       "\n",
       "    .dataframe tbody tr th {\n",
       "        vertical-align: top;\n",
       "    }\n",
       "\n",
       "    .dataframe thead th {\n",
       "        text-align: right;\n",
       "    }\n",
       "</style>\n",
       "<table border=\"1\" class=\"dataframe\">\n",
       "  <thead>\n",
       "    <tr style=\"text-align: right;\">\n",
       "      <th></th>\n",
       "      <th>인구수</th>\n",
       "      <th>남자 인구수</th>\n",
       "      <th>여자 인구수</th>\n",
       "    </tr>\n",
       "  </thead>\n",
       "  <tbody>\n",
       "    <tr>\n",
       "      <th>서울 특별시</th>\n",
       "      <td>9708460</td>\n",
       "      <td>4758460</td>\n",
       "      <td>4908460</td>\n",
       "    </tr>\n",
       "    <tr>\n",
       "      <th>인천 광역시</th>\n",
       "      <td>3404424</td>\n",
       "      <td>1668424</td>\n",
       "      <td>1784424</td>\n",
       "    </tr>\n",
       "    <tr>\n",
       "      <th>부산 광역시</th>\n",
       "      <td>2947217</td>\n",
       "      <td>1437217</td>\n",
       "      <td>1337217</td>\n",
       "    </tr>\n",
       "    <tr>\n",
       "      <th>대구 광역시</th>\n",
       "      <td>2427954</td>\n",
       "      <td>1199854</td>\n",
       "      <td>1259854</td>\n",
       "    </tr>\n",
       "    <tr>\n",
       "      <th>대전 광역시</th>\n",
       "      <td>1471040</td>\n",
       "      <td>713040</td>\n",
       "      <td>735740</td>\n",
       "    </tr>\n",
       "  </tbody>\n",
       "</table>\n",
       "</div>"
      ],
      "text/plain": [
       "            인구수   남자 인구수   여자 인구수\n",
       "서울 특별시  9708460  4758460  4908460\n",
       "인천 광역시  3404424  1668424  1784424\n",
       "부산 광역시  2947217  1437217  1337217\n",
       "대구 광역시  2427954  1199854  1259854\n",
       "대전 광역시  1471040   713040   735740"
      ]
     },
     "execution_count": 19,
     "metadata": {},
     "output_type": "execute_result"
    }
   ],
   "source": [
    "korea_df[\"서울 특별시\":\"대전 광역시\"]"
   ]
  },
  {
   "cell_type": "markdown",
   "id": "d25c7593",
   "metadata": {
    "ExecuteTime": {
     "end_time": "2023-04-26T04:08:51.670820Z",
     "start_time": "2023-04-26T04:08:51.655829Z"
    }
   },
   "source": [
    "# Index 객체\n",
    "\n",
    "| 클래스 | 설명 |\n",
    "|------|------|\n",
    "|`index`|일반적인 Index 객체이며, Numpy 배열 형식으로 축의 이름 표현|\n",
    "|`int64Index`|정수 값을 위한 Index|\n",
    "|`MultiIndex`| 단일 축에 여러 단계 색인을 표현하는 계층적 Index객체(튜플의 배열과 유사)|\n",
    "|`PeriodIndex`|기간 데이터를 위한 Index|\n",
    "|`DatetimeIndex`|Numpy의 datetime64 타입으로 타임스탬프 저장|\n"
   ]
  },
  {
   "cell_type": "code",
   "execution_count": 20,
   "id": "77d1a47c",
   "metadata": {
    "ExecuteTime": {
     "end_time": "2023-04-26T03:59:28.153324Z",
     "start_time": "2023-04-26T03:59:28.133337Z"
    }
   },
   "outputs": [
    {
     "data": {
      "text/plain": [
       "Int64Index([2, 3, 4, 5], dtype='int64')"
      ]
     },
     "execution_count": 20,
     "metadata": {},
     "output_type": "execute_result"
    }
   ],
   "source": [
    "idx = pd.Index([2,3,4,5])\n",
    "idx"
   ]
  },
  {
   "cell_type": "code",
   "execution_count": 25,
   "id": "b493304b",
   "metadata": {
    "ExecuteTime": {
     "end_time": "2023-04-26T04:00:33.671541Z",
     "start_time": "2023-04-26T04:00:33.653552Z"
    }
   },
   "outputs": [
    {
     "name": "stdout",
     "output_type": "stream",
     "text": [
      "idx : Int64Index([2, 3, 4, 5], dtype='int64')\n",
      "idx size : 4\n",
      "idx shape : (4,)\n",
      "idx ndim : 1\n",
      "idx dtype : int64\n"
     ]
    }
   ],
   "source": [
    "print(\"idx :\", idx)\n",
    "print(\"idx size :\",idx.size)\n",
    "print(\"idx shape :\",idx.shape)\n",
    "print(\"idx ndim :\",idx.ndim)\n",
    "print(\"idx dtype :\",idx.dtype)"
   ]
  },
  {
   "cell_type": "code",
   "execution_count": 39,
   "id": "3fb9401f",
   "metadata": {
    "ExecuteTime": {
     "end_time": "2023-04-26T04:11:50.444752Z",
     "start_time": "2023-04-26T04:11:50.421766Z"
    }
   },
   "outputs": [
    {
     "name": "stdout",
     "output_type": "stream",
     "text": [
      "append 연산 : Int64Index([1, 2, 4, 6, 8, 2, 4, 5, 6, 7], dtype='int64')\n",
      "difference 연산 : Int64Index([1, 8], dtype='int64')\n",
      "intersection 연산 :  Int64Index([2, 4, 6], dtype='int64')\n",
      "union 연산 :  Int64Index([1, 2, 4, 5, 6, 7, 8], dtype='int64')\n",
      "drop 연산 :  Int64Index([1, 2, 6, 8], dtype='int64')\n",
      "isin 연산 :  [False  True  True  True False]\n"
     ]
    }
   ],
   "source": [
    "idx1 = pd.Index([1,2,4,6,8])\n",
    "idx2 = pd.Index([2,4,5,6,7])\n",
    "\n",
    "print(\"append 연산 :\",  idx1.append(idx2))\n",
    "print(\"difference 연산 :\",  idx1.difference(idx2))\n",
    "print(\"intersection 연산 : \", idx1.intersection(idx2))\n",
    "print(\"union 연산 : \", idx1.union(idx2))\n",
    "print(\"drop 연산 : \", idx1.drop(4))\n",
    "print(\"isin 연산 : \", idx1.isin(idx2))"
   ]
  },
  {
   "cell_type": "markdown",
   "id": "ec7f6f96",
   "metadata": {},
   "source": [
    "# Indexing"
   ]
  },
  {
   "cell_type": "markdown",
   "id": "e25bbbe7",
   "metadata": {},
   "source": [
    "## Series Indexing "
   ]
  },
  {
   "cell_type": "code",
   "execution_count": 40,
   "id": "65d3d914",
   "metadata": {
    "ExecuteTime": {
     "end_time": "2023-04-26T04:15:03.215536Z",
     "start_time": "2023-04-26T04:15:03.204542Z"
    }
   },
   "outputs": [
    {
     "data": {
      "text/plain": [
       "a    0.00\n",
       "b    0.25\n",
       "c    0.50\n",
       "d    0.75\n",
       "e    1.00\n",
       "dtype: float64"
      ]
     },
     "execution_count": 40,
     "metadata": {},
     "output_type": "execute_result"
    }
   ],
   "source": [
    "a = pd.Series([0,0.25,0.5,0.75,1],\n",
    "             index = ['a','b','c','d','e'])\n",
    "a"
   ]
  },
  {
   "cell_type": "code",
   "execution_count": 41,
   "id": "e9ec9cb1",
   "metadata": {
    "ExecuteTime": {
     "end_time": "2023-04-26T04:15:12.335758Z",
     "start_time": "2023-04-26T04:15:12.315436Z"
    }
   },
   "outputs": [
    {
     "data": {
      "text/plain": [
       "Index(['a', 'b', 'c', 'd', 'e'], dtype='object')"
      ]
     },
     "execution_count": 41,
     "metadata": {},
     "output_type": "execute_result"
    }
   ],
   "source": [
    "a.keys()"
   ]
  },
  {
   "cell_type": "code",
   "execution_count": 44,
   "id": "5e3a6bfd",
   "metadata": {
    "ExecuteTime": {
     "end_time": "2023-04-26T04:15:38.142135Z",
     "start_time": "2023-04-26T04:15:38.132139Z"
    }
   },
   "outputs": [
    {
     "data": {
      "text/plain": [
       "[('a', 0.0), ('b', 0.25), ('c', 0.5), ('d', 0.75), ('e', 1.0)]"
      ]
     },
     "execution_count": 44,
     "metadata": {},
     "output_type": "execute_result"
    }
   ],
   "source": [
    "list(a.items())"
   ]
  },
  {
   "cell_type": "code",
   "execution_count": 46,
   "id": "63d109c0",
   "metadata": {
    "ExecuteTime": {
     "end_time": "2023-04-26T04:15:51.555740Z",
     "start_time": "2023-04-26T04:15:51.546745Z"
    }
   },
   "outputs": [
    {
     "data": {
      "text/plain": [
       "a    0.00\n",
       "b    0.25\n",
       "c    0.50\n",
       "d    0.75\n",
       "e    1.00\n",
       "f    1.25\n",
       "dtype: float64"
      ]
     },
     "execution_count": 46,
     "metadata": {},
     "output_type": "execute_result"
    }
   ],
   "source": [
    "a['f'] = 1.25\n",
    "a"
   ]
  },
  {
   "cell_type": "code",
   "execution_count": 51,
   "id": "cc9a88f8",
   "metadata": {
    "ExecuteTime": {
     "end_time": "2023-04-26T04:16:58.465088Z",
     "start_time": "2023-04-26T04:16:58.444101Z"
    }
   },
   "outputs": [
    {
     "data": {
      "text/plain": [
       "c    0.5\n",
       "dtype: float64"
      ]
     },
     "execution_count": 51,
     "metadata": {},
     "output_type": "execute_result"
    }
   ],
   "source": [
    "a[(a>0.4) & (a< 0.6)]"
   ]
  },
  {
   "cell_type": "markdown",
   "id": "5d709ca0",
   "metadata": {},
   "source": [
    "## DataFrame Indexing "
   ]
  },
  {
   "cell_type": "code",
   "execution_count": 65,
   "id": "709a4b57",
   "metadata": {
    "ExecuteTime": {
     "end_time": "2023-04-26T04:20:05.198048Z",
     "start_time": "2023-04-26T04:20:05.184057Z"
    }
   },
   "outputs": [
    {
     "data": {
      "text/html": [
       "<div>\n",
       "<style scoped>\n",
       "    .dataframe tbody tr th:only-of-type {\n",
       "        vertical-align: middle;\n",
       "    }\n",
       "\n",
       "    .dataframe tbody tr th {\n",
       "        vertical-align: top;\n",
       "    }\n",
       "\n",
       "    .dataframe thead th {\n",
       "        text-align: right;\n",
       "    }\n",
       "</style>\n",
       "<table border=\"1\" class=\"dataframe\">\n",
       "  <thead>\n",
       "    <tr style=\"text-align: right;\">\n",
       "      <th></th>\n",
       "      <th>인구수</th>\n",
       "      <th>남자 인구수</th>\n",
       "      <th>여자 인구수</th>\n",
       "    </tr>\n",
       "  </thead>\n",
       "  <tbody>\n",
       "    <tr>\n",
       "      <th>서울 특별시</th>\n",
       "      <td>9708460</td>\n",
       "      <td>4758460</td>\n",
       "      <td>4908460</td>\n",
       "    </tr>\n",
       "    <tr>\n",
       "      <th>인천 광역시</th>\n",
       "      <td>3404424</td>\n",
       "      <td>1668424</td>\n",
       "      <td>1784424</td>\n",
       "    </tr>\n",
       "    <tr>\n",
       "      <th>부산 광역시</th>\n",
       "      <td>2947217</td>\n",
       "      <td>1437217</td>\n",
       "      <td>1337217</td>\n",
       "    </tr>\n",
       "    <tr>\n",
       "      <th>대구 광역시</th>\n",
       "      <td>2427954</td>\n",
       "      <td>1199854</td>\n",
       "      <td>1259854</td>\n",
       "    </tr>\n",
       "    <tr>\n",
       "      <th>대전 광역시</th>\n",
       "      <td>1471040</td>\n",
       "      <td>713040</td>\n",
       "      <td>735740</td>\n",
       "    </tr>\n",
       "    <tr>\n",
       "      <th>광주 광역시</th>\n",
       "      <td>1455048</td>\n",
       "      <td>755048</td>\n",
       "      <td>713638</td>\n",
       "    </tr>\n",
       "  </tbody>\n",
       "</table>\n",
       "</div>"
      ],
      "text/plain": [
       "            인구수   남자 인구수   여자 인구수\n",
       "서울 특별시  9708460  4758460  4908460\n",
       "인천 광역시  3404424  1668424  1784424\n",
       "부산 광역시  2947217  1437217  1337217\n",
       "대구 광역시  2427954  1199854  1259854\n",
       "대전 광역시  1471040   713040   735740\n",
       "광주 광역시  1455048   755048   713638"
      ]
     },
     "execution_count": 65,
     "metadata": {},
     "output_type": "execute_result"
    }
   ],
   "source": [
    "korea_df"
   ]
  },
  {
   "cell_type": "code",
   "execution_count": 83,
   "id": "9269a713",
   "metadata": {
    "ExecuteTime": {
     "end_time": "2023-04-26T04:23:17.822825Z",
     "start_time": "2023-04-26T04:23:17.808834Z"
    }
   },
   "outputs": [
    {
     "data": {
      "text/plain": [
       "서울 특별시    4758460\n",
       "인천 광역시    1668424\n",
       "부산 광역시    1437217\n",
       "대구 광역시    1199854\n",
       "대전 광역시     713040\n",
       "광주 광역시     755048\n",
       "Name: 남자 인구수, dtype: int64"
      ]
     },
     "execution_count": 83,
     "metadata": {},
     "output_type": "execute_result"
    }
   ],
   "source": [
    "korea_df[\"남자 인구수\"]  # 컬럼은 이렇게 호출 가능"
   ]
  },
  {
   "cell_type": "code",
   "execution_count": 71,
   "id": "23daf7c4",
   "metadata": {
    "ExecuteTime": {
     "end_time": "2023-04-26T04:21:28.299851Z",
     "start_time": "2023-04-26T04:21:28.279862Z"
    }
   },
   "outputs": [
    {
     "data": {
      "text/html": [
       "<div>\n",
       "<style scoped>\n",
       "    .dataframe tbody tr th:only-of-type {\n",
       "        vertical-align: middle;\n",
       "    }\n",
       "\n",
       "    .dataframe tbody tr th {\n",
       "        vertical-align: top;\n",
       "    }\n",
       "\n",
       "    .dataframe thead th {\n",
       "        text-align: right;\n",
       "    }\n",
       "</style>\n",
       "<table border=\"1\" class=\"dataframe\">\n",
       "  <thead>\n",
       "    <tr style=\"text-align: right;\">\n",
       "      <th></th>\n",
       "      <th>인구수</th>\n",
       "      <th>남자 인구수</th>\n",
       "      <th>여자 인구수</th>\n",
       "      <th>남여비율</th>\n",
       "    </tr>\n",
       "  </thead>\n",
       "  <tbody>\n",
       "    <tr>\n",
       "      <th>서울 특별시</th>\n",
       "      <td>9708460</td>\n",
       "      <td>4758460</td>\n",
       "      <td>4908460</td>\n",
       "      <td>96.944052</td>\n",
       "    </tr>\n",
       "    <tr>\n",
       "      <th>인천 광역시</th>\n",
       "      <td>3404424</td>\n",
       "      <td>1668424</td>\n",
       "      <td>1784424</td>\n",
       "      <td>93.499303</td>\n",
       "    </tr>\n",
       "    <tr>\n",
       "      <th>부산 광역시</th>\n",
       "      <td>2947217</td>\n",
       "      <td>1437217</td>\n",
       "      <td>1337217</td>\n",
       "      <td>107.478218</td>\n",
       "    </tr>\n",
       "    <tr>\n",
       "      <th>대구 광역시</th>\n",
       "      <td>2427954</td>\n",
       "      <td>1199854</td>\n",
       "      <td>1259854</td>\n",
       "      <td>95.237543</td>\n",
       "    </tr>\n",
       "    <tr>\n",
       "      <th>대전 광역시</th>\n",
       "      <td>1471040</td>\n",
       "      <td>713040</td>\n",
       "      <td>735740</td>\n",
       "      <td>96.914671</td>\n",
       "    </tr>\n",
       "    <tr>\n",
       "      <th>광주 광역시</th>\n",
       "      <td>1455048</td>\n",
       "      <td>755048</td>\n",
       "      <td>713638</td>\n",
       "      <td>105.802662</td>\n",
       "    </tr>\n",
       "  </tbody>\n",
       "</table>\n",
       "</div>"
      ],
      "text/plain": [
       "            인구수   남자 인구수   여자 인구수        남여비율\n",
       "서울 특별시  9708460  4758460  4908460   96.944052\n",
       "인천 광역시  3404424  1668424  1784424   93.499303\n",
       "부산 광역시  2947217  1437217  1337217  107.478218\n",
       "대구 광역시  2427954  1199854  1259854   95.237543\n",
       "대전 광역시  1471040   713040   735740   96.914671\n",
       "광주 광역시  1455048   755048   713638  105.802662"
      ]
     },
     "execution_count": 71,
     "metadata": {},
     "output_type": "execute_result"
    }
   ],
   "source": [
    "korea_df[\"남여비율\"] = (korea_df[\"남자 인구수\"]* 100 / korea_df[\"여자 인구수\"])\n",
    "korea_df"
   ]
  },
  {
   "cell_type": "code",
   "execution_count": 75,
   "id": "90fb3755",
   "metadata": {
    "ExecuteTime": {
     "end_time": "2023-04-26T04:21:58.772744Z",
     "start_time": "2023-04-26T04:21:58.766748Z"
    }
   },
   "outputs": [
    {
     "data": {
      "text/plain": [
       "array([[9.70846000e+06, 4.75846000e+06, 4.90846000e+06, 9.69440517e+01],\n",
       "       [3.40442400e+06, 1.66842400e+06, 1.78442400e+06, 9.34993029e+01],\n",
       "       [2.94721700e+06, 1.43721700e+06, 1.33721700e+06, 1.07478218e+02],\n",
       "       [2.42795400e+06, 1.19985400e+06, 1.25985400e+06, 9.52375434e+01],\n",
       "       [1.47104000e+06, 7.13040000e+05, 7.35740000e+05, 9.69146709e+01],\n",
       "       [1.45504800e+06, 7.55048000e+05, 7.13638000e+05, 1.05802662e+02]])"
      ]
     },
     "execution_count": 75,
     "metadata": {},
     "output_type": "execute_result"
    }
   ],
   "source": [
    "korea_df.values"
   ]
  },
  {
   "cell_type": "code",
   "execution_count": 76,
   "id": "d092f302",
   "metadata": {
    "ExecuteTime": {
     "end_time": "2023-04-26T04:22:05.328660Z",
     "start_time": "2023-04-26T04:22:05.310671Z"
    }
   },
   "outputs": [
    {
     "data": {
      "text/html": [
       "<div>\n",
       "<style scoped>\n",
       "    .dataframe tbody tr th:only-of-type {\n",
       "        vertical-align: middle;\n",
       "    }\n",
       "\n",
       "    .dataframe tbody tr th {\n",
       "        vertical-align: top;\n",
       "    }\n",
       "\n",
       "    .dataframe thead th {\n",
       "        text-align: right;\n",
       "    }\n",
       "</style>\n",
       "<table border=\"1\" class=\"dataframe\">\n",
       "  <thead>\n",
       "    <tr style=\"text-align: right;\">\n",
       "      <th></th>\n",
       "      <th>서울 특별시</th>\n",
       "      <th>인천 광역시</th>\n",
       "      <th>부산 광역시</th>\n",
       "      <th>대구 광역시</th>\n",
       "      <th>대전 광역시</th>\n",
       "      <th>광주 광역시</th>\n",
       "    </tr>\n",
       "  </thead>\n",
       "  <tbody>\n",
       "    <tr>\n",
       "      <th>인구수</th>\n",
       "      <td>9.708460e+06</td>\n",
       "      <td>3.404424e+06</td>\n",
       "      <td>2.947217e+06</td>\n",
       "      <td>2.427954e+06</td>\n",
       "      <td>1.471040e+06</td>\n",
       "      <td>1.455048e+06</td>\n",
       "    </tr>\n",
       "    <tr>\n",
       "      <th>남자 인구수</th>\n",
       "      <td>4.758460e+06</td>\n",
       "      <td>1.668424e+06</td>\n",
       "      <td>1.437217e+06</td>\n",
       "      <td>1.199854e+06</td>\n",
       "      <td>7.130400e+05</td>\n",
       "      <td>7.550480e+05</td>\n",
       "    </tr>\n",
       "    <tr>\n",
       "      <th>여자 인구수</th>\n",
       "      <td>4.908460e+06</td>\n",
       "      <td>1.784424e+06</td>\n",
       "      <td>1.337217e+06</td>\n",
       "      <td>1.259854e+06</td>\n",
       "      <td>7.357400e+05</td>\n",
       "      <td>7.136380e+05</td>\n",
       "    </tr>\n",
       "    <tr>\n",
       "      <th>남여비율</th>\n",
       "      <td>9.694405e+01</td>\n",
       "      <td>9.349930e+01</td>\n",
       "      <td>1.074782e+02</td>\n",
       "      <td>9.523754e+01</td>\n",
       "      <td>9.691467e+01</td>\n",
       "      <td>1.058027e+02</td>\n",
       "    </tr>\n",
       "  </tbody>\n",
       "</table>\n",
       "</div>"
      ],
      "text/plain": [
       "              서울 특별시        인천 광역시        부산 광역시        대구 광역시        대전 광역시  \\\n",
       "인구수     9.708460e+06  3.404424e+06  2.947217e+06  2.427954e+06  1.471040e+06   \n",
       "남자 인구수  4.758460e+06  1.668424e+06  1.437217e+06  1.199854e+06  7.130400e+05   \n",
       "여자 인구수  4.908460e+06  1.784424e+06  1.337217e+06  1.259854e+06  7.357400e+05   \n",
       "남여비율    9.694405e+01  9.349930e+01  1.074782e+02  9.523754e+01  9.691467e+01   \n",
       "\n",
       "              광주 광역시  \n",
       "인구수     1.455048e+06  \n",
       "남자 인구수  7.550480e+05  \n",
       "여자 인구수  7.136380e+05  \n",
       "남여비율    1.058027e+02  "
      ]
     },
     "execution_count": 76,
     "metadata": {},
     "output_type": "execute_result"
    }
   ],
   "source": [
    "korea_df.T"
   ]
  },
  {
   "cell_type": "code",
   "execution_count": 85,
   "id": "efe8396b",
   "metadata": {
    "ExecuteTime": {
     "end_time": "2023-04-26T04:23:38.463584Z",
     "start_time": "2023-04-26T04:23:38.447594Z"
    }
   },
   "outputs": [
    {
     "data": {
      "text/html": [
       "<div>\n",
       "<style scoped>\n",
       "    .dataframe tbody tr th:only-of-type {\n",
       "        vertical-align: middle;\n",
       "    }\n",
       "\n",
       "    .dataframe tbody tr th {\n",
       "        vertical-align: top;\n",
       "    }\n",
       "\n",
       "    .dataframe thead th {\n",
       "        text-align: right;\n",
       "    }\n",
       "</style>\n",
       "<table border=\"1\" class=\"dataframe\">\n",
       "  <thead>\n",
       "    <tr style=\"text-align: right;\">\n",
       "      <th></th>\n",
       "      <th>인구수</th>\n",
       "      <th>남자 인구수</th>\n",
       "      <th>여자 인구수</th>\n",
       "      <th>남여비율</th>\n",
       "    </tr>\n",
       "  </thead>\n",
       "  <tbody>\n",
       "    <tr>\n",
       "      <th>서울 특별시</th>\n",
       "      <td>9708460</td>\n",
       "      <td>4758460</td>\n",
       "      <td>4908460</td>\n",
       "      <td>96.944052</td>\n",
       "    </tr>\n",
       "    <tr>\n",
       "      <th>인천 광역시</th>\n",
       "      <td>3404424</td>\n",
       "      <td>1668424</td>\n",
       "      <td>1784424</td>\n",
       "      <td>93.499303</td>\n",
       "    </tr>\n",
       "    <tr>\n",
       "      <th>부산 광역시</th>\n",
       "      <td>2947217</td>\n",
       "      <td>1437217</td>\n",
       "      <td>1337217</td>\n",
       "      <td>107.478218</td>\n",
       "    </tr>\n",
       "    <tr>\n",
       "      <th>대구 광역시</th>\n",
       "      <td>2427954</td>\n",
       "      <td>1199854</td>\n",
       "      <td>1259854</td>\n",
       "      <td>95.237543</td>\n",
       "    </tr>\n",
       "    <tr>\n",
       "      <th>대전 광역시</th>\n",
       "      <td>1471040</td>\n",
       "      <td>713040</td>\n",
       "      <td>735740</td>\n",
       "      <td>96.914671</td>\n",
       "    </tr>\n",
       "  </tbody>\n",
       "</table>\n",
       "</div>"
      ],
      "text/plain": [
       "            인구수   남자 인구수   여자 인구수        남여비율\n",
       "서울 특별시  9708460  4758460  4908460   96.944052\n",
       "인천 광역시  3404424  1668424  1784424   93.499303\n",
       "부산 광역시  2947217  1437217  1337217  107.478218\n",
       "대구 광역시  2427954  1199854  1259854   95.237543\n",
       "대전 광역시  1471040   713040   735740   96.914671"
      ]
     },
     "execution_count": 85,
     "metadata": {},
     "output_type": "execute_result"
    }
   ],
   "source": [
    "korea_df.loc[\"서울 특별시\":\"대전 광역시\"]"
   ]
  },
  {
   "cell_type": "code",
   "execution_count": 94,
   "id": "9b239451",
   "metadata": {
    "ExecuteTime": {
     "end_time": "2023-04-26T04:25:44.602134Z",
     "start_time": "2023-04-26T04:25:44.588140Z"
    }
   },
   "outputs": [
    {
     "data": {
      "text/html": [
       "<div>\n",
       "<style scoped>\n",
       "    .dataframe tbody tr th:only-of-type {\n",
       "        vertical-align: middle;\n",
       "    }\n",
       "\n",
       "    .dataframe tbody tr th {\n",
       "        vertical-align: top;\n",
       "    }\n",
       "\n",
       "    .dataframe thead th {\n",
       "        text-align: right;\n",
       "    }\n",
       "</style>\n",
       "<table border=\"1\" class=\"dataframe\">\n",
       "  <thead>\n",
       "    <tr style=\"text-align: right;\">\n",
       "      <th></th>\n",
       "      <th>인구수</th>\n",
       "      <th>남자 인구수</th>\n",
       "      <th>여자 인구수</th>\n",
       "      <th>남여비율</th>\n",
       "    </tr>\n",
       "  </thead>\n",
       "  <tbody>\n",
       "    <tr>\n",
       "      <th>서울 특별시</th>\n",
       "      <td>9708460</td>\n",
       "      <td>4758460</td>\n",
       "      <td>4908460</td>\n",
       "      <td>96.944052</td>\n",
       "    </tr>\n",
       "    <tr>\n",
       "      <th>인천 광역시</th>\n",
       "      <td>3404424</td>\n",
       "      <td>1668424</td>\n",
       "      <td>1784424</td>\n",
       "      <td>93.499303</td>\n",
       "    </tr>\n",
       "    <tr>\n",
       "      <th>부산 광역시</th>\n",
       "      <td>2947217</td>\n",
       "      <td>1437217</td>\n",
       "      <td>1337217</td>\n",
       "      <td>107.478218</td>\n",
       "    </tr>\n",
       "  </tbody>\n",
       "</table>\n",
       "</div>"
      ],
      "text/plain": [
       "            인구수   남자 인구수   여자 인구수        남여비율\n",
       "서울 특별시  9708460  4758460  4908460   96.944052\n",
       "인천 광역시  3404424  1668424  1784424   93.499303\n",
       "부산 광역시  2947217  1437217  1337217  107.478218"
      ]
     },
     "execution_count": 94,
     "metadata": {},
     "output_type": "execute_result"
    }
   ],
   "source": [
    "korea_df[korea_df[\"인구수\"] > 2427954]"
   ]
  },
  {
   "cell_type": "code",
   "execution_count": 99,
   "id": "e2fad859",
   "metadata": {
    "ExecuteTime": {
     "end_time": "2023-04-26T04:26:39.950490Z",
     "start_time": "2023-04-26T04:26:39.931504Z"
    }
   },
   "outputs": [
    {
     "data": {
      "text/html": [
       "<div>\n",
       "<style scoped>\n",
       "    .dataframe tbody tr th:only-of-type {\n",
       "        vertical-align: middle;\n",
       "    }\n",
       "\n",
       "    .dataframe tbody tr th {\n",
       "        vertical-align: top;\n",
       "    }\n",
       "\n",
       "    .dataframe thead th {\n",
       "        text-align: right;\n",
       "    }\n",
       "</style>\n",
       "<table border=\"1\" class=\"dataframe\">\n",
       "  <thead>\n",
       "    <tr style=\"text-align: right;\">\n",
       "      <th></th>\n",
       "      <th>여자 인구수</th>\n",
       "    </tr>\n",
       "  </thead>\n",
       "  <tbody>\n",
       "    <tr>\n",
       "      <th>서울 특별시</th>\n",
       "      <td>4908460</td>\n",
       "    </tr>\n",
       "    <tr>\n",
       "      <th>인천 광역시</th>\n",
       "      <td>1784424</td>\n",
       "    </tr>\n",
       "    <tr>\n",
       "      <th>부산 광역시</th>\n",
       "      <td>1337217</td>\n",
       "    </tr>\n",
       "    <tr>\n",
       "      <th>대구 광역시</th>\n",
       "      <td>1259854</td>\n",
       "    </tr>\n",
       "    <tr>\n",
       "      <th>대전 광역시</th>\n",
       "      <td>735740</td>\n",
       "    </tr>\n",
       "    <tr>\n",
       "      <th>광주 광역시</th>\n",
       "      <td>713638</td>\n",
       "    </tr>\n",
       "  </tbody>\n",
       "</table>\n",
       "</div>"
      ],
      "text/plain": [
       "         여자 인구수\n",
       "서울 특별시  4908460\n",
       "인천 광역시  1784424\n",
       "부산 광역시  1337217\n",
       "대구 광역시  1259854\n",
       "대전 광역시   735740\n",
       "광주 광역시   713638"
      ]
     },
     "execution_count": 99,
     "metadata": {},
     "output_type": "execute_result"
    }
   ],
   "source": [
    "korea_df.iloc[:,2:3]"
   ]
  },
  {
   "cell_type": "markdown",
   "id": "9ef20d3d",
   "metadata": {},
   "source": [
    "## Multi Indexing "
   ]
  },
  {
   "cell_type": "code",
   "execution_count": 122,
   "id": "5db9fd33",
   "metadata": {
    "ExecuteTime": {
     "end_time": "2023-04-26T04:54:17.814363Z",
     "start_time": "2023-04-26T04:54:17.803369Z"
    }
   },
   "outputs": [
    {
     "data": {
      "text/plain": [
       "[('서울 특별시', 2010),\n",
       " ('서울 특별시', 2020),\n",
       " ('인천 광역시', 2010),\n",
       " ('인천 광역시', 2020),\n",
       " ('부산 광역시', 2010),\n",
       " ('부산 광역시', 2020),\n",
       " ('대구 광역시', 2010),\n",
       " ('대구 광역시', 2020),\n",
       " ('대전 광역시', 2010),\n",
       " ('대전 광역시', 2020),\n",
       " ('광주 광역시', 2010),\n",
       " ('광주 광역시', 2020)]"
      ]
     },
     "execution_count": 122,
     "metadata": {},
     "output_type": "execute_result"
    }
   ],
   "source": [
    "idx_tuples = [(\"서울 특별시\", 2010), (\"서울 특별시\", 2020),\n",
    "             (\"인천 광역시\", 2010), (\"인천 광역시\", 2020),\n",
    "             (\"부산 광역시\", 2010), (\"부산 광역시\", 2020),\n",
    "             (\"대구 광역시\", 2010), (\"대구 광역시\", 2020),\n",
    "             (\"대전 광역시\", 2010), (\"대전 광역시\", 2020),\n",
    "             (\"광주 광역시\", 2010), (\"광주 광역시\", 2020)]\n",
    "idx_tuples"
   ]
  },
  {
   "cell_type": "code",
   "execution_count": 123,
   "id": "48856cf6",
   "metadata": {
    "ExecuteTime": {
     "end_time": "2023-04-26T04:54:17.998356Z",
     "start_time": "2023-04-26T04:54:17.977368Z"
    }
   },
   "outputs": [
    {
     "data": {
      "text/plain": [
       "(서울 특별시, 2010)    10312434\n",
       "(서울 특별시, 2020)     9720846\n",
       "(인천 광역시, 2010)     3568940\n",
       "(인천 광역시, 2020)     4539334\n",
       "(부산 광역시, 2010)     2758296\n",
       "(부산 광역시, 2020)     2947217\n",
       "(대구 광역시, 2010)     2511676\n",
       "(대구 광역시, 2020)     2427954\n",
       "(대전 광역시, 2010)     1503664\n",
       "(대전 광역시, 2020)     1471040\n",
       "(광주 광역시, 2010)     1454636\n",
       "(광주 광역시, 2020)     1455048\n",
       "dtype: int64"
      ]
     },
     "execution_count": 123,
     "metadata": {},
     "output_type": "execute_result"
    }
   ],
   "source": [
    "pop_tuples = [10312434, 9720846,\n",
    "             3568940 , 4539334,\n",
    "             2758296, 2947217,\n",
    "             2511676, 2427954,\n",
    "             1503664, 1471040,\n",
    "             1454636, 1455048]\n",
    "\n",
    "population = pd.Series(pop_tuples, index=idx_tuples)\n",
    "population"
   ]
  },
  {
   "cell_type": "code",
   "execution_count": 124,
   "id": "5f19e081",
   "metadata": {
    "ExecuteTime": {
     "end_time": "2023-04-26T04:54:18.151341Z",
     "start_time": "2023-04-26T04:54:18.137349Z"
    }
   },
   "outputs": [
    {
     "data": {
      "text/plain": [
       "MultiIndex([('서울 특별시', 2010),\n",
       "            ('서울 특별시', 2020),\n",
       "            ('인천 광역시', 2010),\n",
       "            ('인천 광역시', 2020),\n",
       "            ('부산 광역시', 2010),\n",
       "            ('부산 광역시', 2020),\n",
       "            ('대구 광역시', 2010),\n",
       "            ('대구 광역시', 2020),\n",
       "            ('대전 광역시', 2010),\n",
       "            ('대전 광역시', 2020),\n",
       "            ('광주 광역시', 2010),\n",
       "            ('광주 광역시', 2020)],\n",
       "           )"
      ]
     },
     "execution_count": 124,
     "metadata": {},
     "output_type": "execute_result"
    }
   ],
   "source": [
    "midx = pd.MultiIndex.from_tuples(idx_tuples)\n",
    "midx"
   ]
  },
  {
   "cell_type": "code",
   "execution_count": 125,
   "id": "92d28220",
   "metadata": {
    "ExecuteTime": {
     "end_time": "2023-04-26T04:54:18.378277Z",
     "start_time": "2023-04-26T04:54:18.369283Z"
    }
   },
   "outputs": [
    {
     "data": {
      "text/plain": [
       "서울 특별시  2010    10312434\n",
       "        2020     9720846\n",
       "인천 광역시  2010     3568940\n",
       "        2020     4539334\n",
       "부산 광역시  2010     2758296\n",
       "        2020     2947217\n",
       "대구 광역시  2010     2511676\n",
       "        2020     2427954\n",
       "대전 광역시  2010     1503664\n",
       "        2020     1471040\n",
       "광주 광역시  2010     1454636\n",
       "        2020     1455048\n",
       "dtype: int64"
      ]
     },
     "execution_count": 125,
     "metadata": {},
     "output_type": "execute_result"
    }
   ],
   "source": [
    "population.index = midx\n",
    "population"
   ]
  },
  {
   "cell_type": "code",
   "execution_count": 126,
   "id": "bbd4b93e",
   "metadata": {
    "ExecuteTime": {
     "end_time": "2023-04-26T04:54:18.802347Z",
     "start_time": "2023-04-26T04:54:18.784358Z"
    }
   },
   "outputs": [
    {
     "data": {
      "text/plain": [
       "서울 특별시    9720846\n",
       "인천 광역시    4539334\n",
       "부산 광역시    2947217\n",
       "대구 광역시    2427954\n",
       "대전 광역시    1471040\n",
       "광주 광역시    1455048\n",
       "dtype: int64"
      ]
     },
     "execution_count": 126,
     "metadata": {},
     "output_type": "execute_result"
    }
   ],
   "source": [
    "population[:,2020]"
   ]
  },
  {
   "cell_type": "code",
   "execution_count": 131,
   "id": "36afa0d5",
   "metadata": {
    "ExecuteTime": {
     "end_time": "2023-04-26T04:55:51.387263Z",
     "start_time": "2023-04-26T04:55:51.368275Z"
    }
   },
   "outputs": [
    {
     "data": {
      "text/html": [
       "<div>\n",
       "<style scoped>\n",
       "    .dataframe tbody tr th:only-of-type {\n",
       "        vertical-align: middle;\n",
       "    }\n",
       "\n",
       "    .dataframe tbody tr th {\n",
       "        vertical-align: top;\n",
       "    }\n",
       "\n",
       "    .dataframe thead th {\n",
       "        text-align: right;\n",
       "    }\n",
       "</style>\n",
       "<table border=\"1\" class=\"dataframe\">\n",
       "  <thead>\n",
       "    <tr style=\"text-align: right;\">\n",
       "      <th></th>\n",
       "      <th>2010</th>\n",
       "      <th>2020</th>\n",
       "    </tr>\n",
       "  </thead>\n",
       "  <tbody>\n",
       "    <tr>\n",
       "      <th>광주 광역시</th>\n",
       "      <td>1454636</td>\n",
       "      <td>1455048</td>\n",
       "    </tr>\n",
       "    <tr>\n",
       "      <th>대구 광역시</th>\n",
       "      <td>2511676</td>\n",
       "      <td>2427954</td>\n",
       "    </tr>\n",
       "    <tr>\n",
       "      <th>대전 광역시</th>\n",
       "      <td>1503664</td>\n",
       "      <td>1471040</td>\n",
       "    </tr>\n",
       "    <tr>\n",
       "      <th>부산 광역시</th>\n",
       "      <td>2758296</td>\n",
       "      <td>2947217</td>\n",
       "    </tr>\n",
       "    <tr>\n",
       "      <th>서울 특별시</th>\n",
       "      <td>10312434</td>\n",
       "      <td>9720846</td>\n",
       "    </tr>\n",
       "    <tr>\n",
       "      <th>인천 광역시</th>\n",
       "      <td>3568940</td>\n",
       "      <td>4539334</td>\n",
       "    </tr>\n",
       "  </tbody>\n",
       "</table>\n",
       "</div>"
      ],
      "text/plain": [
       "            2010     2020\n",
       "광주 광역시   1454636  1455048\n",
       "대구 광역시   2511676  2427954\n",
       "대전 광역시   1503664  1471040\n",
       "부산 광역시   2758296  2947217\n",
       "서울 특별시  10312434  9720846\n",
       "인천 광역시   3568940  4539334"
      ]
     },
     "execution_count": 131,
     "metadata": {},
     "output_type": "execute_result"
    }
   ],
   "source": [
    "korea_mdf = population.unstack()\n",
    "korea_mdf"
   ]
  },
  {
   "cell_type": "code",
   "execution_count": 132,
   "id": "bb02e9c3",
   "metadata": {
    "ExecuteTime": {
     "end_time": "2023-04-26T04:55:52.354271Z",
     "start_time": "2023-04-26T04:55:52.335283Z"
    }
   },
   "outputs": [
    {
     "data": {
      "text/plain": [
       "광주 광역시  2010     1454636\n",
       "        2020     1455048\n",
       "대구 광역시  2010     2511676\n",
       "        2020     2427954\n",
       "대전 광역시  2010     1503664\n",
       "        2020     1471040\n",
       "부산 광역시  2010     2758296\n",
       "        2020     2947217\n",
       "서울 특별시  2010    10312434\n",
       "        2020     9720846\n",
       "인천 광역시  2010     3568940\n",
       "        2020     4539334\n",
       "dtype: int64"
      ]
     },
     "execution_count": 132,
     "metadata": {},
     "output_type": "execute_result"
    }
   ],
   "source": [
    "korea_mdf = korea_mdf.stack()\n",
    "korea_mdf"
   ]
  },
  {
   "cell_type": "code",
   "execution_count": 137,
   "id": "7c2c8ca3",
   "metadata": {
    "ExecuteTime": {
     "end_time": "2023-04-26T04:57:49.289465Z",
     "start_time": "2023-04-26T04:57:49.279470Z"
    }
   },
   "outputs": [],
   "source": [
    "male_tuples = [5111259,4732275,\n",
    "             1773170,1668618,\n",
    "             1390356, 1476813,\n",
    "             1255245, 1198815,\n",
    "             753648, 734441,\n",
    "             721780, 720060]"
   ]
  },
  {
   "cell_type": "code",
   "execution_count": 138,
   "id": "d4582a66",
   "metadata": {
    "ExecuteTime": {
     "end_time": "2023-04-26T04:57:50.275907Z",
     "start_time": "2023-04-26T04:57:50.262918Z"
    }
   },
   "outputs": [
    {
     "data": {
      "text/html": [
       "<div>\n",
       "<style scoped>\n",
       "    .dataframe tbody tr th:only-of-type {\n",
       "        vertical-align: middle;\n",
       "    }\n",
       "\n",
       "    .dataframe tbody tr th {\n",
       "        vertical-align: top;\n",
       "    }\n",
       "\n",
       "    .dataframe thead th {\n",
       "        text-align: right;\n",
       "    }\n",
       "</style>\n",
       "<table border=\"1\" class=\"dataframe\">\n",
       "  <thead>\n",
       "    <tr style=\"text-align: right;\">\n",
       "      <th></th>\n",
       "      <th></th>\n",
       "      <th>총인구수</th>\n",
       "      <th>남자인구수</th>\n",
       "    </tr>\n",
       "  </thead>\n",
       "  <tbody>\n",
       "    <tr>\n",
       "      <th rowspan=\"2\" valign=\"top\">서울 특별시</th>\n",
       "      <th>2010</th>\n",
       "      <td>10312434</td>\n",
       "      <td>5111259</td>\n",
       "    </tr>\n",
       "    <tr>\n",
       "      <th>2020</th>\n",
       "      <td>9720846</td>\n",
       "      <td>4732275</td>\n",
       "    </tr>\n",
       "    <tr>\n",
       "      <th rowspan=\"2\" valign=\"top\">인천 광역시</th>\n",
       "      <th>2010</th>\n",
       "      <td>3568940</td>\n",
       "      <td>1773170</td>\n",
       "    </tr>\n",
       "    <tr>\n",
       "      <th>2020</th>\n",
       "      <td>4539334</td>\n",
       "      <td>1668618</td>\n",
       "    </tr>\n",
       "    <tr>\n",
       "      <th rowspan=\"2\" valign=\"top\">부산 광역시</th>\n",
       "      <th>2010</th>\n",
       "      <td>2758296</td>\n",
       "      <td>1390356</td>\n",
       "    </tr>\n",
       "    <tr>\n",
       "      <th>2020</th>\n",
       "      <td>2947217</td>\n",
       "      <td>1476813</td>\n",
       "    </tr>\n",
       "    <tr>\n",
       "      <th rowspan=\"2\" valign=\"top\">대구 광역시</th>\n",
       "      <th>2010</th>\n",
       "      <td>2511676</td>\n",
       "      <td>1255245</td>\n",
       "    </tr>\n",
       "    <tr>\n",
       "      <th>2020</th>\n",
       "      <td>2427954</td>\n",
       "      <td>1198815</td>\n",
       "    </tr>\n",
       "    <tr>\n",
       "      <th rowspan=\"2\" valign=\"top\">대전 광역시</th>\n",
       "      <th>2010</th>\n",
       "      <td>1503664</td>\n",
       "      <td>753648</td>\n",
       "    </tr>\n",
       "    <tr>\n",
       "      <th>2020</th>\n",
       "      <td>1471040</td>\n",
       "      <td>734441</td>\n",
       "    </tr>\n",
       "    <tr>\n",
       "      <th rowspan=\"2\" valign=\"top\">광주 광역시</th>\n",
       "      <th>2010</th>\n",
       "      <td>1454636</td>\n",
       "      <td>721780</td>\n",
       "    </tr>\n",
       "    <tr>\n",
       "      <th>2020</th>\n",
       "      <td>1455048</td>\n",
       "      <td>720060</td>\n",
       "    </tr>\n",
       "  </tbody>\n",
       "</table>\n",
       "</div>"
      ],
      "text/plain": [
       "                 총인구수    남자인구수\n",
       "서울 특별시 2010  10312434  5111259\n",
       "       2020   9720846  4732275\n",
       "인천 광역시 2010   3568940  1773170\n",
       "       2020   4539334  1668618\n",
       "부산 광역시 2010   2758296  1390356\n",
       "       2020   2947217  1476813\n",
       "대구 광역시 2010   2511676  1255245\n",
       "       2020   2427954  1198815\n",
       "대전 광역시 2010   1503664   753648\n",
       "       2020   1471040   734441\n",
       "광주 광역시 2010   1454636   721780\n",
       "       2020   1455048   720060"
      ]
     },
     "execution_count": 138,
     "metadata": {},
     "output_type": "execute_result"
    }
   ],
   "source": [
    "korea_mdf = pd.DataFrame({\"총인구수\":population, \"남자인구수\":male_tuples })\n",
    "korea_mdf"
   ]
  },
  {
   "cell_type": "code",
   "execution_count": 139,
   "id": "924b0bce",
   "metadata": {
    "ExecuteTime": {
     "end_time": "2023-04-26T04:58:01.745774Z",
     "start_time": "2023-04-26T04:58:01.725787Z"
    }
   },
   "outputs": [],
   "source": [
    "female_tuples = [5201286,4988571,\n",
    "                1794740, 1735805,\n",
    "                1367950,1470404,\n",
    "                1256431,1229139,\n",
    "                750016,736599,\n",
    "                732856,734988]"
   ]
  },
  {
   "cell_type": "code",
   "execution_count": 141,
   "id": "9e9039f5",
   "metadata": {
    "ExecuteTime": {
     "end_time": "2023-04-26T04:58:26.412492Z",
     "start_time": "2023-04-26T04:58:26.397501Z"
    }
   },
   "outputs": [
    {
     "data": {
      "text/html": [
       "<div>\n",
       "<style scoped>\n",
       "    .dataframe tbody tr th:only-of-type {\n",
       "        vertical-align: middle;\n",
       "    }\n",
       "\n",
       "    .dataframe tbody tr th {\n",
       "        vertical-align: top;\n",
       "    }\n",
       "\n",
       "    .dataframe thead th {\n",
       "        text-align: right;\n",
       "    }\n",
       "</style>\n",
       "<table border=\"1\" class=\"dataframe\">\n",
       "  <thead>\n",
       "    <tr style=\"text-align: right;\">\n",
       "      <th></th>\n",
       "      <th></th>\n",
       "      <th>총인구수</th>\n",
       "      <th>남자인구수</th>\n",
       "      <th>여자인구수</th>\n",
       "    </tr>\n",
       "  </thead>\n",
       "  <tbody>\n",
       "    <tr>\n",
       "      <th rowspan=\"2\" valign=\"top\">서울 특별시</th>\n",
       "      <th>2010</th>\n",
       "      <td>10312434</td>\n",
       "      <td>5111259</td>\n",
       "      <td>5201286</td>\n",
       "    </tr>\n",
       "    <tr>\n",
       "      <th>2020</th>\n",
       "      <td>9720846</td>\n",
       "      <td>4732275</td>\n",
       "      <td>4988571</td>\n",
       "    </tr>\n",
       "    <tr>\n",
       "      <th rowspan=\"2\" valign=\"top\">인천 광역시</th>\n",
       "      <th>2010</th>\n",
       "      <td>3568940</td>\n",
       "      <td>1773170</td>\n",
       "      <td>1794740</td>\n",
       "    </tr>\n",
       "    <tr>\n",
       "      <th>2020</th>\n",
       "      <td>4539334</td>\n",
       "      <td>1668618</td>\n",
       "      <td>1735805</td>\n",
       "    </tr>\n",
       "    <tr>\n",
       "      <th rowspan=\"2\" valign=\"top\">부산 광역시</th>\n",
       "      <th>2010</th>\n",
       "      <td>2758296</td>\n",
       "      <td>1390356</td>\n",
       "      <td>1367950</td>\n",
       "    </tr>\n",
       "    <tr>\n",
       "      <th>2020</th>\n",
       "      <td>2947217</td>\n",
       "      <td>1476813</td>\n",
       "      <td>1470404</td>\n",
       "    </tr>\n",
       "    <tr>\n",
       "      <th rowspan=\"2\" valign=\"top\">대구 광역시</th>\n",
       "      <th>2010</th>\n",
       "      <td>2511676</td>\n",
       "      <td>1255245</td>\n",
       "      <td>1256431</td>\n",
       "    </tr>\n",
       "    <tr>\n",
       "      <th>2020</th>\n",
       "      <td>2427954</td>\n",
       "      <td>1198815</td>\n",
       "      <td>1229139</td>\n",
       "    </tr>\n",
       "    <tr>\n",
       "      <th rowspan=\"2\" valign=\"top\">대전 광역시</th>\n",
       "      <th>2010</th>\n",
       "      <td>1503664</td>\n",
       "      <td>753648</td>\n",
       "      <td>750016</td>\n",
       "    </tr>\n",
       "    <tr>\n",
       "      <th>2020</th>\n",
       "      <td>1471040</td>\n",
       "      <td>734441</td>\n",
       "      <td>736599</td>\n",
       "    </tr>\n",
       "    <tr>\n",
       "      <th rowspan=\"2\" valign=\"top\">광주 광역시</th>\n",
       "      <th>2010</th>\n",
       "      <td>1454636</td>\n",
       "      <td>721780</td>\n",
       "      <td>732856</td>\n",
       "    </tr>\n",
       "    <tr>\n",
       "      <th>2020</th>\n",
       "      <td>1455048</td>\n",
       "      <td>720060</td>\n",
       "      <td>734988</td>\n",
       "    </tr>\n",
       "  </tbody>\n",
       "</table>\n",
       "</div>"
      ],
      "text/plain": [
       "                 총인구수    남자인구수    여자인구수\n",
       "서울 특별시 2010  10312434  5111259  5201286\n",
       "       2020   9720846  4732275  4988571\n",
       "인천 광역시 2010   3568940  1773170  1794740\n",
       "       2020   4539334  1668618  1735805\n",
       "부산 광역시 2010   2758296  1390356  1367950\n",
       "       2020   2947217  1476813  1470404\n",
       "대구 광역시 2010   2511676  1255245  1256431\n",
       "       2020   2427954  1198815  1229139\n",
       "대전 광역시 2010   1503664   753648   750016\n",
       "       2020   1471040   734441   736599\n",
       "광주 광역시 2010   1454636   721780   732856\n",
       "       2020   1455048   720060   734988"
      ]
     },
     "execution_count": 141,
     "metadata": {},
     "output_type": "execute_result"
    }
   ],
   "source": [
    "korea_mdf[\"여자인구수\"] = female_tuples\n",
    "korea_mdf"
   ]
  },
  {
   "cell_type": "code",
   "execution_count": 144,
   "id": "97550aa5",
   "metadata": {
    "ExecuteTime": {
     "end_time": "2023-04-26T04:59:20.587847Z",
     "start_time": "2023-04-26T04:59:20.566860Z"
    }
   },
   "outputs": [
    {
     "data": {
      "text/html": [
       "<div>\n",
       "<style scoped>\n",
       "    .dataframe tbody tr th:only-of-type {\n",
       "        vertical-align: middle;\n",
       "    }\n",
       "\n",
       "    .dataframe tbody tr th {\n",
       "        vertical-align: top;\n",
       "    }\n",
       "\n",
       "    .dataframe thead th {\n",
       "        text-align: right;\n",
       "    }\n",
       "</style>\n",
       "<table border=\"1\" class=\"dataframe\">\n",
       "  <thead>\n",
       "    <tr style=\"text-align: right;\">\n",
       "      <th></th>\n",
       "      <th>2010</th>\n",
       "      <th>2020</th>\n",
       "    </tr>\n",
       "  </thead>\n",
       "  <tbody>\n",
       "    <tr>\n",
       "      <th>광주 광역시</th>\n",
       "      <td>98.488653</td>\n",
       "      <td>97.968946</td>\n",
       "    </tr>\n",
       "    <tr>\n",
       "      <th>대구 광역시</th>\n",
       "      <td>99.905606</td>\n",
       "      <td>97.532907</td>\n",
       "    </tr>\n",
       "    <tr>\n",
       "      <th>대전 광역시</th>\n",
       "      <td>100.484256</td>\n",
       "      <td>99.707032</td>\n",
       "    </tr>\n",
       "    <tr>\n",
       "      <th>부산 광역시</th>\n",
       "      <td>101.637925</td>\n",
       "      <td>100.435867</td>\n",
       "    </tr>\n",
       "    <tr>\n",
       "      <th>서울 특별시</th>\n",
       "      <td>98.269140</td>\n",
       "      <td>94.862336</td>\n",
       "    </tr>\n",
       "    <tr>\n",
       "      <th>인천 광역시</th>\n",
       "      <td>98.798155</td>\n",
       "      <td>96.129346</td>\n",
       "    </tr>\n",
       "  </tbody>\n",
       "</table>\n",
       "</div>"
      ],
      "text/plain": [
       "              2010        2020\n",
       "광주 광역시   98.488653   97.968946\n",
       "대구 광역시   99.905606   97.532907\n",
       "대전 광역시  100.484256   99.707032\n",
       "부산 광역시  101.637925  100.435867\n",
       "서울 특별시   98.269140   94.862336\n",
       "인천 광역시   98.798155   96.129346"
      ]
     },
     "execution_count": 144,
     "metadata": {},
     "output_type": "execute_result"
    }
   ],
   "source": [
    "ratio = korea_mdf[\"남자인구수\"]*100/korea_mdf[\"여자인구수\"]\n",
    "ratio.unstack()"
   ]
  },
  {
   "cell_type": "code",
   "execution_count": 146,
   "id": "77b66b16",
   "metadata": {
    "ExecuteTime": {
     "end_time": "2023-04-26T04:59:46.705562Z",
     "start_time": "2023-04-26T04:59:46.685574Z"
    },
    "scrolled": true
   },
   "outputs": [
    {
     "data": {
      "text/html": [
       "<div>\n",
       "<style scoped>\n",
       "    .dataframe tbody tr th:only-of-type {\n",
       "        vertical-align: middle;\n",
       "    }\n",
       "\n",
       "    .dataframe tbody tr th {\n",
       "        vertical-align: top;\n",
       "    }\n",
       "\n",
       "    .dataframe thead th {\n",
       "        text-align: right;\n",
       "    }\n",
       "</style>\n",
       "<table border=\"1\" class=\"dataframe\">\n",
       "  <thead>\n",
       "    <tr style=\"text-align: right;\">\n",
       "      <th></th>\n",
       "      <th></th>\n",
       "      <th>총인구수</th>\n",
       "      <th>남자인구수</th>\n",
       "      <th>여자인구수</th>\n",
       "      <th>남여 비율</th>\n",
       "    </tr>\n",
       "  </thead>\n",
       "  <tbody>\n",
       "    <tr>\n",
       "      <th rowspan=\"2\" valign=\"top\">서울 특별시</th>\n",
       "      <th>2010</th>\n",
       "      <td>10312434</td>\n",
       "      <td>5111259</td>\n",
       "      <td>5201286</td>\n",
       "      <td>98.269140</td>\n",
       "    </tr>\n",
       "    <tr>\n",
       "      <th>2020</th>\n",
       "      <td>9720846</td>\n",
       "      <td>4732275</td>\n",
       "      <td>4988571</td>\n",
       "      <td>94.862336</td>\n",
       "    </tr>\n",
       "    <tr>\n",
       "      <th rowspan=\"2\" valign=\"top\">인천 광역시</th>\n",
       "      <th>2010</th>\n",
       "      <td>3568940</td>\n",
       "      <td>1773170</td>\n",
       "      <td>1794740</td>\n",
       "      <td>98.798155</td>\n",
       "    </tr>\n",
       "    <tr>\n",
       "      <th>2020</th>\n",
       "      <td>4539334</td>\n",
       "      <td>1668618</td>\n",
       "      <td>1735805</td>\n",
       "      <td>96.129346</td>\n",
       "    </tr>\n",
       "    <tr>\n",
       "      <th rowspan=\"2\" valign=\"top\">부산 광역시</th>\n",
       "      <th>2010</th>\n",
       "      <td>2758296</td>\n",
       "      <td>1390356</td>\n",
       "      <td>1367950</td>\n",
       "      <td>101.637925</td>\n",
       "    </tr>\n",
       "    <tr>\n",
       "      <th>2020</th>\n",
       "      <td>2947217</td>\n",
       "      <td>1476813</td>\n",
       "      <td>1470404</td>\n",
       "      <td>100.435867</td>\n",
       "    </tr>\n",
       "    <tr>\n",
       "      <th rowspan=\"2\" valign=\"top\">대구 광역시</th>\n",
       "      <th>2010</th>\n",
       "      <td>2511676</td>\n",
       "      <td>1255245</td>\n",
       "      <td>1256431</td>\n",
       "      <td>99.905606</td>\n",
       "    </tr>\n",
       "    <tr>\n",
       "      <th>2020</th>\n",
       "      <td>2427954</td>\n",
       "      <td>1198815</td>\n",
       "      <td>1229139</td>\n",
       "      <td>97.532907</td>\n",
       "    </tr>\n",
       "    <tr>\n",
       "      <th rowspan=\"2\" valign=\"top\">대전 광역시</th>\n",
       "      <th>2010</th>\n",
       "      <td>1503664</td>\n",
       "      <td>753648</td>\n",
       "      <td>750016</td>\n",
       "      <td>100.484256</td>\n",
       "    </tr>\n",
       "    <tr>\n",
       "      <th>2020</th>\n",
       "      <td>1471040</td>\n",
       "      <td>734441</td>\n",
       "      <td>736599</td>\n",
       "      <td>99.707032</td>\n",
       "    </tr>\n",
       "    <tr>\n",
       "      <th rowspan=\"2\" valign=\"top\">광주 광역시</th>\n",
       "      <th>2010</th>\n",
       "      <td>1454636</td>\n",
       "      <td>721780</td>\n",
       "      <td>732856</td>\n",
       "      <td>98.488653</td>\n",
       "    </tr>\n",
       "    <tr>\n",
       "      <th>2020</th>\n",
       "      <td>1455048</td>\n",
       "      <td>720060</td>\n",
       "      <td>734988</td>\n",
       "      <td>97.968946</td>\n",
       "    </tr>\n",
       "  </tbody>\n",
       "</table>\n",
       "</div>"
      ],
      "text/plain": [
       "                 총인구수    남자인구수    여자인구수       남여 비율\n",
       "서울 특별시 2010  10312434  5111259  5201286   98.269140\n",
       "       2020   9720846  4732275  4988571   94.862336\n",
       "인천 광역시 2010   3568940  1773170  1794740   98.798155\n",
       "       2020   4539334  1668618  1735805   96.129346\n",
       "부산 광역시 2010   2758296  1390356  1367950  101.637925\n",
       "       2020   2947217  1476813  1470404  100.435867\n",
       "대구 광역시 2010   2511676  1255245  1256431   99.905606\n",
       "       2020   2427954  1198815  1229139   97.532907\n",
       "대전 광역시 2010   1503664   753648   750016  100.484256\n",
       "       2020   1471040   734441   736599   99.707032\n",
       "광주 광역시 2010   1454636   721780   732856   98.488653\n",
       "       2020   1455048   720060   734988   97.968946"
      ]
     },
     "execution_count": 146,
     "metadata": {},
     "output_type": "execute_result"
    }
   ],
   "source": [
    "korea_mdf[\"남여 비율\"] = ratio\n",
    "korea_mdf"
   ]
  },
  {
   "cell_type": "markdown",
   "id": "826f0dd0",
   "metadata": {},
   "source": [
    "### 다중 인덱스 생성"
   ]
  },
  {
   "cell_type": "code",
   "execution_count": 162,
   "id": "b703976d",
   "metadata": {
    "ExecuteTime": {
     "end_time": "2023-04-26T05:05:54.762315Z",
     "start_time": "2023-04-26T05:05:54.745326Z"
    }
   },
   "outputs": [
    {
     "data": {
      "text/html": [
       "<div>\n",
       "<style scoped>\n",
       "    .dataframe tbody tr th:only-of-type {\n",
       "        vertical-align: middle;\n",
       "    }\n",
       "\n",
       "    .dataframe tbody tr th {\n",
       "        vertical-align: top;\n",
       "    }\n",
       "\n",
       "    .dataframe thead th {\n",
       "        text-align: right;\n",
       "    }\n",
       "</style>\n",
       "<table border=\"1\" class=\"dataframe\">\n",
       "  <thead>\n",
       "    <tr style=\"text-align: right;\">\n",
       "      <th></th>\n",
       "      <th></th>\n",
       "      <th>c1</th>\n",
       "      <th>c2</th>\n",
       "      <th>c3</th>\n",
       "    </tr>\n",
       "  </thead>\n",
       "  <tbody>\n",
       "    <tr>\n",
       "      <th rowspan=\"2\" valign=\"top\">a</th>\n",
       "      <th>1</th>\n",
       "      <td>0.778913</td>\n",
       "      <td>0.334385</td>\n",
       "      <td>0.045514</td>\n",
       "    </tr>\n",
       "    <tr>\n",
       "      <th>2</th>\n",
       "      <td>0.700204</td>\n",
       "      <td>0.073069</td>\n",
       "      <td>0.563314</td>\n",
       "    </tr>\n",
       "    <tr>\n",
       "      <th rowspan=\"2\" valign=\"top\">b</th>\n",
       "      <th>1</th>\n",
       "      <td>0.464048</td>\n",
       "      <td>0.694160</td>\n",
       "      <td>0.778195</td>\n",
       "    </tr>\n",
       "    <tr>\n",
       "      <th>2</th>\n",
       "      <td>0.404714</td>\n",
       "      <td>0.526721</td>\n",
       "      <td>0.627975</td>\n",
       "    </tr>\n",
       "    <tr>\n",
       "      <th rowspan=\"2\" valign=\"top\">c</th>\n",
       "      <th>1</th>\n",
       "      <td>0.479278</td>\n",
       "      <td>0.622238</td>\n",
       "      <td>0.444180</td>\n",
       "    </tr>\n",
       "    <tr>\n",
       "      <th>2</th>\n",
       "      <td>0.671667</td>\n",
       "      <td>0.914155</td>\n",
       "      <td>0.269253</td>\n",
       "    </tr>\n",
       "  </tbody>\n",
       "</table>\n",
       "</div>"
      ],
      "text/plain": [
       "           c1        c2        c3\n",
       "a 1  0.778913  0.334385  0.045514\n",
       "  2  0.700204  0.073069  0.563314\n",
       "b 1  0.464048  0.694160  0.778195\n",
       "  2  0.404714  0.526721  0.627975\n",
       "c 1  0.479278  0.622238  0.444180\n",
       "  2  0.671667  0.914155  0.269253"
      ]
     },
     "execution_count": 162,
     "metadata": {},
     "output_type": "execute_result"
    }
   ],
   "source": [
    "pd.DataFrame(np.random.rand(18).reshape(6,3), \n",
    "             index= [[\"a\",\"a\",\"b\",\"b\",\"c\",\"c\"],[1,2,1,2,1,2]],\n",
    "            columns = [\"c1\",\"c2\",\"c3\"])"
   ]
  },
  {
   "cell_type": "code",
   "execution_count": 163,
   "id": "29e11f3f",
   "metadata": {
    "ExecuteTime": {
     "end_time": "2023-04-26T05:09:08.289376Z",
     "start_time": "2023-04-26T05:09:08.270388Z"
    }
   },
   "outputs": [
    {
     "data": {
      "text/plain": [
       "MultiIndex([('a', 1),\n",
       "            ('a', 2),\n",
       "            ('b', 1),\n",
       "            ('b', 2),\n",
       "            ('c', 1),\n",
       "            ('c', 2)],\n",
       "           )"
      ]
     },
     "execution_count": 163,
     "metadata": {},
     "output_type": "execute_result"
    }
   ],
   "source": [
    "pd.MultiIndex.from_arrays([['a','a','b','b','c','c'],[1,2,1,2,1,2]])"
   ]
  },
  {
   "cell_type": "code",
   "execution_count": 165,
   "id": "e680364e",
   "metadata": {
    "ExecuteTime": {
     "end_time": "2023-04-26T05:10:10.993363Z",
     "start_time": "2023-04-26T05:10:10.982371Z"
    }
   },
   "outputs": [
    {
     "data": {
      "text/plain": [
       "MultiIndex([('a', 1),\n",
       "            ('a', 2),\n",
       "            ('b', 1),\n",
       "            ('b', 2),\n",
       "            ('c', 1),\n",
       "            ('c', 2)],\n",
       "           )"
      ]
     },
     "execution_count": 165,
     "metadata": {},
     "output_type": "execute_result"
    }
   ],
   "source": [
    "pd.MultiIndex.from_tuples([('a',1),('a',2),('b',1),('b',2),('c',1),('c',2)])"
   ]
  },
  {
   "cell_type": "code",
   "execution_count": 168,
   "id": "6f4631ed",
   "metadata": {
    "ExecuteTime": {
     "end_time": "2023-04-26T05:11:03.383754Z",
     "start_time": "2023-04-26T05:11:03.365767Z"
    }
   },
   "outputs": [
    {
     "data": {
      "text/plain": [
       "MultiIndex([('a', 1),\n",
       "            ('a', 2),\n",
       "            ('b', 1),\n",
       "            ('b', 2),\n",
       "            ('c', 1),\n",
       "            ('c', 2)],\n",
       "           )"
      ]
     },
     "execution_count": 168,
     "metadata": {},
     "output_type": "execute_result"
    }
   ],
   "source": [
    "pd.MultiIndex.from_product([['a','b','c'],[1,2]])"
   ]
  },
  {
   "cell_type": "code",
   "execution_count": 169,
   "id": "2d207a65",
   "metadata": {
    "ExecuteTime": {
     "end_time": "2023-04-26T05:12:23.217168Z",
     "start_time": "2023-04-26T05:12:23.197180Z"
    }
   },
   "outputs": [
    {
     "data": {
      "text/plain": [
       "MultiIndex([('a', 1),\n",
       "            ('a', 2),\n",
       "            ('b', 1),\n",
       "            ('b', 2),\n",
       "            ('c', 1),\n",
       "            ('c', 2)],\n",
       "           )"
      ]
     },
     "execution_count": 169,
     "metadata": {},
     "output_type": "execute_result"
    }
   ],
   "source": [
    "pd.MultiIndex(levels=[['a','b','c'],[1,2]],\n",
    "                     codes = [[0,0,1,1,2,2],[0,1,0,1,0,1]])"
   ]
  },
  {
   "cell_type": "code",
   "execution_count": 174,
   "id": "baa36c68",
   "metadata": {
    "ExecuteTime": {
     "end_time": "2023-04-26T05:24:32.658417Z",
     "start_time": "2023-04-26T05:24:32.644425Z"
    }
   },
   "outputs": [
    {
     "data": {
      "text/plain": [
       "행정구역    년도  \n",
       "서울 특별시  2010    10312434\n",
       "        2020     9720846\n",
       "인천 광역시  2010     3568940\n",
       "        2020     4539334\n",
       "부산 광역시  2010     2758296\n",
       "        2020     2947217\n",
       "대구 광역시  2010     2511676\n",
       "        2020     2427954\n",
       "대전 광역시  2010     1503664\n",
       "        2020     1471040\n",
       "광주 광역시  2010     1454636\n",
       "        2020     1455048\n",
       "dtype: int64"
      ]
     },
     "execution_count": 174,
     "metadata": {},
     "output_type": "execute_result"
    }
   ],
   "source": [
    "population.index.names = [\"행정구역\", \"년도\"]\n",
    "population"
   ]
  },
  {
   "cell_type": "code",
   "execution_count": 186,
   "id": "42c797cc",
   "metadata": {
    "ExecuteTime": {
     "end_time": "2023-04-26T05:30:54.276005Z",
     "start_time": "2023-04-26T05:30:54.248024Z"
    }
   },
   "outputs": [
    {
     "data": {
      "text/html": [
       "<div>\n",
       "<style scoped>\n",
       "    .dataframe tbody tr th:only-of-type {\n",
       "        vertical-align: middle;\n",
       "    }\n",
       "\n",
       "    .dataframe tbody tr th {\n",
       "        vertical-align: top;\n",
       "    }\n",
       "\n",
       "    .dataframe thead tr th {\n",
       "        text-align: left;\n",
       "    }\n",
       "\n",
       "    .dataframe thead tr:last-of-type th {\n",
       "        text-align: right;\n",
       "    }\n",
       "</style>\n",
       "<table border=\"1\" class=\"dataframe\">\n",
       "  <thead>\n",
       "    <tr>\n",
       "      <th></th>\n",
       "      <th>col_name1</th>\n",
       "      <th colspan=\"2\" halign=\"left\">c1</th>\n",
       "      <th colspan=\"2\" halign=\"left\">c2</th>\n",
       "      <th colspan=\"2\" halign=\"left\">c3</th>\n",
       "    </tr>\n",
       "    <tr>\n",
       "      <th></th>\n",
       "      <th>col_name2</th>\n",
       "      <th>1</th>\n",
       "      <th>2</th>\n",
       "      <th>1</th>\n",
       "      <th>2</th>\n",
       "      <th>1</th>\n",
       "      <th>2</th>\n",
       "    </tr>\n",
       "    <tr>\n",
       "      <th>names1</th>\n",
       "      <th>names2</th>\n",
       "      <th></th>\n",
       "      <th></th>\n",
       "      <th></th>\n",
       "      <th></th>\n",
       "      <th></th>\n",
       "      <th></th>\n",
       "    </tr>\n",
       "  </thead>\n",
       "  <tbody>\n",
       "    <tr>\n",
       "      <th rowspan=\"2\" valign=\"top\">a</th>\n",
       "      <th>1</th>\n",
       "      <td>0.54</td>\n",
       "      <td>0.92</td>\n",
       "      <td>0.27</td>\n",
       "      <td>0.50</td>\n",
       "      <td>0.25</td>\n",
       "      <td>0.04</td>\n",
       "    </tr>\n",
       "    <tr>\n",
       "      <th>2</th>\n",
       "      <td>0.53</td>\n",
       "      <td>0.39</td>\n",
       "      <td>0.31</td>\n",
       "      <td>0.46</td>\n",
       "      <td>0.46</td>\n",
       "      <td>0.38</td>\n",
       "    </tr>\n",
       "    <tr>\n",
       "      <th rowspan=\"2\" valign=\"top\">b</th>\n",
       "      <th>1</th>\n",
       "      <td>0.56</td>\n",
       "      <td>0.65</td>\n",
       "      <td>0.57</td>\n",
       "      <td>0.78</td>\n",
       "      <td>0.33</td>\n",
       "      <td>0.66</td>\n",
       "    </tr>\n",
       "    <tr>\n",
       "      <th>2</th>\n",
       "      <td>0.47</td>\n",
       "      <td>0.21</td>\n",
       "      <td>0.44</td>\n",
       "      <td>0.25</td>\n",
       "      <td>0.50</td>\n",
       "      <td>0.06</td>\n",
       "    </tr>\n",
       "    <tr>\n",
       "      <th rowspan=\"2\" valign=\"top\">c</th>\n",
       "      <th>1</th>\n",
       "      <td>0.79</td>\n",
       "      <td>0.10</td>\n",
       "      <td>0.62</td>\n",
       "      <td>0.75</td>\n",
       "      <td>0.01</td>\n",
       "      <td>0.29</td>\n",
       "    </tr>\n",
       "    <tr>\n",
       "      <th>2</th>\n",
       "      <td>0.53</td>\n",
       "      <td>0.59</td>\n",
       "      <td>0.00</td>\n",
       "      <td>0.26</td>\n",
       "      <td>0.38</td>\n",
       "      <td>0.62</td>\n",
       "    </tr>\n",
       "  </tbody>\n",
       "</table>\n",
       "</div>"
      ],
      "text/plain": [
       "col_name1        c1          c2          c3      \n",
       "col_name2         1     2     1     2     1     2\n",
       "names1 names2                                    \n",
       "a      1       0.54  0.92  0.27  0.50  0.25  0.04\n",
       "       2       0.53  0.39  0.31  0.46  0.46  0.38\n",
       "b      1       0.56  0.65  0.57  0.78  0.33  0.66\n",
       "       2       0.47  0.21  0.44  0.25  0.50  0.06\n",
       "c      1       0.79  0.10  0.62  0.75  0.01  0.29\n",
       "       2       0.53  0.59  0.00  0.26  0.38  0.62"
      ]
     },
     "execution_count": 186,
     "metadata": {},
     "output_type": "execute_result"
    }
   ],
   "source": [
    "# MultiIndex.from_product/array/tuples 같은 함수로 공통 인덱스를 묶어준다.\n",
    "# 굳이 MultiIndex 안하고 노가다로 해도 됨\n",
    "col = pd.MultiIndex.from_product([[\"c1\",\"c2\",\"c3\"],[1,2]], names = [\"col_name1\", \"col_name2\"])\n",
    "idx = pd.MultiIndex.from_product([['a','b','c'],[1,2]], names = [\"names1\", \"names2\"])\n",
    "data = np.round(np.random.rand(6,6),2)\n",
    "\n",
    "mdf = pd.DataFrame(data, columns=col, index=idx)\n",
    "mdf"
   ]
  },
  {
   "cell_type": "code",
   "execution_count": 189,
   "id": "0b40e03f",
   "metadata": {
    "ExecuteTime": {
     "end_time": "2023-04-26T05:31:18.799234Z",
     "start_time": "2023-04-26T05:31:18.776248Z"
    }
   },
   "outputs": [
    {
     "data": {
      "text/plain": [
       "names1  names2\n",
       "a       1         0.54\n",
       "        2         0.53\n",
       "b       1         0.56\n",
       "        2         0.47\n",
       "c       1         0.79\n",
       "        2         0.53\n",
       "Name: 1, dtype: float64"
      ]
     },
     "execution_count": 189,
     "metadata": {},
     "output_type": "execute_result"
    }
   ],
   "source": [
    "mdf[\"c1\"][1]"
   ]
  },
  {
   "cell_type": "code",
   "execution_count": 190,
   "id": "3cf1a701",
   "metadata": {
    "ExecuteTime": {
     "end_time": "2023-04-26T05:45:23.330976Z",
     "start_time": "2023-04-26T05:45:23.301993Z"
    },
    "scrolled": true
   },
   "outputs": [
    {
     "data": {
      "text/html": [
       "<div>\n",
       "<style scoped>\n",
       "    .dataframe tbody tr th:only-of-type {\n",
       "        vertical-align: middle;\n",
       "    }\n",
       "\n",
       "    .dataframe tbody tr th {\n",
       "        vertical-align: top;\n",
       "    }\n",
       "\n",
       "    .dataframe thead tr th {\n",
       "        text-align: left;\n",
       "    }\n",
       "\n",
       "    .dataframe thead tr:last-of-type th {\n",
       "        text-align: right;\n",
       "    }\n",
       "</style>\n",
       "<table border=\"1\" class=\"dataframe\">\n",
       "  <thead>\n",
       "    <tr>\n",
       "      <th></th>\n",
       "      <th>col_name1</th>\n",
       "      <th colspan=\"2\" halign=\"left\">c1</th>\n",
       "      <th colspan=\"2\" halign=\"left\">c2</th>\n",
       "    </tr>\n",
       "    <tr>\n",
       "      <th></th>\n",
       "      <th>col_name2</th>\n",
       "      <th>1</th>\n",
       "      <th>2</th>\n",
       "      <th>1</th>\n",
       "      <th>2</th>\n",
       "    </tr>\n",
       "    <tr>\n",
       "      <th>names1</th>\n",
       "      <th>names2</th>\n",
       "      <th></th>\n",
       "      <th></th>\n",
       "      <th></th>\n",
       "      <th></th>\n",
       "    </tr>\n",
       "  </thead>\n",
       "  <tbody>\n",
       "    <tr>\n",
       "      <th rowspan=\"2\" valign=\"top\">a</th>\n",
       "      <th>1</th>\n",
       "      <td>0.54</td>\n",
       "      <td>0.92</td>\n",
       "      <td>0.27</td>\n",
       "      <td>0.50</td>\n",
       "    </tr>\n",
       "    <tr>\n",
       "      <th>2</th>\n",
       "      <td>0.53</td>\n",
       "      <td>0.39</td>\n",
       "      <td>0.31</td>\n",
       "      <td>0.46</td>\n",
       "    </tr>\n",
       "    <tr>\n",
       "      <th>b</th>\n",
       "      <th>1</th>\n",
       "      <td>0.56</td>\n",
       "      <td>0.65</td>\n",
       "      <td>0.57</td>\n",
       "      <td>0.78</td>\n",
       "    </tr>\n",
       "  </tbody>\n",
       "</table>\n",
       "</div>"
      ],
      "text/plain": [
       "col_name1        c1          c2      \n",
       "col_name2         1     2     1     2\n",
       "names1 names2                        \n",
       "a      1       0.54  0.92  0.27  0.50\n",
       "       2       0.53  0.39  0.31  0.46\n",
       "b      1       0.56  0.65  0.57  0.78"
      ]
     },
     "execution_count": 190,
     "metadata": {},
     "output_type": "execute_result"
    }
   ],
   "source": [
    "mdf.iloc[:3,:4]"
   ]
  },
  {
   "cell_type": "code",
   "execution_count": 199,
   "id": "4d9b3f6e",
   "metadata": {
    "ExecuteTime": {
     "end_time": "2023-04-26T05:48:32.063709Z",
     "start_time": "2023-04-26T05:48:32.036727Z"
    }
   },
   "outputs": [
    {
     "data": {
      "text/html": [
       "<div>\n",
       "<style scoped>\n",
       "    .dataframe tbody tr th:only-of-type {\n",
       "        vertical-align: middle;\n",
       "    }\n",
       "\n",
       "    .dataframe tbody tr th {\n",
       "        vertical-align: top;\n",
       "    }\n",
       "\n",
       "    .dataframe thead tr th {\n",
       "        text-align: left;\n",
       "    }\n",
       "\n",
       "    .dataframe thead tr:last-of-type th {\n",
       "        text-align: right;\n",
       "    }\n",
       "</style>\n",
       "<table border=\"1\" class=\"dataframe\">\n",
       "  <thead>\n",
       "    <tr>\n",
       "      <th></th>\n",
       "      <th>col_name1</th>\n",
       "      <th>c1</th>\n",
       "      <th>c2</th>\n",
       "      <th>c3</th>\n",
       "    </tr>\n",
       "    <tr>\n",
       "      <th></th>\n",
       "      <th>col_name2</th>\n",
       "      <th>2</th>\n",
       "      <th>2</th>\n",
       "      <th>2</th>\n",
       "    </tr>\n",
       "    <tr>\n",
       "      <th>names1</th>\n",
       "      <th>names2</th>\n",
       "      <th></th>\n",
       "      <th></th>\n",
       "      <th></th>\n",
       "    </tr>\n",
       "  </thead>\n",
       "  <tbody>\n",
       "    <tr>\n",
       "      <th>a</th>\n",
       "      <th>1</th>\n",
       "      <td>0.92</td>\n",
       "      <td>0.50</td>\n",
       "      <td>0.04</td>\n",
       "    </tr>\n",
       "    <tr>\n",
       "      <th>b</th>\n",
       "      <th>1</th>\n",
       "      <td>0.65</td>\n",
       "      <td>0.78</td>\n",
       "      <td>0.66</td>\n",
       "    </tr>\n",
       "    <tr>\n",
       "      <th>c</th>\n",
       "      <th>1</th>\n",
       "      <td>0.10</td>\n",
       "      <td>0.75</td>\n",
       "      <td>0.29</td>\n",
       "    </tr>\n",
       "  </tbody>\n",
       "</table>\n",
       "</div>"
      ],
      "text/plain": [
       "col_name1        c1    c2    c3\n",
       "col_name2         2     2     2\n",
       "names1 names2                  \n",
       "a      1       0.92  0.50  0.04\n",
       "b      1       0.65  0.78  0.66\n",
       "c      1       0.10  0.75  0.29"
      ]
     },
     "execution_count": 199,
     "metadata": {},
     "output_type": "execute_result"
    }
   ],
   "source": [
    "idx_slice = pd.IndexSlice\n",
    "mdf.loc[idx_slice[:,1],idx_slice[:,2]]"
   ]
  },
  {
   "cell_type": "code",
   "execution_count": 217,
   "id": "cb1166d4",
   "metadata": {
    "ExecuteTime": {
     "end_time": "2023-04-26T05:55:44.662604Z",
     "start_time": "2023-04-26T05:55:44.639618Z"
    }
   },
   "outputs": [
    {
     "data": {
      "text/html": [
       "<div>\n",
       "<style scoped>\n",
       "    .dataframe tbody tr th:only-of-type {\n",
       "        vertical-align: middle;\n",
       "    }\n",
       "\n",
       "    .dataframe tbody tr th {\n",
       "        vertical-align: top;\n",
       "    }\n",
       "\n",
       "    .dataframe thead tr th {\n",
       "        text-align: left;\n",
       "    }\n",
       "\n",
       "    .dataframe thead tr:last-of-type th {\n",
       "        text-align: right;\n",
       "    }\n",
       "</style>\n",
       "<table border=\"1\" class=\"dataframe\">\n",
       "  <thead>\n",
       "    <tr>\n",
       "      <th></th>\n",
       "      <th>col_name1</th>\n",
       "      <th>c1</th>\n",
       "      <th>c2</th>\n",
       "      <th>c3</th>\n",
       "    </tr>\n",
       "    <tr>\n",
       "      <th></th>\n",
       "      <th>col_name2</th>\n",
       "      <th>2</th>\n",
       "      <th>2</th>\n",
       "      <th>2</th>\n",
       "    </tr>\n",
       "    <tr>\n",
       "      <th>names1</th>\n",
       "      <th>names2</th>\n",
       "      <th></th>\n",
       "      <th></th>\n",
       "      <th></th>\n",
       "    </tr>\n",
       "  </thead>\n",
       "  <tbody>\n",
       "    <tr>\n",
       "      <th>a</th>\n",
       "      <th>1</th>\n",
       "      <td>0.92</td>\n",
       "      <td>0.50</td>\n",
       "      <td>0.04</td>\n",
       "    </tr>\n",
       "    <tr>\n",
       "      <th>b</th>\n",
       "      <th>1</th>\n",
       "      <td>0.65</td>\n",
       "      <td>0.78</td>\n",
       "      <td>0.66</td>\n",
       "    </tr>\n",
       "    <tr>\n",
       "      <th>c</th>\n",
       "      <th>1</th>\n",
       "      <td>0.10</td>\n",
       "      <td>0.75</td>\n",
       "      <td>0.29</td>\n",
       "    </tr>\n",
       "  </tbody>\n",
       "</table>\n",
       "</div>"
      ],
      "text/plain": [
       "col_name1        c1    c2    c3\n",
       "col_name2         2     2     2\n",
       "names1 names2                  \n",
       "a      1       0.92  0.50  0.04\n",
       "b      1       0.65  0.78  0.66\n",
       "c      1       0.10  0.75  0.29"
      ]
     },
     "execution_count": 217,
     "metadata": {},
     "output_type": "execute_result"
    }
   ],
   "source": [
    "# pd.IndexSlice 대신 이렇게 해도 된다.\n",
    "mdf.loc[([\"a\",\"b\",\"c\"],[1,1,1]),([\"c1\",\"c2\",\"c3\"],[2,2,2])]"
   ]
  },
  {
   "cell_type": "markdown",
   "id": "8d2d09b2",
   "metadata": {},
   "source": [
    "### 다중 인덱스 재정렬"
   ]
  },
  {
   "cell_type": "code",
   "execution_count": 241,
   "id": "28b99e6f",
   "metadata": {
    "ExecuteTime": {
     "end_time": "2023-04-26T06:10:33.243994Z",
     "start_time": "2023-04-26T06:10:33.228005Z"
    }
   },
   "outputs": [
    {
     "data": {
      "text/html": [
       "<div>\n",
       "<style scoped>\n",
       "    .dataframe tbody tr th:only-of-type {\n",
       "        vertical-align: middle;\n",
       "    }\n",
       "\n",
       "    .dataframe tbody tr th {\n",
       "        vertical-align: top;\n",
       "    }\n",
       "\n",
       "    .dataframe thead th {\n",
       "        text-align: right;\n",
       "    }\n",
       "</style>\n",
       "<table border=\"1\" class=\"dataframe\">\n",
       "  <thead>\n",
       "    <tr style=\"text-align: right;\">\n",
       "      <th></th>\n",
       "      <th></th>\n",
       "      <th>총인구수</th>\n",
       "      <th>남자인구수</th>\n",
       "      <th>여자인구수</th>\n",
       "      <th>남여 비율</th>\n",
       "    </tr>\n",
       "    <tr>\n",
       "      <th>행정구역</th>\n",
       "      <th>년도</th>\n",
       "      <th></th>\n",
       "      <th></th>\n",
       "      <th></th>\n",
       "      <th></th>\n",
       "    </tr>\n",
       "  </thead>\n",
       "  <tbody>\n",
       "    <tr>\n",
       "      <th rowspan=\"2\" valign=\"top\">광주 광역시</th>\n",
       "      <th>2010</th>\n",
       "      <td>1454636</td>\n",
       "      <td>721780</td>\n",
       "      <td>732856</td>\n",
       "      <td>98.488653</td>\n",
       "    </tr>\n",
       "    <tr>\n",
       "      <th>2020</th>\n",
       "      <td>1455048</td>\n",
       "      <td>720060</td>\n",
       "      <td>734988</td>\n",
       "      <td>97.968946</td>\n",
       "    </tr>\n",
       "    <tr>\n",
       "      <th rowspan=\"2\" valign=\"top\">대구 광역시</th>\n",
       "      <th>2010</th>\n",
       "      <td>2511676</td>\n",
       "      <td>1255245</td>\n",
       "      <td>1256431</td>\n",
       "      <td>99.905606</td>\n",
       "    </tr>\n",
       "    <tr>\n",
       "      <th>2020</th>\n",
       "      <td>2427954</td>\n",
       "      <td>1198815</td>\n",
       "      <td>1229139</td>\n",
       "      <td>97.532907</td>\n",
       "    </tr>\n",
       "    <tr>\n",
       "      <th rowspan=\"2\" valign=\"top\">대전 광역시</th>\n",
       "      <th>2010</th>\n",
       "      <td>1503664</td>\n",
       "      <td>753648</td>\n",
       "      <td>750016</td>\n",
       "      <td>100.484256</td>\n",
       "    </tr>\n",
       "    <tr>\n",
       "      <th>2020</th>\n",
       "      <td>1471040</td>\n",
       "      <td>734441</td>\n",
       "      <td>736599</td>\n",
       "      <td>99.707032</td>\n",
       "    </tr>\n",
       "    <tr>\n",
       "      <th rowspan=\"2\" valign=\"top\">부산 광역시</th>\n",
       "      <th>2010</th>\n",
       "      <td>2758296</td>\n",
       "      <td>1390356</td>\n",
       "      <td>1367950</td>\n",
       "      <td>101.637925</td>\n",
       "    </tr>\n",
       "    <tr>\n",
       "      <th>2020</th>\n",
       "      <td>2947217</td>\n",
       "      <td>1476813</td>\n",
       "      <td>1470404</td>\n",
       "      <td>100.435867</td>\n",
       "    </tr>\n",
       "    <tr>\n",
       "      <th rowspan=\"2\" valign=\"top\">서울 특별시</th>\n",
       "      <th>2010</th>\n",
       "      <td>10312434</td>\n",
       "      <td>5111259</td>\n",
       "      <td>5201286</td>\n",
       "      <td>98.269140</td>\n",
       "    </tr>\n",
       "    <tr>\n",
       "      <th>2020</th>\n",
       "      <td>9720846</td>\n",
       "      <td>4732275</td>\n",
       "      <td>4988571</td>\n",
       "      <td>94.862336</td>\n",
       "    </tr>\n",
       "    <tr>\n",
       "      <th rowspan=\"2\" valign=\"top\">인천 광역시</th>\n",
       "      <th>2010</th>\n",
       "      <td>3568940</td>\n",
       "      <td>1773170</td>\n",
       "      <td>1794740</td>\n",
       "      <td>98.798155</td>\n",
       "    </tr>\n",
       "    <tr>\n",
       "      <th>2020</th>\n",
       "      <td>4539334</td>\n",
       "      <td>1668618</td>\n",
       "      <td>1735805</td>\n",
       "      <td>96.129346</td>\n",
       "    </tr>\n",
       "  </tbody>\n",
       "</table>\n",
       "</div>"
      ],
      "text/plain": [
       "                 총인구수    남자인구수    여자인구수       남여 비율\n",
       "행정구역   년도                                          \n",
       "광주 광역시 2010   1454636   721780   732856   98.488653\n",
       "       2020   1455048   720060   734988   97.968946\n",
       "대구 광역시 2010   2511676  1255245  1256431   99.905606\n",
       "       2020   2427954  1198815  1229139   97.532907\n",
       "대전 광역시 2010   1503664   753648   750016  100.484256\n",
       "       2020   1471040   734441   736599   99.707032\n",
       "부산 광역시 2010   2758296  1390356  1367950  101.637925\n",
       "       2020   2947217  1476813  1470404  100.435867\n",
       "서울 특별시 2010  10312434  5111259  5201286   98.269140\n",
       "       2020   9720846  4732275  4988571   94.862336\n",
       "인천 광역시 2010   3568940  1773170  1794740   98.798155\n",
       "       2020   4539334  1668618  1735805   96.129346"
      ]
     },
     "execution_count": 241,
     "metadata": {},
     "output_type": "execute_result"
    }
   ],
   "source": [
    "korea_mdf = korea_mdf.sort_index()\n",
    "korea_mdf"
   ]
  },
  {
   "cell_type": "code",
   "execution_count": 244,
   "id": "e410f5ae",
   "metadata": {
    "ExecuteTime": {
     "end_time": "2023-04-26T06:12:43.583052Z",
     "start_time": "2023-04-26T06:12:43.563066Z"
    }
   },
   "outputs": [
    {
     "data": {
      "text/html": [
       "<div>\n",
       "<style scoped>\n",
       "    .dataframe tbody tr th:only-of-type {\n",
       "        vertical-align: middle;\n",
       "    }\n",
       "\n",
       "    .dataframe tbody tr th {\n",
       "        vertical-align: top;\n",
       "    }\n",
       "\n",
       "    .dataframe thead th {\n",
       "        text-align: right;\n",
       "    }\n",
       "</style>\n",
       "<table border=\"1\" class=\"dataframe\">\n",
       "  <thead>\n",
       "    <tr style=\"text-align: right;\">\n",
       "      <th></th>\n",
       "      <th></th>\n",
       "      <th>총인구수</th>\n",
       "      <th>남자인구수</th>\n",
       "      <th>여자인구수</th>\n",
       "      <th>남여 비율</th>\n",
       "    </tr>\n",
       "    <tr>\n",
       "      <th>행정구역</th>\n",
       "      <th>년도</th>\n",
       "      <th></th>\n",
       "      <th></th>\n",
       "      <th></th>\n",
       "      <th></th>\n",
       "    </tr>\n",
       "  </thead>\n",
       "  <tbody>\n",
       "    <tr>\n",
       "      <th rowspan=\"2\" valign=\"top\">대구 광역시</th>\n",
       "      <th>2010</th>\n",
       "      <td>2511676</td>\n",
       "      <td>1255245</td>\n",
       "      <td>1256431</td>\n",
       "      <td>99.905606</td>\n",
       "    </tr>\n",
       "    <tr>\n",
       "      <th>2020</th>\n",
       "      <td>2427954</td>\n",
       "      <td>1198815</td>\n",
       "      <td>1229139</td>\n",
       "      <td>97.532907</td>\n",
       "    </tr>\n",
       "    <tr>\n",
       "      <th rowspan=\"2\" valign=\"top\">대전 광역시</th>\n",
       "      <th>2010</th>\n",
       "      <td>1503664</td>\n",
       "      <td>753648</td>\n",
       "      <td>750016</td>\n",
       "      <td>100.484256</td>\n",
       "    </tr>\n",
       "    <tr>\n",
       "      <th>2020</th>\n",
       "      <td>1471040</td>\n",
       "      <td>734441</td>\n",
       "      <td>736599</td>\n",
       "      <td>99.707032</td>\n",
       "    </tr>\n",
       "    <tr>\n",
       "      <th rowspan=\"2\" valign=\"top\">부산 광역시</th>\n",
       "      <th>2010</th>\n",
       "      <td>2758296</td>\n",
       "      <td>1390356</td>\n",
       "      <td>1367950</td>\n",
       "      <td>101.637925</td>\n",
       "    </tr>\n",
       "    <tr>\n",
       "      <th>2020</th>\n",
       "      <td>2947217</td>\n",
       "      <td>1476813</td>\n",
       "      <td>1470404</td>\n",
       "      <td>100.435867</td>\n",
       "    </tr>\n",
       "  </tbody>\n",
       "</table>\n",
       "</div>"
      ],
      "text/plain": [
       "                총인구수    남자인구수    여자인구수       남여 비율\n",
       "행정구역   년도                                         \n",
       "대구 광역시 2010  2511676  1255245  1256431   99.905606\n",
       "       2020  2427954  1198815  1229139   97.532907\n",
       "대전 광역시 2010  1503664   753648   750016  100.484256\n",
       "       2020  1471040   734441   736599   99.707032\n",
       "부산 광역시 2010  2758296  1390356  1367950  101.637925\n",
       "       2020  2947217  1476813  1470404  100.435867"
      ]
     },
     "execution_count": 244,
     "metadata": {},
     "output_type": "execute_result"
    }
   ],
   "source": [
    "# MultiIndex 같은 경우 슬라이싱을 정렬 이후에 이렇게 가능하다.\n",
    "# 이렇게 하지 않으면 pd.IndexSlice 같은 방식으로 해야하는데 이건 복잡하다.\n",
    "korea_mdf[\"대구 광역시\" : \"부산 광역시\"]  "
   ]
  },
  {
   "cell_type": "code",
   "execution_count": 247,
   "id": "aa45b5b9",
   "metadata": {
    "ExecuteTime": {
     "end_time": "2023-04-26T06:13:09.345235Z",
     "start_time": "2023-04-26T06:13:09.322250Z"
    }
   },
   "outputs": [
    {
     "data": {
      "text/html": [
       "<div>\n",
       "<style scoped>\n",
       "    .dataframe tbody tr th:only-of-type {\n",
       "        vertical-align: middle;\n",
       "    }\n",
       "\n",
       "    .dataframe tbody tr th {\n",
       "        vertical-align: top;\n",
       "    }\n",
       "\n",
       "    .dataframe thead th {\n",
       "        text-align: right;\n",
       "    }\n",
       "</style>\n",
       "<table border=\"1\" class=\"dataframe\">\n",
       "  <thead>\n",
       "    <tr style=\"text-align: right;\">\n",
       "      <th></th>\n",
       "      <th></th>\n",
       "      <th>총인구수</th>\n",
       "      <th>남자인구수</th>\n",
       "      <th>여자인구수</th>\n",
       "      <th>남여 비율</th>\n",
       "    </tr>\n",
       "    <tr>\n",
       "      <th>행정구역</th>\n",
       "      <th>년도</th>\n",
       "      <th></th>\n",
       "      <th></th>\n",
       "      <th></th>\n",
       "      <th></th>\n",
       "    </tr>\n",
       "  </thead>\n",
       "  <tbody>\n",
       "    <tr>\n",
       "      <th rowspan=\"2\" valign=\"top\">광주 광역시</th>\n",
       "      <th>2010</th>\n",
       "      <td>1454636</td>\n",
       "      <td>721780</td>\n",
       "      <td>732856</td>\n",
       "      <td>98.488653</td>\n",
       "    </tr>\n",
       "    <tr>\n",
       "      <th>2020</th>\n",
       "      <td>1455048</td>\n",
       "      <td>720060</td>\n",
       "      <td>734988</td>\n",
       "      <td>97.968946</td>\n",
       "    </tr>\n",
       "    <tr>\n",
       "      <th rowspan=\"2\" valign=\"top\">대구 광역시</th>\n",
       "      <th>2010</th>\n",
       "      <td>2511676</td>\n",
       "      <td>1255245</td>\n",
       "      <td>1256431</td>\n",
       "      <td>99.905606</td>\n",
       "    </tr>\n",
       "    <tr>\n",
       "      <th>2020</th>\n",
       "      <td>2427954</td>\n",
       "      <td>1198815</td>\n",
       "      <td>1229139</td>\n",
       "      <td>97.532907</td>\n",
       "    </tr>\n",
       "    <tr>\n",
       "      <th rowspan=\"2\" valign=\"top\">대전 광역시</th>\n",
       "      <th>2010</th>\n",
       "      <td>1503664</td>\n",
       "      <td>753648</td>\n",
       "      <td>750016</td>\n",
       "      <td>100.484256</td>\n",
       "    </tr>\n",
       "    <tr>\n",
       "      <th>2020</th>\n",
       "      <td>1471040</td>\n",
       "      <td>734441</td>\n",
       "      <td>736599</td>\n",
       "      <td>99.707032</td>\n",
       "    </tr>\n",
       "    <tr>\n",
       "      <th rowspan=\"2\" valign=\"top\">부산 광역시</th>\n",
       "      <th>2010</th>\n",
       "      <td>2758296</td>\n",
       "      <td>1390356</td>\n",
       "      <td>1367950</td>\n",
       "      <td>101.637925</td>\n",
       "    </tr>\n",
       "    <tr>\n",
       "      <th>2020</th>\n",
       "      <td>2947217</td>\n",
       "      <td>1476813</td>\n",
       "      <td>1470404</td>\n",
       "      <td>100.435867</td>\n",
       "    </tr>\n",
       "    <tr>\n",
       "      <th rowspan=\"2\" valign=\"top\">서울 특별시</th>\n",
       "      <th>2010</th>\n",
       "      <td>10312434</td>\n",
       "      <td>5111259</td>\n",
       "      <td>5201286</td>\n",
       "      <td>98.269140</td>\n",
       "    </tr>\n",
       "    <tr>\n",
       "      <th>2020</th>\n",
       "      <td>9720846</td>\n",
       "      <td>4732275</td>\n",
       "      <td>4988571</td>\n",
       "      <td>94.862336</td>\n",
       "    </tr>\n",
       "    <tr>\n",
       "      <th rowspan=\"2\" valign=\"top\">인천 광역시</th>\n",
       "      <th>2010</th>\n",
       "      <td>3568940</td>\n",
       "      <td>1773170</td>\n",
       "      <td>1794740</td>\n",
       "      <td>98.798155</td>\n",
       "    </tr>\n",
       "    <tr>\n",
       "      <th>2020</th>\n",
       "      <td>4539334</td>\n",
       "      <td>1668618</td>\n",
       "      <td>1735805</td>\n",
       "      <td>96.129346</td>\n",
       "    </tr>\n",
       "  </tbody>\n",
       "</table>\n",
       "</div>"
      ],
      "text/plain": [
       "                 총인구수    남자인구수    여자인구수       남여 비율\n",
       "행정구역   년도                                          \n",
       "광주 광역시 2010   1454636   721780   732856   98.488653\n",
       "       2020   1455048   720060   734988   97.968946\n",
       "대구 광역시 2010   2511676  1255245  1256431   99.905606\n",
       "       2020   2427954  1198815  1229139   97.532907\n",
       "대전 광역시 2010   1503664   753648   750016  100.484256\n",
       "       2020   1471040   734441   736599   99.707032\n",
       "부산 광역시 2010   2758296  1390356  1367950  101.637925\n",
       "       2020   2947217  1476813  1470404  100.435867\n",
       "서울 특별시 2010  10312434  5111259  5201286   98.269140\n",
       "       2020   9720846  4732275  4988571   94.862336\n",
       "인천 광역시 2010   3568940  1773170  1794740   98.798155\n",
       "       2020   4539334  1668618  1735805   96.129346"
      ]
     },
     "execution_count": 247,
     "metadata": {},
     "output_type": "execute_result"
    }
   ],
   "source": [
    "korea_mdf"
   ]
  },
  {
   "cell_type": "code",
   "execution_count": 249,
   "id": "8eaa8c5e",
   "metadata": {
    "ExecuteTime": {
     "end_time": "2023-04-26T06:13:48.503274Z",
     "start_time": "2023-04-26T06:13:48.467294Z"
    }
   },
   "outputs": [
    {
     "data": {
      "text/html": [
       "<div>\n",
       "<style scoped>\n",
       "    .dataframe tbody tr th:only-of-type {\n",
       "        vertical-align: middle;\n",
       "    }\n",
       "\n",
       "    .dataframe tbody tr th {\n",
       "        vertical-align: top;\n",
       "    }\n",
       "\n",
       "    .dataframe thead tr th {\n",
       "        text-align: left;\n",
       "    }\n",
       "\n",
       "    .dataframe thead tr:last-of-type th {\n",
       "        text-align: right;\n",
       "    }\n",
       "</style>\n",
       "<table border=\"1\" class=\"dataframe\">\n",
       "  <thead>\n",
       "    <tr>\n",
       "      <th></th>\n",
       "      <th colspan=\"6\" halign=\"left\">총인구수</th>\n",
       "      <th colspan=\"4\" halign=\"left\">남자인구수</th>\n",
       "      <th>...</th>\n",
       "      <th colspan=\"4\" halign=\"left\">여자인구수</th>\n",
       "      <th colspan=\"6\" halign=\"left\">남여 비율</th>\n",
       "    </tr>\n",
       "    <tr>\n",
       "      <th>행정구역</th>\n",
       "      <th>광주 광역시</th>\n",
       "      <th>대구 광역시</th>\n",
       "      <th>대전 광역시</th>\n",
       "      <th>부산 광역시</th>\n",
       "      <th>서울 특별시</th>\n",
       "      <th>인천 광역시</th>\n",
       "      <th>광주 광역시</th>\n",
       "      <th>대구 광역시</th>\n",
       "      <th>대전 광역시</th>\n",
       "      <th>부산 광역시</th>\n",
       "      <th>...</th>\n",
       "      <th>대전 광역시</th>\n",
       "      <th>부산 광역시</th>\n",
       "      <th>서울 특별시</th>\n",
       "      <th>인천 광역시</th>\n",
       "      <th>광주 광역시</th>\n",
       "      <th>대구 광역시</th>\n",
       "      <th>대전 광역시</th>\n",
       "      <th>부산 광역시</th>\n",
       "      <th>서울 특별시</th>\n",
       "      <th>인천 광역시</th>\n",
       "    </tr>\n",
       "    <tr>\n",
       "      <th>년도</th>\n",
       "      <th></th>\n",
       "      <th></th>\n",
       "      <th></th>\n",
       "      <th></th>\n",
       "      <th></th>\n",
       "      <th></th>\n",
       "      <th></th>\n",
       "      <th></th>\n",
       "      <th></th>\n",
       "      <th></th>\n",
       "      <th></th>\n",
       "      <th></th>\n",
       "      <th></th>\n",
       "      <th></th>\n",
       "      <th></th>\n",
       "      <th></th>\n",
       "      <th></th>\n",
       "      <th></th>\n",
       "      <th></th>\n",
       "      <th></th>\n",
       "      <th></th>\n",
       "    </tr>\n",
       "  </thead>\n",
       "  <tbody>\n",
       "    <tr>\n",
       "      <th>2010</th>\n",
       "      <td>1454636</td>\n",
       "      <td>2511676</td>\n",
       "      <td>1503664</td>\n",
       "      <td>2758296</td>\n",
       "      <td>10312434</td>\n",
       "      <td>3568940</td>\n",
       "      <td>721780</td>\n",
       "      <td>1255245</td>\n",
       "      <td>753648</td>\n",
       "      <td>1390356</td>\n",
       "      <td>...</td>\n",
       "      <td>750016</td>\n",
       "      <td>1367950</td>\n",
       "      <td>5201286</td>\n",
       "      <td>1794740</td>\n",
       "      <td>98.488653</td>\n",
       "      <td>99.905606</td>\n",
       "      <td>100.484256</td>\n",
       "      <td>101.637925</td>\n",
       "      <td>98.269140</td>\n",
       "      <td>98.798155</td>\n",
       "    </tr>\n",
       "    <tr>\n",
       "      <th>2020</th>\n",
       "      <td>1455048</td>\n",
       "      <td>2427954</td>\n",
       "      <td>1471040</td>\n",
       "      <td>2947217</td>\n",
       "      <td>9720846</td>\n",
       "      <td>4539334</td>\n",
       "      <td>720060</td>\n",
       "      <td>1198815</td>\n",
       "      <td>734441</td>\n",
       "      <td>1476813</td>\n",
       "      <td>...</td>\n",
       "      <td>736599</td>\n",
       "      <td>1470404</td>\n",
       "      <td>4988571</td>\n",
       "      <td>1735805</td>\n",
       "      <td>97.968946</td>\n",
       "      <td>97.532907</td>\n",
       "      <td>99.707032</td>\n",
       "      <td>100.435867</td>\n",
       "      <td>94.862336</td>\n",
       "      <td>96.129346</td>\n",
       "    </tr>\n",
       "  </tbody>\n",
       "</table>\n",
       "<p>2 rows × 24 columns</p>\n",
       "</div>"
      ],
      "text/plain": [
       "         총인구수                                                 남자인구수           \\\n",
       "행정구역   광주 광역시   대구 광역시   대전 광역시   부산 광역시    서울 특별시   인천 광역시  광주 광역시   대구 광역시   \n",
       "년도                                                                             \n",
       "2010  1454636  2511676  1503664  2758296  10312434  3568940  721780  1255245   \n",
       "2020  1455048  2427954  1471040  2947217   9720846  4539334  720060  1198815   \n",
       "\n",
       "                       ...   여자인구수                                 남여 비율  \\\n",
       "행정구역  대전 광역시   부산 광역시  ...  대전 광역시   부산 광역시   서울 특별시   인천 광역시     광주 광역시   \n",
       "년도                     ...                                                 \n",
       "2010  753648  1390356  ...  750016  1367950  5201286  1794740  98.488653   \n",
       "2020  734441  1476813  ...  736599  1470404  4988571  1735805  97.968946   \n",
       "\n",
       "                                                               \n",
       "행정구역     대구 광역시      대전 광역시      부산 광역시     서울 특별시     인천 광역시  \n",
       "년도                                                             \n",
       "2010  99.905606  100.484256  101.637925  98.269140  98.798155  \n",
       "2020  97.532907   99.707032  100.435867  94.862336  96.129346  \n",
       "\n",
       "[2 rows x 24 columns]"
      ]
     },
     "execution_count": 249,
     "metadata": {},
     "output_type": "execute_result"
    }
   ],
   "source": [
    "korea_mdf.unstack(level=0)"
   ]
  },
  {
   "cell_type": "code",
   "execution_count": 250,
   "id": "b88c0255",
   "metadata": {
    "ExecuteTime": {
     "end_time": "2023-04-26T06:14:30.952806Z",
     "start_time": "2023-04-26T06:14:30.922826Z"
    }
   },
   "outputs": [
    {
     "data": {
      "text/html": [
       "<div>\n",
       "<style scoped>\n",
       "    .dataframe tbody tr th:only-of-type {\n",
       "        vertical-align: middle;\n",
       "    }\n",
       "\n",
       "    .dataframe tbody tr th {\n",
       "        vertical-align: top;\n",
       "    }\n",
       "\n",
       "    .dataframe thead tr th {\n",
       "        text-align: left;\n",
       "    }\n",
       "\n",
       "    .dataframe thead tr:last-of-type th {\n",
       "        text-align: right;\n",
       "    }\n",
       "</style>\n",
       "<table border=\"1\" class=\"dataframe\">\n",
       "  <thead>\n",
       "    <tr>\n",
       "      <th></th>\n",
       "      <th colspan=\"2\" halign=\"left\">총인구수</th>\n",
       "      <th colspan=\"2\" halign=\"left\">남자인구수</th>\n",
       "      <th colspan=\"2\" halign=\"left\">여자인구수</th>\n",
       "      <th colspan=\"2\" halign=\"left\">남여 비율</th>\n",
       "    </tr>\n",
       "    <tr>\n",
       "      <th>년도</th>\n",
       "      <th>2010</th>\n",
       "      <th>2020</th>\n",
       "      <th>2010</th>\n",
       "      <th>2020</th>\n",
       "      <th>2010</th>\n",
       "      <th>2020</th>\n",
       "      <th>2010</th>\n",
       "      <th>2020</th>\n",
       "    </tr>\n",
       "    <tr>\n",
       "      <th>행정구역</th>\n",
       "      <th></th>\n",
       "      <th></th>\n",
       "      <th></th>\n",
       "      <th></th>\n",
       "      <th></th>\n",
       "      <th></th>\n",
       "      <th></th>\n",
       "      <th></th>\n",
       "    </tr>\n",
       "  </thead>\n",
       "  <tbody>\n",
       "    <tr>\n",
       "      <th>광주 광역시</th>\n",
       "      <td>1454636</td>\n",
       "      <td>1455048</td>\n",
       "      <td>721780</td>\n",
       "      <td>720060</td>\n",
       "      <td>732856</td>\n",
       "      <td>734988</td>\n",
       "      <td>98.488653</td>\n",
       "      <td>97.968946</td>\n",
       "    </tr>\n",
       "    <tr>\n",
       "      <th>대구 광역시</th>\n",
       "      <td>2511676</td>\n",
       "      <td>2427954</td>\n",
       "      <td>1255245</td>\n",
       "      <td>1198815</td>\n",
       "      <td>1256431</td>\n",
       "      <td>1229139</td>\n",
       "      <td>99.905606</td>\n",
       "      <td>97.532907</td>\n",
       "    </tr>\n",
       "    <tr>\n",
       "      <th>대전 광역시</th>\n",
       "      <td>1503664</td>\n",
       "      <td>1471040</td>\n",
       "      <td>753648</td>\n",
       "      <td>734441</td>\n",
       "      <td>750016</td>\n",
       "      <td>736599</td>\n",
       "      <td>100.484256</td>\n",
       "      <td>99.707032</td>\n",
       "    </tr>\n",
       "    <tr>\n",
       "      <th>부산 광역시</th>\n",
       "      <td>2758296</td>\n",
       "      <td>2947217</td>\n",
       "      <td>1390356</td>\n",
       "      <td>1476813</td>\n",
       "      <td>1367950</td>\n",
       "      <td>1470404</td>\n",
       "      <td>101.637925</td>\n",
       "      <td>100.435867</td>\n",
       "    </tr>\n",
       "    <tr>\n",
       "      <th>서울 특별시</th>\n",
       "      <td>10312434</td>\n",
       "      <td>9720846</td>\n",
       "      <td>5111259</td>\n",
       "      <td>4732275</td>\n",
       "      <td>5201286</td>\n",
       "      <td>4988571</td>\n",
       "      <td>98.269140</td>\n",
       "      <td>94.862336</td>\n",
       "    </tr>\n",
       "    <tr>\n",
       "      <th>인천 광역시</th>\n",
       "      <td>3568940</td>\n",
       "      <td>4539334</td>\n",
       "      <td>1773170</td>\n",
       "      <td>1668618</td>\n",
       "      <td>1794740</td>\n",
       "      <td>1735805</td>\n",
       "      <td>98.798155</td>\n",
       "      <td>96.129346</td>\n",
       "    </tr>\n",
       "  </tbody>\n",
       "</table>\n",
       "</div>"
      ],
      "text/plain": [
       "            총인구수             남자인구수             여자인구수                남여 비율  \\\n",
       "년도          2010     2020     2010     2020     2010     2020        2010   \n",
       "행정구역                                                                        \n",
       "광주 광역시   1454636  1455048   721780   720060   732856   734988   98.488653   \n",
       "대구 광역시   2511676  2427954  1255245  1198815  1256431  1229139   99.905606   \n",
       "대전 광역시   1503664  1471040   753648   734441   750016   736599  100.484256   \n",
       "부산 광역시   2758296  2947217  1390356  1476813  1367950  1470404  101.637925   \n",
       "서울 특별시  10312434  9720846  5111259  4732275  5201286  4988571   98.269140   \n",
       "인천 광역시   3568940  4539334  1773170  1668618  1794740  1735805   98.798155   \n",
       "\n",
       "                    \n",
       "년도            2020  \n",
       "행정구역                \n",
       "광주 광역시   97.968946  \n",
       "대구 광역시   97.532907  \n",
       "대전 광역시   99.707032  \n",
       "부산 광역시  100.435867  \n",
       "서울 특별시   94.862336  \n",
       "인천 광역시   96.129346  "
      ]
     },
     "execution_count": 250,
     "metadata": {},
     "output_type": "execute_result"
    }
   ],
   "source": [
    "korea_mdf.unstack(level=1)"
   ]
  },
  {
   "cell_type": "code",
   "execution_count": 252,
   "id": "755a6639",
   "metadata": {
    "ExecuteTime": {
     "end_time": "2023-04-26T06:14:59.501490Z",
     "start_time": "2023-04-26T06:14:59.490497Z"
    }
   },
   "outputs": [
    {
     "data": {
      "text/plain": [
       "행정구역    년도         \n",
       "광주 광역시  2010  총인구수     1.454636e+06\n",
       "              남자인구수    7.217800e+05\n",
       "              여자인구수    7.328560e+05\n",
       "              남여 비율    9.848865e+01\n",
       "        2020  총인구수     1.455048e+06\n",
       "              남자인구수    7.200600e+05\n",
       "              여자인구수    7.349880e+05\n",
       "              남여 비율    9.796895e+01\n",
       "대구 광역시  2010  총인구수     2.511676e+06\n",
       "              남자인구수    1.255245e+06\n",
       "              여자인구수    1.256431e+06\n",
       "              남여 비율    9.990561e+01\n",
       "        2020  총인구수     2.427954e+06\n",
       "              남자인구수    1.198815e+06\n",
       "              여자인구수    1.229139e+06\n",
       "              남여 비율    9.753291e+01\n",
       "대전 광역시  2010  총인구수     1.503664e+06\n",
       "              남자인구수    7.536480e+05\n",
       "              여자인구수    7.500160e+05\n",
       "              남여 비율    1.004843e+02\n",
       "        2020  총인구수     1.471040e+06\n",
       "              남자인구수    7.344410e+05\n",
       "              여자인구수    7.365990e+05\n",
       "              남여 비율    9.970703e+01\n",
       "부산 광역시  2010  총인구수     2.758296e+06\n",
       "              남자인구수    1.390356e+06\n",
       "              여자인구수    1.367950e+06\n",
       "              남여 비율    1.016379e+02\n",
       "        2020  총인구수     2.947217e+06\n",
       "              남자인구수    1.476813e+06\n",
       "              여자인구수    1.470404e+06\n",
       "              남여 비율    1.004359e+02\n",
       "서울 특별시  2010  총인구수     1.031243e+07\n",
       "              남자인구수    5.111259e+06\n",
       "              여자인구수    5.201286e+06\n",
       "              남여 비율    9.826914e+01\n",
       "        2020  총인구수     9.720846e+06\n",
       "              남자인구수    4.732275e+06\n",
       "              여자인구수    4.988571e+06\n",
       "              남여 비율    9.486234e+01\n",
       "인천 광역시  2010  총인구수     3.568940e+06\n",
       "              남자인구수    1.773170e+06\n",
       "              여자인구수    1.794740e+06\n",
       "              남여 비율    9.879815e+01\n",
       "        2020  총인구수     4.539334e+06\n",
       "              남자인구수    1.668618e+06\n",
       "              여자인구수    1.735805e+06\n",
       "              남여 비율    9.612935e+01\n",
       "dtype: float64"
      ]
     },
     "execution_count": 252,
     "metadata": {},
     "output_type": "execute_result"
    }
   ],
   "source": [
    "korea_mdf.stack()"
   ]
  },
  {
   "cell_type": "code",
   "execution_count": 255,
   "id": "02b01af8",
   "metadata": {
    "ExecuteTime": {
     "end_time": "2023-04-26T06:15:57.658814Z",
     "start_time": "2023-04-26T06:15:57.640827Z"
    }
   },
   "outputs": [
    {
     "data": {
      "text/html": [
       "<div>\n",
       "<style scoped>\n",
       "    .dataframe tbody tr th:only-of-type {\n",
       "        vertical-align: middle;\n",
       "    }\n",
       "\n",
       "    .dataframe tbody tr th {\n",
       "        vertical-align: top;\n",
       "    }\n",
       "\n",
       "    .dataframe thead th {\n",
       "        text-align: right;\n",
       "    }\n",
       "</style>\n",
       "<table border=\"1\" class=\"dataframe\">\n",
       "  <thead>\n",
       "    <tr style=\"text-align: right;\">\n",
       "      <th></th>\n",
       "      <th>행정구역</th>\n",
       "      <th>년도</th>\n",
       "      <th>총인구수</th>\n",
       "      <th>남자인구수</th>\n",
       "      <th>여자인구수</th>\n",
       "      <th>남여 비율</th>\n",
       "    </tr>\n",
       "  </thead>\n",
       "  <tbody>\n",
       "    <tr>\n",
       "      <th>0</th>\n",
       "      <td>광주 광역시</td>\n",
       "      <td>2010</td>\n",
       "      <td>1454636</td>\n",
       "      <td>721780</td>\n",
       "      <td>732856</td>\n",
       "      <td>98.488653</td>\n",
       "    </tr>\n",
       "    <tr>\n",
       "      <th>1</th>\n",
       "      <td>광주 광역시</td>\n",
       "      <td>2020</td>\n",
       "      <td>1455048</td>\n",
       "      <td>720060</td>\n",
       "      <td>734988</td>\n",
       "      <td>97.968946</td>\n",
       "    </tr>\n",
       "    <tr>\n",
       "      <th>2</th>\n",
       "      <td>대구 광역시</td>\n",
       "      <td>2010</td>\n",
       "      <td>2511676</td>\n",
       "      <td>1255245</td>\n",
       "      <td>1256431</td>\n",
       "      <td>99.905606</td>\n",
       "    </tr>\n",
       "    <tr>\n",
       "      <th>3</th>\n",
       "      <td>대구 광역시</td>\n",
       "      <td>2020</td>\n",
       "      <td>2427954</td>\n",
       "      <td>1198815</td>\n",
       "      <td>1229139</td>\n",
       "      <td>97.532907</td>\n",
       "    </tr>\n",
       "    <tr>\n",
       "      <th>4</th>\n",
       "      <td>대전 광역시</td>\n",
       "      <td>2010</td>\n",
       "      <td>1503664</td>\n",
       "      <td>753648</td>\n",
       "      <td>750016</td>\n",
       "      <td>100.484256</td>\n",
       "    </tr>\n",
       "    <tr>\n",
       "      <th>5</th>\n",
       "      <td>대전 광역시</td>\n",
       "      <td>2020</td>\n",
       "      <td>1471040</td>\n",
       "      <td>734441</td>\n",
       "      <td>736599</td>\n",
       "      <td>99.707032</td>\n",
       "    </tr>\n",
       "    <tr>\n",
       "      <th>6</th>\n",
       "      <td>부산 광역시</td>\n",
       "      <td>2010</td>\n",
       "      <td>2758296</td>\n",
       "      <td>1390356</td>\n",
       "      <td>1367950</td>\n",
       "      <td>101.637925</td>\n",
       "    </tr>\n",
       "    <tr>\n",
       "      <th>7</th>\n",
       "      <td>부산 광역시</td>\n",
       "      <td>2020</td>\n",
       "      <td>2947217</td>\n",
       "      <td>1476813</td>\n",
       "      <td>1470404</td>\n",
       "      <td>100.435867</td>\n",
       "    </tr>\n",
       "    <tr>\n",
       "      <th>8</th>\n",
       "      <td>서울 특별시</td>\n",
       "      <td>2010</td>\n",
       "      <td>10312434</td>\n",
       "      <td>5111259</td>\n",
       "      <td>5201286</td>\n",
       "      <td>98.269140</td>\n",
       "    </tr>\n",
       "    <tr>\n",
       "      <th>9</th>\n",
       "      <td>서울 특별시</td>\n",
       "      <td>2020</td>\n",
       "      <td>9720846</td>\n",
       "      <td>4732275</td>\n",
       "      <td>4988571</td>\n",
       "      <td>94.862336</td>\n",
       "    </tr>\n",
       "    <tr>\n",
       "      <th>10</th>\n",
       "      <td>인천 광역시</td>\n",
       "      <td>2010</td>\n",
       "      <td>3568940</td>\n",
       "      <td>1773170</td>\n",
       "      <td>1794740</td>\n",
       "      <td>98.798155</td>\n",
       "    </tr>\n",
       "    <tr>\n",
       "      <th>11</th>\n",
       "      <td>인천 광역시</td>\n",
       "      <td>2020</td>\n",
       "      <td>4539334</td>\n",
       "      <td>1668618</td>\n",
       "      <td>1735805</td>\n",
       "      <td>96.129346</td>\n",
       "    </tr>\n",
       "  </tbody>\n",
       "</table>\n",
       "</div>"
      ],
      "text/plain": [
       "      행정구역    년도      총인구수    남자인구수    여자인구수       남여 비율\n",
       "0   광주 광역시  2010   1454636   721780   732856   98.488653\n",
       "1   광주 광역시  2020   1455048   720060   734988   97.968946\n",
       "2   대구 광역시  2010   2511676  1255245  1256431   99.905606\n",
       "3   대구 광역시  2020   2427954  1198815  1229139   97.532907\n",
       "4   대전 광역시  2010   1503664   753648   750016  100.484256\n",
       "5   대전 광역시  2020   1471040   734441   736599   99.707032\n",
       "6   부산 광역시  2010   2758296  1390356  1367950  101.637925\n",
       "7   부산 광역시  2020   2947217  1476813  1470404  100.435867\n",
       "8   서울 특별시  2010  10312434  5111259  5201286   98.269140\n",
       "9   서울 특별시  2020   9720846  4732275  4988571   94.862336\n",
       "10  인천 광역시  2010   3568940  1773170  1794740   98.798155\n",
       "11  인천 광역시  2020   4539334  1668618  1735805   96.129346"
      ]
     },
     "execution_count": 255,
     "metadata": {},
     "output_type": "execute_result"
    }
   ],
   "source": [
    "korea_mdf.reset_index()"
   ]
  },
  {
   "cell_type": "code",
   "execution_count": 254,
   "id": "5c6468a8",
   "metadata": {
    "ExecuteTime": {
     "end_time": "2023-04-26T06:15:41.189256Z",
     "start_time": "2023-04-26T06:15:41.164271Z"
    }
   },
   "outputs": [
    {
     "data": {
      "text/html": [
       "<div>\n",
       "<style scoped>\n",
       "    .dataframe tbody tr th:only-of-type {\n",
       "        vertical-align: middle;\n",
       "    }\n",
       "\n",
       "    .dataframe tbody tr th {\n",
       "        vertical-align: top;\n",
       "    }\n",
       "\n",
       "    .dataframe thead th {\n",
       "        text-align: right;\n",
       "    }\n",
       "</style>\n",
       "<table border=\"1\" class=\"dataframe\">\n",
       "  <thead>\n",
       "    <tr style=\"text-align: right;\">\n",
       "      <th></th>\n",
       "      <th>년도</th>\n",
       "      <th>총인구수</th>\n",
       "      <th>남자인구수</th>\n",
       "      <th>여자인구수</th>\n",
       "      <th>남여 비율</th>\n",
       "    </tr>\n",
       "    <tr>\n",
       "      <th>행정구역</th>\n",
       "      <th></th>\n",
       "      <th></th>\n",
       "      <th></th>\n",
       "      <th></th>\n",
       "      <th></th>\n",
       "    </tr>\n",
       "  </thead>\n",
       "  <tbody>\n",
       "    <tr>\n",
       "      <th>광주 광역시</th>\n",
       "      <td>2010</td>\n",
       "      <td>1454636</td>\n",
       "      <td>721780</td>\n",
       "      <td>732856</td>\n",
       "      <td>98.488653</td>\n",
       "    </tr>\n",
       "    <tr>\n",
       "      <th>광주 광역시</th>\n",
       "      <td>2020</td>\n",
       "      <td>1455048</td>\n",
       "      <td>720060</td>\n",
       "      <td>734988</td>\n",
       "      <td>97.968946</td>\n",
       "    </tr>\n",
       "    <tr>\n",
       "      <th>대구 광역시</th>\n",
       "      <td>2010</td>\n",
       "      <td>2511676</td>\n",
       "      <td>1255245</td>\n",
       "      <td>1256431</td>\n",
       "      <td>99.905606</td>\n",
       "    </tr>\n",
       "    <tr>\n",
       "      <th>대구 광역시</th>\n",
       "      <td>2020</td>\n",
       "      <td>2427954</td>\n",
       "      <td>1198815</td>\n",
       "      <td>1229139</td>\n",
       "      <td>97.532907</td>\n",
       "    </tr>\n",
       "    <tr>\n",
       "      <th>대전 광역시</th>\n",
       "      <td>2010</td>\n",
       "      <td>1503664</td>\n",
       "      <td>753648</td>\n",
       "      <td>750016</td>\n",
       "      <td>100.484256</td>\n",
       "    </tr>\n",
       "    <tr>\n",
       "      <th>대전 광역시</th>\n",
       "      <td>2020</td>\n",
       "      <td>1471040</td>\n",
       "      <td>734441</td>\n",
       "      <td>736599</td>\n",
       "      <td>99.707032</td>\n",
       "    </tr>\n",
       "    <tr>\n",
       "      <th>부산 광역시</th>\n",
       "      <td>2010</td>\n",
       "      <td>2758296</td>\n",
       "      <td>1390356</td>\n",
       "      <td>1367950</td>\n",
       "      <td>101.637925</td>\n",
       "    </tr>\n",
       "    <tr>\n",
       "      <th>부산 광역시</th>\n",
       "      <td>2020</td>\n",
       "      <td>2947217</td>\n",
       "      <td>1476813</td>\n",
       "      <td>1470404</td>\n",
       "      <td>100.435867</td>\n",
       "    </tr>\n",
       "    <tr>\n",
       "      <th>서울 특별시</th>\n",
       "      <td>2010</td>\n",
       "      <td>10312434</td>\n",
       "      <td>5111259</td>\n",
       "      <td>5201286</td>\n",
       "      <td>98.269140</td>\n",
       "    </tr>\n",
       "    <tr>\n",
       "      <th>서울 특별시</th>\n",
       "      <td>2020</td>\n",
       "      <td>9720846</td>\n",
       "      <td>4732275</td>\n",
       "      <td>4988571</td>\n",
       "      <td>94.862336</td>\n",
       "    </tr>\n",
       "    <tr>\n",
       "      <th>인천 광역시</th>\n",
       "      <td>2010</td>\n",
       "      <td>3568940</td>\n",
       "      <td>1773170</td>\n",
       "      <td>1794740</td>\n",
       "      <td>98.798155</td>\n",
       "    </tr>\n",
       "    <tr>\n",
       "      <th>인천 광역시</th>\n",
       "      <td>2020</td>\n",
       "      <td>4539334</td>\n",
       "      <td>1668618</td>\n",
       "      <td>1735805</td>\n",
       "      <td>96.129346</td>\n",
       "    </tr>\n",
       "  </tbody>\n",
       "</table>\n",
       "</div>"
      ],
      "text/plain": [
       "          년도      총인구수    남자인구수    여자인구수       남여 비율\n",
       "행정구역                                                \n",
       "광주 광역시  2010   1454636   721780   732856   98.488653\n",
       "광주 광역시  2020   1455048   720060   734988   97.968946\n",
       "대구 광역시  2010   2511676  1255245  1256431   99.905606\n",
       "대구 광역시  2020   2427954  1198815  1229139   97.532907\n",
       "대전 광역시  2010   1503664   753648   750016  100.484256\n",
       "대전 광역시  2020   1471040   734441   736599   99.707032\n",
       "부산 광역시  2010   2758296  1390356  1367950  101.637925\n",
       "부산 광역시  2020   2947217  1476813  1470404  100.435867\n",
       "서울 특별시  2010  10312434  5111259  5201286   98.269140\n",
       "서울 특별시  2020   9720846  4732275  4988571   94.862336\n",
       "인천 광역시  2010   3568940  1773170  1794740   98.798155\n",
       "인천 광역시  2020   4539334  1668618  1735805   96.129346"
      ]
     },
     "execution_count": 254,
     "metadata": {},
     "output_type": "execute_result"
    }
   ],
   "source": [
    "korea_mdf.reset_index(level=1)"
   ]
  },
  {
   "cell_type": "code",
   "execution_count": 256,
   "id": "5f0bd148",
   "metadata": {
    "ExecuteTime": {
     "end_time": "2023-04-26T06:16:17.122586Z",
     "start_time": "2023-04-26T06:16:17.096602Z"
    }
   },
   "outputs": [
    {
     "data": {
      "text/html": [
       "<div>\n",
       "<style scoped>\n",
       "    .dataframe tbody tr th:only-of-type {\n",
       "        vertical-align: middle;\n",
       "    }\n",
       "\n",
       "    .dataframe tbody tr th {\n",
       "        vertical-align: top;\n",
       "    }\n",
       "\n",
       "    .dataframe thead th {\n",
       "        text-align: right;\n",
       "    }\n",
       "</style>\n",
       "<table border=\"1\" class=\"dataframe\">\n",
       "  <thead>\n",
       "    <tr style=\"text-align: right;\">\n",
       "      <th></th>\n",
       "      <th>행정구역</th>\n",
       "      <th>총인구수</th>\n",
       "      <th>남자인구수</th>\n",
       "      <th>여자인구수</th>\n",
       "      <th>남여 비율</th>\n",
       "    </tr>\n",
       "    <tr>\n",
       "      <th>년도</th>\n",
       "      <th></th>\n",
       "      <th></th>\n",
       "      <th></th>\n",
       "      <th></th>\n",
       "      <th></th>\n",
       "    </tr>\n",
       "  </thead>\n",
       "  <tbody>\n",
       "    <tr>\n",
       "      <th>2010</th>\n",
       "      <td>광주 광역시</td>\n",
       "      <td>1454636</td>\n",
       "      <td>721780</td>\n",
       "      <td>732856</td>\n",
       "      <td>98.488653</td>\n",
       "    </tr>\n",
       "    <tr>\n",
       "      <th>2020</th>\n",
       "      <td>광주 광역시</td>\n",
       "      <td>1455048</td>\n",
       "      <td>720060</td>\n",
       "      <td>734988</td>\n",
       "      <td>97.968946</td>\n",
       "    </tr>\n",
       "    <tr>\n",
       "      <th>2010</th>\n",
       "      <td>대구 광역시</td>\n",
       "      <td>2511676</td>\n",
       "      <td>1255245</td>\n",
       "      <td>1256431</td>\n",
       "      <td>99.905606</td>\n",
       "    </tr>\n",
       "    <tr>\n",
       "      <th>2020</th>\n",
       "      <td>대구 광역시</td>\n",
       "      <td>2427954</td>\n",
       "      <td>1198815</td>\n",
       "      <td>1229139</td>\n",
       "      <td>97.532907</td>\n",
       "    </tr>\n",
       "    <tr>\n",
       "      <th>2010</th>\n",
       "      <td>대전 광역시</td>\n",
       "      <td>1503664</td>\n",
       "      <td>753648</td>\n",
       "      <td>750016</td>\n",
       "      <td>100.484256</td>\n",
       "    </tr>\n",
       "    <tr>\n",
       "      <th>2020</th>\n",
       "      <td>대전 광역시</td>\n",
       "      <td>1471040</td>\n",
       "      <td>734441</td>\n",
       "      <td>736599</td>\n",
       "      <td>99.707032</td>\n",
       "    </tr>\n",
       "    <tr>\n",
       "      <th>2010</th>\n",
       "      <td>부산 광역시</td>\n",
       "      <td>2758296</td>\n",
       "      <td>1390356</td>\n",
       "      <td>1367950</td>\n",
       "      <td>101.637925</td>\n",
       "    </tr>\n",
       "    <tr>\n",
       "      <th>2020</th>\n",
       "      <td>부산 광역시</td>\n",
       "      <td>2947217</td>\n",
       "      <td>1476813</td>\n",
       "      <td>1470404</td>\n",
       "      <td>100.435867</td>\n",
       "    </tr>\n",
       "    <tr>\n",
       "      <th>2010</th>\n",
       "      <td>서울 특별시</td>\n",
       "      <td>10312434</td>\n",
       "      <td>5111259</td>\n",
       "      <td>5201286</td>\n",
       "      <td>98.269140</td>\n",
       "    </tr>\n",
       "    <tr>\n",
       "      <th>2020</th>\n",
       "      <td>서울 특별시</td>\n",
       "      <td>9720846</td>\n",
       "      <td>4732275</td>\n",
       "      <td>4988571</td>\n",
       "      <td>94.862336</td>\n",
       "    </tr>\n",
       "    <tr>\n",
       "      <th>2010</th>\n",
       "      <td>인천 광역시</td>\n",
       "      <td>3568940</td>\n",
       "      <td>1773170</td>\n",
       "      <td>1794740</td>\n",
       "      <td>98.798155</td>\n",
       "    </tr>\n",
       "    <tr>\n",
       "      <th>2020</th>\n",
       "      <td>인천 광역시</td>\n",
       "      <td>4539334</td>\n",
       "      <td>1668618</td>\n",
       "      <td>1735805</td>\n",
       "      <td>96.129346</td>\n",
       "    </tr>\n",
       "  </tbody>\n",
       "</table>\n",
       "</div>"
      ],
      "text/plain": [
       "        행정구역      총인구수    남자인구수    여자인구수       남여 비율\n",
       "년도                                                  \n",
       "2010  광주 광역시   1454636   721780   732856   98.488653\n",
       "2020  광주 광역시   1455048   720060   734988   97.968946\n",
       "2010  대구 광역시   2511676  1255245  1256431   99.905606\n",
       "2020  대구 광역시   2427954  1198815  1229139   97.532907\n",
       "2010  대전 광역시   1503664   753648   750016  100.484256\n",
       "2020  대전 광역시   1471040   734441   736599   99.707032\n",
       "2010  부산 광역시   2758296  1390356  1367950  101.637925\n",
       "2020  부산 광역시   2947217  1476813  1470404  100.435867\n",
       "2010  서울 특별시  10312434  5111259  5201286   98.269140\n",
       "2020  서울 특별시   9720846  4732275  4988571   94.862336\n",
       "2010  인천 광역시   3568940  1773170  1794740   98.798155\n",
       "2020  인천 광역시   4539334  1668618  1735805   96.129346"
      ]
     },
     "execution_count": 256,
     "metadata": {},
     "output_type": "execute_result"
    }
   ],
   "source": [
    "korea_mdf.reset_index(level=0)"
   ]
  },
  {
   "cell_type": "code",
   "execution_count": 265,
   "id": "75f500fa",
   "metadata": {
    "ExecuteTime": {
     "end_time": "2023-04-26T06:18:15.007228Z",
     "start_time": "2023-04-26T06:18:14.984240Z"
    }
   },
   "outputs": [
    {
     "data": {
      "text/html": [
       "<div>\n",
       "<style scoped>\n",
       "    .dataframe tbody tr th:only-of-type {\n",
       "        vertical-align: middle;\n",
       "    }\n",
       "\n",
       "    .dataframe tbody tr th {\n",
       "        vertical-align: top;\n",
       "    }\n",
       "\n",
       "    .dataframe thead th {\n",
       "        text-align: right;\n",
       "    }\n",
       "</style>\n",
       "<table border=\"1\" class=\"dataframe\">\n",
       "  <thead>\n",
       "    <tr style=\"text-align: right;\">\n",
       "      <th></th>\n",
       "      <th></th>\n",
       "      <th>총인구수</th>\n",
       "      <th>남자인구수</th>\n",
       "      <th>여자인구수</th>\n",
       "      <th>남여 비율</th>\n",
       "    </tr>\n",
       "    <tr>\n",
       "      <th>행정구역</th>\n",
       "      <th>년도</th>\n",
       "      <th></th>\n",
       "      <th></th>\n",
       "      <th></th>\n",
       "      <th></th>\n",
       "    </tr>\n",
       "  </thead>\n",
       "  <tbody>\n",
       "    <tr>\n",
       "      <th rowspan=\"2\" valign=\"top\">광주 광역시</th>\n",
       "      <th>2010</th>\n",
       "      <td>1454636</td>\n",
       "      <td>721780</td>\n",
       "      <td>732856</td>\n",
       "      <td>98.488653</td>\n",
       "    </tr>\n",
       "    <tr>\n",
       "      <th>2020</th>\n",
       "      <td>1455048</td>\n",
       "      <td>720060</td>\n",
       "      <td>734988</td>\n",
       "      <td>97.968946</td>\n",
       "    </tr>\n",
       "    <tr>\n",
       "      <th rowspan=\"2\" valign=\"top\">대구 광역시</th>\n",
       "      <th>2010</th>\n",
       "      <td>2511676</td>\n",
       "      <td>1255245</td>\n",
       "      <td>1256431</td>\n",
       "      <td>99.905606</td>\n",
       "    </tr>\n",
       "    <tr>\n",
       "      <th>2020</th>\n",
       "      <td>2427954</td>\n",
       "      <td>1198815</td>\n",
       "      <td>1229139</td>\n",
       "      <td>97.532907</td>\n",
       "    </tr>\n",
       "    <tr>\n",
       "      <th rowspan=\"2\" valign=\"top\">대전 광역시</th>\n",
       "      <th>2010</th>\n",
       "      <td>1503664</td>\n",
       "      <td>753648</td>\n",
       "      <td>750016</td>\n",
       "      <td>100.484256</td>\n",
       "    </tr>\n",
       "    <tr>\n",
       "      <th>2020</th>\n",
       "      <td>1471040</td>\n",
       "      <td>734441</td>\n",
       "      <td>736599</td>\n",
       "      <td>99.707032</td>\n",
       "    </tr>\n",
       "    <tr>\n",
       "      <th rowspan=\"2\" valign=\"top\">부산 광역시</th>\n",
       "      <th>2010</th>\n",
       "      <td>2758296</td>\n",
       "      <td>1390356</td>\n",
       "      <td>1367950</td>\n",
       "      <td>101.637925</td>\n",
       "    </tr>\n",
       "    <tr>\n",
       "      <th>2020</th>\n",
       "      <td>2947217</td>\n",
       "      <td>1476813</td>\n",
       "      <td>1470404</td>\n",
       "      <td>100.435867</td>\n",
       "    </tr>\n",
       "    <tr>\n",
       "      <th rowspan=\"2\" valign=\"top\">서울 특별시</th>\n",
       "      <th>2010</th>\n",
       "      <td>10312434</td>\n",
       "      <td>5111259</td>\n",
       "      <td>5201286</td>\n",
       "      <td>98.269140</td>\n",
       "    </tr>\n",
       "    <tr>\n",
       "      <th>2020</th>\n",
       "      <td>9720846</td>\n",
       "      <td>4732275</td>\n",
       "      <td>4988571</td>\n",
       "      <td>94.862336</td>\n",
       "    </tr>\n",
       "    <tr>\n",
       "      <th rowspan=\"2\" valign=\"top\">인천 광역시</th>\n",
       "      <th>2010</th>\n",
       "      <td>3568940</td>\n",
       "      <td>1773170</td>\n",
       "      <td>1794740</td>\n",
       "      <td>98.798155</td>\n",
       "    </tr>\n",
       "    <tr>\n",
       "      <th>2020</th>\n",
       "      <td>4539334</td>\n",
       "      <td>1668618</td>\n",
       "      <td>1735805</td>\n",
       "      <td>96.129346</td>\n",
       "    </tr>\n",
       "  </tbody>\n",
       "</table>\n",
       "</div>"
      ],
      "text/plain": [
       "                 총인구수    남자인구수    여자인구수       남여 비율\n",
       "행정구역   년도                                          \n",
       "광주 광역시 2010   1454636   721780   732856   98.488653\n",
       "       2020   1455048   720060   734988   97.968946\n",
       "대구 광역시 2010   2511676  1255245  1256431   99.905606\n",
       "       2020   2427954  1198815  1229139   97.532907\n",
       "대전 광역시 2010   1503664   753648   750016  100.484256\n",
       "       2020   1471040   734441   736599   99.707032\n",
       "부산 광역시 2010   2758296  1390356  1367950  101.637925\n",
       "       2020   2947217  1476813  1470404  100.435867\n",
       "서울 특별시 2010  10312434  5111259  5201286   98.269140\n",
       "       2020   9720846  4732275  4988571   94.862336\n",
       "인천 광역시 2010   3568940  1773170  1794740   98.798155\n",
       "       2020   4539334  1668618  1735805   96.129346"
      ]
     },
     "execution_count": 265,
     "metadata": {},
     "output_type": "execute_result"
    }
   ],
   "source": [
    "idx_flat = korea_mdf.reset_index()\n",
    "idx_flat.set_index([\"행정구역\", \"년도\"])  # 데이터안에 것도 빼서 인덱스화 가능"
   ]
  },
  {
   "cell_type": "code",
   "execution_count": null,
   "id": "1f8f8317",
   "metadata": {},
   "outputs": [],
   "source": []
  },
  {
   "cell_type": "code",
   "execution_count": null,
   "id": "f5c8a14d",
   "metadata": {},
   "outputs": [],
   "source": []
  }
 ],
 "metadata": {
  "kernelspec": {
   "display_name": "Python 3 (ipykernel)",
   "language": "python",
   "name": "python3"
  },
  "language_info": {
   "codemirror_mode": {
    "name": "ipython",
    "version": 3
   },
   "file_extension": ".py",
   "mimetype": "text/x-python",
   "name": "python",
   "nbconvert_exporter": "python",
   "pygments_lexer": "ipython3",
   "version": "3.10.9"
  },
  "toc": {
   "base_numbering": 1,
   "nav_menu": {},
   "number_sections": true,
   "sideBar": true,
   "skip_h1_title": false,
   "title_cell": "Table of Contents",
   "title_sidebar": "Contents",
   "toc_cell": false,
   "toc_position": {
    "height": "calc(100% - 180px)",
    "left": "10px",
    "top": "150px",
    "width": "211.895px"
   },
   "toc_section_display": true,
   "toc_window_display": false
  }
 },
 "nbformat": 4,
 "nbformat_minor": 5
}
