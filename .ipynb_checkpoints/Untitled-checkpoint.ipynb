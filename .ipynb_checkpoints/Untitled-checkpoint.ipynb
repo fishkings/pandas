{
 "cells": [
  {
   "cell_type": "markdown",
   "id": "bdb1f782",
   "metadata": {},
   "source": [
    "# 시계열 처리"
   ]
  },
  {
   "cell_type": "code",
   "execution_count": 1,
   "id": "e5b9974a",
   "metadata": {
    "ExecuteTime": {
     "end_time": "2023-05-12T07:02:58.649240Z",
     "start_time": "2023-05-12T07:02:56.676063Z"
    }
   },
   "outputs": [],
   "source": [
    "import numpy as np\n",
    "import pandas as pd"
   ]
  },
  {
   "cell_type": "code",
   "execution_count": 3,
   "id": "f1453e07",
   "metadata": {
    "ExecuteTime": {
     "end_time": "2023-05-12T07:04:09.497529Z",
     "start_time": "2023-05-12T07:04:09.485535Z"
    }
   },
   "outputs": [],
   "source": [
    "idx = pd.DatetimeIndex(['2023-05-01','2023-05-02','2023-05-03','2023-05-04','2023-05-05'])\n",
    "s = pd.Series([0,1,2,3,4], index=idx)"
   ]
  },
  {
   "cell_type": "code",
   "execution_count": 6,
   "id": "5a0f250c",
   "metadata": {
    "ExecuteTime": {
     "end_time": "2023-05-12T07:04:38.477927Z",
     "start_time": "2023-05-12T07:04:38.462323Z"
    }
   },
   "outputs": [
    {
     "data": {
      "text/plain": [
       "2023-05-01    0\n",
       "2023-05-02    1\n",
       "2023-05-03    2\n",
       "2023-05-04    3\n",
       "2023-05-05    4\n",
       "dtype: int64"
      ]
     },
     "execution_count": 6,
     "metadata": {},
     "output_type": "execute_result"
    }
   ],
   "source": [
    "s"
   ]
  },
  {
   "cell_type": "code",
   "execution_count": 5,
   "id": "21a0a7c8",
   "metadata": {
    "ExecuteTime": {
     "end_time": "2023-05-12T07:04:31.481361Z",
     "start_time": "2023-05-12T07:04:31.461374Z"
    }
   },
   "outputs": [
    {
     "data": {
      "text/plain": [
       "2023-05-01    0\n",
       "2023-05-02    1\n",
       "2023-05-03    2\n",
       "2023-05-04    3\n",
       "2023-05-05    4\n",
       "dtype: int64"
      ]
     },
     "execution_count": 5,
     "metadata": {},
     "output_type": "execute_result"
    }
   ],
   "source": [
    "s['2023']"
   ]
  },
  {
   "cell_type": "markdown",
   "id": "b93960fa",
   "metadata": {},
   "source": [
    "## 시계열 데이터 구조"
   ]
  },
  {
   "cell_type": "code",
   "execution_count": 7,
   "id": "dfb48f45",
   "metadata": {
    "ExecuteTime": {
     "end_time": "2023-05-12T07:05:28.078767Z",
     "start_time": "2023-05-12T07:05:28.071772Z"
    }
   },
   "outputs": [],
   "source": [
    "from datetime import datetime"
   ]
  },
  {
   "cell_type": "code",
   "execution_count": 20,
   "id": "839d873f",
   "metadata": {
    "ExecuteTime": {
     "end_time": "2023-05-12T07:13:54.399768Z",
     "start_time": "2023-05-12T07:13:54.390774Z"
    }
   },
   "outputs": [
    {
     "data": {
      "text/plain": [
       "DatetimeIndex(['2023-05-01', '2023-05-02', '2023-05-03', '2023-05-04',\n",
       "               '2023-05-04'],\n",
       "              dtype='datetime64[ns]', freq=None)"
      ]
     },
     "execution_count": 20,
     "metadata": {},
     "output_type": "execute_result"
    }
   ],
   "source": [
    "# 다양한 방식으로 date 선언 가능\n",
    "dates = pd.to_datetime(['05-01-2023',datetime(2023,5,2),'3nd of May,2023','2023-may-4','20230504'])\n",
    "dates"
   ]
  },
  {
   "cell_type": "code",
   "execution_count": 18,
   "id": "36b5dca9",
   "metadata": {
    "ExecuteTime": {
     "end_time": "2023-05-12T07:11:47.055167Z",
     "start_time": "2023-05-12T07:11:47.043176Z"
    }
   },
   "outputs": [
    {
     "data": {
      "text/plain": [
       "PeriodIndex(['2023-05-01', '2023-05-02', '2023-05-03', '2023-05-04',\n",
       "             '2023-05-04'],\n",
       "            dtype='period[D]')"
      ]
     },
     "execution_count": 18,
     "metadata": {},
     "output_type": "execute_result"
    }
   ],
   "source": [
    "# dtype을 'Day'로 변경\n",
    "dates.to_period('D')"
   ]
  },
  {
   "cell_type": "code",
   "execution_count": 16,
   "id": "6dfeb8f0",
   "metadata": {
    "ExecuteTime": {
     "end_time": "2023-05-12T07:11:09.118505Z",
     "start_time": "2023-05-12T07:11:09.099517Z"
    },
    "scrolled": true
   },
   "outputs": [
    {
     "data": {
      "text/plain": [
       "TimedeltaIndex(['0 days', '32 days', '63 days', '95 days', '126 days'], dtype='timedelta64[ns]', freq=None)"
      ]
     },
     "execution_count": 16,
     "metadata": {},
     "output_type": "execute_result"
    }
   ],
   "source": [
    "dates = pd.to_datetime(['05-01-2023',datetime(2023,6,2),'3nd of July,2023','2023-august-4','20230904'])\n",
    "dates-dates[0]"
   ]
  },
  {
   "cell_type": "code",
   "execution_count": 22,
   "id": "7e2bc216",
   "metadata": {
    "ExecuteTime": {
     "end_time": "2023-05-12T07:15:12.492127Z",
     "start_time": "2023-05-12T07:15:12.474139Z"
    }
   },
   "outputs": [
    {
     "data": {
      "text/plain": [
       "DatetimeIndex(['2023-01-01', '2023-01-02', '2023-01-03', '2023-01-04',\n",
       "               '2023-01-05', '2023-01-06', '2023-01-07', '2023-01-08',\n",
       "               '2023-01-09', '2023-01-10',\n",
       "               ...\n",
       "               '2023-04-22', '2023-04-23', '2023-04-24', '2023-04-25',\n",
       "               '2023-04-26', '2023-04-27', '2023-04-28', '2023-04-29',\n",
       "               '2023-04-30', '2023-05-01'],\n",
       "              dtype='datetime64[ns]', length=121, freq='D')"
      ]
     },
     "execution_count": 22,
     "metadata": {},
     "output_type": "execute_result"
    }
   ],
   "source": [
    "# date_range를 통해 arange 기능처럼 사용 가능\n",
    "pd.date_range('2023-01-01',datetime(2023,5,1))"
   ]
  },
  {
   "cell_type": "code",
   "execution_count": 24,
   "id": "b811a6ca",
   "metadata": {
    "ExecuteTime": {
     "end_time": "2023-05-12T07:16:08.098343Z",
     "start_time": "2023-05-12T07:16:08.074358Z"
    }
   },
   "outputs": [
    {
     "data": {
      "text/plain": [
       "DatetimeIndex(['2023-01-01', '2023-01-02', '2023-01-03', '2023-01-04'], dtype='datetime64[ns]', freq='D')"
      ]
     },
     "execution_count": 24,
     "metadata": {},
     "output_type": "execute_result"
    }
   ],
   "source": [
    "pd.date_range('01-01-2023',periods=4)"
   ]
  },
  {
   "cell_type": "code",
   "execution_count": 27,
   "id": "0f75c209",
   "metadata": {
    "ExecuteTime": {
     "end_time": "2023-05-12T07:17:02.386847Z",
     "start_time": "2023-05-12T07:17:02.368857Z"
    }
   },
   "outputs": [
    {
     "data": {
      "text/plain": [
       "DatetimeIndex(['2023-01-31', '2023-02-28', '2023-03-31', '2023-04-30',\n",
       "               '2023-05-31', '2023-06-30', '2023-07-31', '2023-08-31',\n",
       "               '2023-09-30', '2023-10-31', '2023-11-30', '2023-12-31'],\n",
       "              dtype='datetime64[ns]', freq='M')"
      ]
     },
     "execution_count": 27,
     "metadata": {},
     "output_type": "execute_result"
    }
   ],
   "source": [
    "pd.date_range('01-01-2023', periods=12, freq='M')"
   ]
  },
  {
   "cell_type": "code",
   "execution_count": 28,
   "id": "24bc8c0b",
   "metadata": {
    "ExecuteTime": {
     "end_time": "2023-05-12T07:17:21.066055Z",
     "start_time": "2023-05-12T07:17:21.058058Z"
    }
   },
   "outputs": [
    {
     "data": {
      "text/plain": [
       "DatetimeIndex(['2023-01-01 00:00:00', '2023-01-01 01:00:00',\n",
       "               '2023-01-01 02:00:00', '2023-01-01 03:00:00',\n",
       "               '2023-01-01 04:00:00', '2023-01-01 05:00:00',\n",
       "               '2023-01-01 06:00:00', '2023-01-01 07:00:00',\n",
       "               '2023-01-01 08:00:00', '2023-01-01 09:00:00'],\n",
       "              dtype='datetime64[ns]', freq='H')"
      ]
     },
     "execution_count": 28,
     "metadata": {},
     "output_type": "execute_result"
    }
   ],
   "source": [
    "pd.date_range('01-01-2023', periods=10, freq='H')"
   ]
  },
  {
   "cell_type": "code",
   "execution_count": 31,
   "id": "bd5d265f",
   "metadata": {
    "ExecuteTime": {
     "end_time": "2023-05-12T07:36:33.796451Z",
     "start_time": "2023-05-12T07:36:33.784460Z"
    }
   },
   "outputs": [],
   "source": [
    "idx = pd.to_datetime(['2023-05-12 12:00:00','2023-05-12 21:00:00'] + [None])"
   ]
  },
  {
   "cell_type": "code",
   "execution_count": 32,
   "id": "10cf65bb",
   "metadata": {
    "ExecuteTime": {
     "end_time": "2023-05-12T07:36:45.826152Z",
     "start_time": "2023-05-12T07:36:45.808165Z"
    }
   },
   "outputs": [
    {
     "data": {
      "text/plain": [
       "array([False, False,  True])"
      ]
     },
     "execution_count": 32,
     "metadata": {},
     "output_type": "execute_result"
    }
   ],
   "source": [
    "pd.isnull(idx)"
   ]
  },
  {
   "cell_type": "markdown",
   "id": "9d123400",
   "metadata": {},
   "source": [
    "## 시계열 기본"
   ]
  },
  {
   "cell_type": "code",
   "execution_count": 45,
   "id": "132b240a",
   "metadata": {
    "ExecuteTime": {
     "end_time": "2023-05-12T07:39:09.297015Z",
     "start_time": "2023-05-12T07:39:09.287020Z"
    }
   },
   "outputs": [],
   "source": [
    "dates = [datetime(2023,1,1),datetime(2023,2,1),datetime(2023,3,1),datetime(2023,4,1),datetime(2023,5,1)]"
   ]
  },
  {
   "cell_type": "code",
   "execution_count": 50,
   "id": "ba023914",
   "metadata": {
    "ExecuteTime": {
     "end_time": "2023-05-12T07:50:17.124896Z",
     "start_time": "2023-05-12T07:50:17.103911Z"
    }
   },
   "outputs": [
    {
     "data": {
      "text/plain": [
       "2023-01-01    0.235561\n",
       "2023-02-01    0.711092\n",
       "2023-03-01    0.769904\n",
       "2023-04-01    0.800735\n",
       "2023-05-01    0.686720\n",
       "dtype: float64"
      ]
     },
     "execution_count": 50,
     "metadata": {},
     "output_type": "execute_result"
    }
   ],
   "source": [
    "ts = pd.Series(np.random.rand(5),index=dates)\n",
    "ts"
   ]
  },
  {
   "cell_type": "code",
   "execution_count": 51,
   "id": "05b7c51a",
   "metadata": {
    "ExecuteTime": {
     "end_time": "2023-05-12T07:50:29.004814Z",
     "start_time": "2023-05-12T07:50:28.991821Z"
    }
   },
   "outputs": [
    {
     "data": {
      "text/plain": [
       "DatetimeIndex(['2023-01-01', '2023-02-01', '2023-03-01', '2023-04-01',\n",
       "               '2023-05-01'],\n",
       "              dtype='datetime64[ns]', freq=None)"
      ]
     },
     "execution_count": 51,
     "metadata": {},
     "output_type": "execute_result"
    }
   ],
   "source": [
    "ts.index"
   ]
  },
  {
   "cell_type": "code",
   "execution_count": 57,
   "id": "dee354cc",
   "metadata": {
    "ExecuteTime": {
     "end_time": "2023-05-12T07:51:44.599912Z",
     "start_time": "2023-05-12T07:51:44.583923Z"
    }
   },
   "outputs": [
    {
     "data": {
      "text/plain": [
       "(0.23556065174403118,\n",
       " 0.23556065174403118,\n",
       " 0.23556065174403118,\n",
       " 0.23556065174403118)"
      ]
     },
     "execution_count": 57,
     "metadata": {},
     "output_type": "execute_result"
    }
   ],
   "source": [
    "ts[\"20230101\"],ts[\"01-01-2023\"],ts[\"1nd of Jan,2023\"],ts[\"1/1/2023\"]"
   ]
  },
  {
   "cell_type": "code",
   "execution_count": 61,
   "id": "a881cc23",
   "metadata": {
    "ExecuteTime": {
     "end_time": "2023-05-12T07:53:49.988953Z",
     "start_time": "2023-05-12T07:53:49.974962Z"
    }
   },
   "outputs": [
    {
     "data": {
      "text/plain": [
       "2023-05-01    11\n",
       "2023-05-02    10\n",
       "2023-05-03    82\n",
       "2023-05-04    37\n",
       "2023-05-05    26\n",
       "              ..\n",
       "2023-08-04    14\n",
       "2023-08-05    55\n",
       "2023-08-06    70\n",
       "2023-08-07    62\n",
       "2023-08-08    27\n",
       "Freq: D, Length: 100, dtype: int32"
      ]
     },
     "execution_count": 61,
     "metadata": {},
     "output_type": "execute_result"
    }
   ],
   "source": [
    "ts = pd.Series(np.random.randint(1,100,100),\n",
    "         index = pd.date_range(\"2023-05-01\",periods=100,freq='D'))\n",
    "ts"
   ]
  },
  {
   "cell_type": "code",
   "execution_count": 62,
   "id": "8c3e6df5",
   "metadata": {
    "ExecuteTime": {
     "end_time": "2023-05-12T07:53:55.235126Z",
     "start_time": "2023-05-12T07:53:55.215139Z"
    }
   },
   "outputs": [
    {
     "data": {
      "text/plain": [
       "2023-05-01    11\n",
       "2023-05-02    10\n",
       "2023-05-03    82\n",
       "2023-05-04    37\n",
       "2023-05-05    26\n",
       "              ..\n",
       "2023-08-04    14\n",
       "2023-08-05    55\n",
       "2023-08-06    70\n",
       "2023-08-07    62\n",
       "2023-08-08    27\n",
       "Freq: D, Length: 100, dtype: int32"
      ]
     },
     "execution_count": 62,
     "metadata": {},
     "output_type": "execute_result"
    }
   ],
   "source": [
    "ts['2023']"
   ]
  },
  {
   "cell_type": "code",
   "execution_count": 66,
   "id": "07034881",
   "metadata": {
    "ExecuteTime": {
     "end_time": "2023-05-12T07:54:26.445065Z",
     "start_time": "2023-05-12T07:54:26.423079Z"
    }
   },
   "outputs": [
    {
     "data": {
      "text/plain": [
       "2023-05-01    11\n",
       "2023-05-02    10\n",
       "2023-05-03    82\n",
       "2023-05-04    37\n",
       "2023-05-05    26\n",
       "2023-05-06    57\n",
       "2023-05-07    43\n",
       "2023-05-08    55\n",
       "2023-05-09    33\n",
       "2023-05-10    14\n",
       "2023-05-11    24\n",
       "2023-05-12    30\n",
       "2023-05-13    78\n",
       "2023-05-14    80\n",
       "2023-05-15    99\n",
       "2023-05-16    22\n",
       "2023-05-17    63\n",
       "2023-05-18    26\n",
       "2023-05-19    49\n",
       "2023-05-20    24\n",
       "2023-05-21    36\n",
       "2023-05-22    38\n",
       "2023-05-23    93\n",
       "2023-05-24    66\n",
       "2023-05-25    84\n",
       "2023-05-26    95\n",
       "2023-05-27    75\n",
       "2023-05-28    48\n",
       "2023-05-29    75\n",
       "2023-05-30    13\n",
       "2023-05-31    84\n",
       "Freq: D, dtype: int32"
      ]
     },
     "execution_count": 66,
     "metadata": {},
     "output_type": "execute_result"
    }
   ],
   "source": [
    "ts[\"2023-05\"]"
   ]
  },
  {
   "cell_type": "code",
   "execution_count": 68,
   "id": "373f3d08",
   "metadata": {
    "ExecuteTime": {
     "end_time": "2023-05-12T07:55:12.085601Z",
     "start_time": "2023-05-12T07:55:12.062613Z"
    }
   },
   "outputs": [
    {
     "data": {
      "text/plain": [
       "2023-06-01    24\n",
       "2023-06-02    28\n",
       "2023-06-03    23\n",
       "2023-06-04    50\n",
       "2023-06-05    19\n",
       "              ..\n",
       "2023-08-04    14\n",
       "2023-08-05    55\n",
       "2023-08-06    70\n",
       "2023-08-07    62\n",
       "2023-08-08    27\n",
       "Freq: D, Length: 69, dtype: int32"
      ]
     },
     "execution_count": 68,
     "metadata": {},
     "output_type": "execute_result"
    }
   ],
   "source": [
    "ts[datetime(2023,6,1):]"
   ]
  },
  {
   "cell_type": "code",
   "execution_count": 88,
   "id": "41ab52ae",
   "metadata": {
    "ExecuteTime": {
     "end_time": "2023-05-12T08:12:09.831574Z",
     "start_time": "2023-05-12T08:12:09.814585Z"
    }
   },
   "outputs": [
    {
     "data": {
      "text/html": [
       "<div>\n",
       "<style scoped>\n",
       "    .dataframe tbody tr th:only-of-type {\n",
       "        vertical-align: middle;\n",
       "    }\n",
       "\n",
       "    .dataframe tbody tr th {\n",
       "        vertical-align: top;\n",
       "    }\n",
       "\n",
       "    .dataframe thead th {\n",
       "        text-align: right;\n",
       "    }\n",
       "</style>\n",
       "<table border=\"1\" class=\"dataframe\">\n",
       "  <thead>\n",
       "    <tr style=\"text-align: right;\">\n",
       "      <th></th>\n",
       "      <th>A</th>\n",
       "      <th>B</th>\n",
       "      <th>C</th>\n",
       "      <th>D</th>\n",
       "    </tr>\n",
       "  </thead>\n",
       "  <tbody>\n",
       "    <tr>\n",
       "      <th>2023-05-31</th>\n",
       "      <td>-0.024195</td>\n",
       "      <td>0.140079</td>\n",
       "      <td>1.792515</td>\n",
       "      <td>0.771738</td>\n",
       "    </tr>\n",
       "    <tr>\n",
       "      <th>2023-06-30</th>\n",
       "      <td>-0.316136</td>\n",
       "      <td>0.125480</td>\n",
       "      <td>-1.322226</td>\n",
       "      <td>1.099713</td>\n",
       "    </tr>\n",
       "    <tr>\n",
       "      <th>2023-07-31</th>\n",
       "      <td>-1.366232</td>\n",
       "      <td>0.179371</td>\n",
       "      <td>1.972634</td>\n",
       "      <td>-0.833787</td>\n",
       "    </tr>\n",
       "    <tr>\n",
       "      <th>2023-08-31</th>\n",
       "      <td>-0.619396</td>\n",
       "      <td>-0.600911</td>\n",
       "      <td>1.125271</td>\n",
       "      <td>-0.492519</td>\n",
       "    </tr>\n",
       "    <tr>\n",
       "      <th>2023-09-30</th>\n",
       "      <td>0.464037</td>\n",
       "      <td>-0.113601</td>\n",
       "      <td>1.572085</td>\n",
       "      <td>0.945959</td>\n",
       "    </tr>\n",
       "    <tr>\n",
       "      <th>...</th>\n",
       "      <td>...</td>\n",
       "      <td>...</td>\n",
       "      <td>...</td>\n",
       "      <td>...</td>\n",
       "    </tr>\n",
       "    <tr>\n",
       "      <th>2031-04-30</th>\n",
       "      <td>0.265949</td>\n",
       "      <td>0.338222</td>\n",
       "      <td>-0.317393</td>\n",
       "      <td>0.099491</td>\n",
       "    </tr>\n",
       "    <tr>\n",
       "      <th>2031-05-31</th>\n",
       "      <td>0.497441</td>\n",
       "      <td>0.292675</td>\n",
       "      <td>0.250401</td>\n",
       "      <td>0.159065</td>\n",
       "    </tr>\n",
       "    <tr>\n",
       "      <th>2031-06-30</th>\n",
       "      <td>-0.819138</td>\n",
       "      <td>-0.642450</td>\n",
       "      <td>0.145488</td>\n",
       "      <td>-0.621157</td>\n",
       "    </tr>\n",
       "    <tr>\n",
       "      <th>2031-07-31</th>\n",
       "      <td>0.030934</td>\n",
       "      <td>0.434272</td>\n",
       "      <td>0.820045</td>\n",
       "      <td>0.579411</td>\n",
       "    </tr>\n",
       "    <tr>\n",
       "      <th>2031-08-31</th>\n",
       "      <td>-0.628268</td>\n",
       "      <td>1.230982</td>\n",
       "      <td>-0.467074</td>\n",
       "      <td>-0.768741</td>\n",
       "    </tr>\n",
       "  </tbody>\n",
       "</table>\n",
       "<p>100 rows × 4 columns</p>\n",
       "</div>"
      ],
      "text/plain": [
       "                   A         B         C         D\n",
       "2023-05-31 -0.024195  0.140079  1.792515  0.771738\n",
       "2023-06-30 -0.316136  0.125480 -1.322226  1.099713\n",
       "2023-07-31 -1.366232  0.179371  1.972634 -0.833787\n",
       "2023-08-31 -0.619396 -0.600911  1.125271 -0.492519\n",
       "2023-09-30  0.464037 -0.113601  1.572085  0.945959\n",
       "...              ...       ...       ...       ...\n",
       "2031-04-30  0.265949  0.338222 -0.317393  0.099491\n",
       "2031-05-31  0.497441  0.292675  0.250401  0.159065\n",
       "2031-06-30 -0.819138 -0.642450  0.145488 -0.621157\n",
       "2031-07-31  0.030934  0.434272  0.820045  0.579411\n",
       "2031-08-31 -0.628268  1.230982 -0.467074 -0.768741\n",
       "\n",
       "[100 rows x 4 columns]"
      ]
     },
     "execution_count": 88,
     "metadata": {},
     "output_type": "execute_result"
    }
   ],
   "source": [
    "tdf = pd.DataFrame(np.random.randn(100,4),\n",
    "                   index = pd.date_range(datetime(2023,5,1),periods=100,freq='M'),\n",
    "                   columns= list('ABCD')\n",
    "                  )\n",
    "\n",
    "tdf"
   ]
  },
  {
   "cell_type": "code",
   "execution_count": 77,
   "id": "1e9ca0cc",
   "metadata": {
    "ExecuteTime": {
     "end_time": "2023-05-12T07:59:02.084165Z",
     "start_time": "2023-05-12T07:59:02.070176Z"
    }
   },
   "outputs": [
    {
     "name": "stderr",
     "output_type": "stream",
     "text": [
      "C:\\Users\\chosun\\AppData\\Local\\Temp\\ipykernel_13568\\470862468.py:1: FutureWarning: Indexing a DataFrame with a datetimelike index using a single string to slice the rows, like `frame[string]`, is deprecated and will be removed in a future version. Use `frame.loc[string]` instead.\n",
      "  tdf[\"2024\"]\n"
     ]
    },
    {
     "data": {
      "text/html": [
       "<div>\n",
       "<style scoped>\n",
       "    .dataframe tbody tr th:only-of-type {\n",
       "        vertical-align: middle;\n",
       "    }\n",
       "\n",
       "    .dataframe tbody tr th {\n",
       "        vertical-align: top;\n",
       "    }\n",
       "\n",
       "    .dataframe thead th {\n",
       "        text-align: right;\n",
       "    }\n",
       "</style>\n",
       "<table border=\"1\" class=\"dataframe\">\n",
       "  <thead>\n",
       "    <tr style=\"text-align: right;\">\n",
       "      <th></th>\n",
       "      <th>A</th>\n",
       "      <th>B</th>\n",
       "      <th>C</th>\n",
       "      <th>D</th>\n",
       "    </tr>\n",
       "  </thead>\n",
       "  <tbody>\n",
       "    <tr>\n",
       "      <th>2024-01-31</th>\n",
       "      <td>-0.235262</td>\n",
       "      <td>-0.360952</td>\n",
       "      <td>1.312056</td>\n",
       "      <td>-1.504417</td>\n",
       "    </tr>\n",
       "    <tr>\n",
       "      <th>2024-02-29</th>\n",
       "      <td>0.796493</td>\n",
       "      <td>0.759729</td>\n",
       "      <td>0.116204</td>\n",
       "      <td>-0.358889</td>\n",
       "    </tr>\n",
       "    <tr>\n",
       "      <th>2024-03-31</th>\n",
       "      <td>-0.243970</td>\n",
       "      <td>0.358445</td>\n",
       "      <td>0.357203</td>\n",
       "      <td>-0.288139</td>\n",
       "    </tr>\n",
       "    <tr>\n",
       "      <th>2024-04-30</th>\n",
       "      <td>0.144146</td>\n",
       "      <td>1.267876</td>\n",
       "      <td>0.658283</td>\n",
       "      <td>-0.574603</td>\n",
       "    </tr>\n",
       "    <tr>\n",
       "      <th>2024-05-31</th>\n",
       "      <td>1.743211</td>\n",
       "      <td>-0.378222</td>\n",
       "      <td>-1.185546</td>\n",
       "      <td>-0.153661</td>\n",
       "    </tr>\n",
       "    <tr>\n",
       "      <th>2024-06-30</th>\n",
       "      <td>-0.686894</td>\n",
       "      <td>1.036180</td>\n",
       "      <td>-0.843241</td>\n",
       "      <td>-0.416184</td>\n",
       "    </tr>\n",
       "    <tr>\n",
       "      <th>2024-07-31</th>\n",
       "      <td>0.577035</td>\n",
       "      <td>-1.166129</td>\n",
       "      <td>-0.899284</td>\n",
       "      <td>-0.351370</td>\n",
       "    </tr>\n",
       "    <tr>\n",
       "      <th>2024-08-31</th>\n",
       "      <td>0.225422</td>\n",
       "      <td>0.264669</td>\n",
       "      <td>-1.046231</td>\n",
       "      <td>0.841519</td>\n",
       "    </tr>\n",
       "    <tr>\n",
       "      <th>2024-09-30</th>\n",
       "      <td>0.609370</td>\n",
       "      <td>0.558672</td>\n",
       "      <td>0.102154</td>\n",
       "      <td>0.358096</td>\n",
       "    </tr>\n",
       "    <tr>\n",
       "      <th>2024-10-31</th>\n",
       "      <td>0.634197</td>\n",
       "      <td>0.053739</td>\n",
       "      <td>-0.665849</td>\n",
       "      <td>-0.456153</td>\n",
       "    </tr>\n",
       "    <tr>\n",
       "      <th>2024-11-30</th>\n",
       "      <td>-1.401962</td>\n",
       "      <td>0.205990</td>\n",
       "      <td>-2.533582</td>\n",
       "      <td>-1.517381</td>\n",
       "    </tr>\n",
       "    <tr>\n",
       "      <th>2024-12-31</th>\n",
       "      <td>-0.505758</td>\n",
       "      <td>1.449179</td>\n",
       "      <td>-1.242539</td>\n",
       "      <td>-1.483077</td>\n",
       "    </tr>\n",
       "  </tbody>\n",
       "</table>\n",
       "</div>"
      ],
      "text/plain": [
       "                   A         B         C         D\n",
       "2024-01-31 -0.235262 -0.360952  1.312056 -1.504417\n",
       "2024-02-29  0.796493  0.759729  0.116204 -0.358889\n",
       "2024-03-31 -0.243970  0.358445  0.357203 -0.288139\n",
       "2024-04-30  0.144146  1.267876  0.658283 -0.574603\n",
       "2024-05-31  1.743211 -0.378222 -1.185546 -0.153661\n",
       "2024-06-30 -0.686894  1.036180 -0.843241 -0.416184\n",
       "2024-07-31  0.577035 -1.166129 -0.899284 -0.351370\n",
       "2024-08-31  0.225422  0.264669 -1.046231  0.841519\n",
       "2024-09-30  0.609370  0.558672  0.102154  0.358096\n",
       "2024-10-31  0.634197  0.053739 -0.665849 -0.456153\n",
       "2024-11-30 -1.401962  0.205990 -2.533582 -1.517381\n",
       "2024-12-31 -0.505758  1.449179 -1.242539 -1.483077"
      ]
     },
     "execution_count": 77,
     "metadata": {},
     "output_type": "execute_result"
    }
   ],
   "source": [
    "tdf[\"2024\"]"
   ]
  },
  {
   "cell_type": "code",
   "execution_count": 78,
   "id": "1f384ab0",
   "metadata": {
    "ExecuteTime": {
     "end_time": "2023-05-12T07:59:33.154464Z",
     "start_time": "2023-05-12T07:59:33.123810Z"
    }
   },
   "outputs": [
    {
     "data": {
      "text/html": [
       "<div>\n",
       "<style scoped>\n",
       "    .dataframe tbody tr th:only-of-type {\n",
       "        vertical-align: middle;\n",
       "    }\n",
       "\n",
       "    .dataframe tbody tr th {\n",
       "        vertical-align: top;\n",
       "    }\n",
       "\n",
       "    .dataframe thead th {\n",
       "        text-align: right;\n",
       "    }\n",
       "</style>\n",
       "<table border=\"1\" class=\"dataframe\">\n",
       "  <thead>\n",
       "    <tr style=\"text-align: right;\">\n",
       "      <th></th>\n",
       "      <th>A</th>\n",
       "      <th>B</th>\n",
       "      <th>C</th>\n",
       "      <th>D</th>\n",
       "    </tr>\n",
       "  </thead>\n",
       "  <tbody>\n",
       "    <tr>\n",
       "      <th>2024-01-31</th>\n",
       "      <td>-0.235262</td>\n",
       "      <td>-0.360952</td>\n",
       "      <td>1.312056</td>\n",
       "      <td>-1.504417</td>\n",
       "    </tr>\n",
       "    <tr>\n",
       "      <th>2024-02-29</th>\n",
       "      <td>0.796493</td>\n",
       "      <td>0.759729</td>\n",
       "      <td>0.116204</td>\n",
       "      <td>-0.358889</td>\n",
       "    </tr>\n",
       "    <tr>\n",
       "      <th>2024-03-31</th>\n",
       "      <td>-0.243970</td>\n",
       "      <td>0.358445</td>\n",
       "      <td>0.357203</td>\n",
       "      <td>-0.288139</td>\n",
       "    </tr>\n",
       "    <tr>\n",
       "      <th>2024-04-30</th>\n",
       "      <td>0.144146</td>\n",
       "      <td>1.267876</td>\n",
       "      <td>0.658283</td>\n",
       "      <td>-0.574603</td>\n",
       "    </tr>\n",
       "    <tr>\n",
       "      <th>2024-05-31</th>\n",
       "      <td>1.743211</td>\n",
       "      <td>-0.378222</td>\n",
       "      <td>-1.185546</td>\n",
       "      <td>-0.153661</td>\n",
       "    </tr>\n",
       "    <tr>\n",
       "      <th>2024-06-30</th>\n",
       "      <td>-0.686894</td>\n",
       "      <td>1.036180</td>\n",
       "      <td>-0.843241</td>\n",
       "      <td>-0.416184</td>\n",
       "    </tr>\n",
       "    <tr>\n",
       "      <th>2024-07-31</th>\n",
       "      <td>0.577035</td>\n",
       "      <td>-1.166129</td>\n",
       "      <td>-0.899284</td>\n",
       "      <td>-0.351370</td>\n",
       "    </tr>\n",
       "    <tr>\n",
       "      <th>2024-08-31</th>\n",
       "      <td>0.225422</td>\n",
       "      <td>0.264669</td>\n",
       "      <td>-1.046231</td>\n",
       "      <td>0.841519</td>\n",
       "    </tr>\n",
       "    <tr>\n",
       "      <th>2024-09-30</th>\n",
       "      <td>0.609370</td>\n",
       "      <td>0.558672</td>\n",
       "      <td>0.102154</td>\n",
       "      <td>0.358096</td>\n",
       "    </tr>\n",
       "    <tr>\n",
       "      <th>2024-10-31</th>\n",
       "      <td>0.634197</td>\n",
       "      <td>0.053739</td>\n",
       "      <td>-0.665849</td>\n",
       "      <td>-0.456153</td>\n",
       "    </tr>\n",
       "    <tr>\n",
       "      <th>2024-11-30</th>\n",
       "      <td>-1.401962</td>\n",
       "      <td>0.205990</td>\n",
       "      <td>-2.533582</td>\n",
       "      <td>-1.517381</td>\n",
       "    </tr>\n",
       "    <tr>\n",
       "      <th>2024-12-31</th>\n",
       "      <td>-0.505758</td>\n",
       "      <td>1.449179</td>\n",
       "      <td>-1.242539</td>\n",
       "      <td>-1.483077</td>\n",
       "    </tr>\n",
       "    <tr>\n",
       "      <th>2025-01-31</th>\n",
       "      <td>0.927854</td>\n",
       "      <td>-0.230074</td>\n",
       "      <td>-1.149609</td>\n",
       "      <td>-0.043327</td>\n",
       "    </tr>\n",
       "    <tr>\n",
       "      <th>2025-02-28</th>\n",
       "      <td>1.298186</td>\n",
       "      <td>0.280139</td>\n",
       "      <td>0.703105</td>\n",
       "      <td>0.375889</td>\n",
       "    </tr>\n",
       "    <tr>\n",
       "      <th>2025-03-31</th>\n",
       "      <td>1.275124</td>\n",
       "      <td>0.708641</td>\n",
       "      <td>1.910906</td>\n",
       "      <td>-0.243064</td>\n",
       "    </tr>\n",
       "    <tr>\n",
       "      <th>2025-04-30</th>\n",
       "      <td>1.041033</td>\n",
       "      <td>0.714670</td>\n",
       "      <td>0.294025</td>\n",
       "      <td>-0.284947</td>\n",
       "    </tr>\n",
       "    <tr>\n",
       "      <th>2025-05-31</th>\n",
       "      <td>0.167434</td>\n",
       "      <td>-1.196137</td>\n",
       "      <td>0.092522</td>\n",
       "      <td>-0.230251</td>\n",
       "    </tr>\n",
       "    <tr>\n",
       "      <th>2025-06-30</th>\n",
       "      <td>-0.698529</td>\n",
       "      <td>-0.678818</td>\n",
       "      <td>1.820137</td>\n",
       "      <td>0.029765</td>\n",
       "    </tr>\n",
       "    <tr>\n",
       "      <th>2025-07-31</th>\n",
       "      <td>1.168658</td>\n",
       "      <td>2.402174</td>\n",
       "      <td>-1.472087</td>\n",
       "      <td>0.031147</td>\n",
       "    </tr>\n",
       "    <tr>\n",
       "      <th>2025-08-31</th>\n",
       "      <td>-0.902116</td>\n",
       "      <td>-0.100603</td>\n",
       "      <td>-0.791178</td>\n",
       "      <td>-0.266757</td>\n",
       "    </tr>\n",
       "    <tr>\n",
       "      <th>2025-09-30</th>\n",
       "      <td>-0.985354</td>\n",
       "      <td>-1.544338</td>\n",
       "      <td>-0.050422</td>\n",
       "      <td>1.346322</td>\n",
       "    </tr>\n",
       "    <tr>\n",
       "      <th>2025-10-31</th>\n",
       "      <td>-2.144016</td>\n",
       "      <td>-1.663438</td>\n",
       "      <td>0.662590</td>\n",
       "      <td>-0.812098</td>\n",
       "    </tr>\n",
       "    <tr>\n",
       "      <th>2025-11-30</th>\n",
       "      <td>-0.512537</td>\n",
       "      <td>-0.542597</td>\n",
       "      <td>-0.228721</td>\n",
       "      <td>0.963749</td>\n",
       "    </tr>\n",
       "    <tr>\n",
       "      <th>2025-12-31</th>\n",
       "      <td>0.366298</td>\n",
       "      <td>1.287591</td>\n",
       "      <td>1.663435</td>\n",
       "      <td>-0.438491</td>\n",
       "    </tr>\n",
       "  </tbody>\n",
       "</table>\n",
       "</div>"
      ],
      "text/plain": [
       "                   A         B         C         D\n",
       "2024-01-31 -0.235262 -0.360952  1.312056 -1.504417\n",
       "2024-02-29  0.796493  0.759729  0.116204 -0.358889\n",
       "2024-03-31 -0.243970  0.358445  0.357203 -0.288139\n",
       "2024-04-30  0.144146  1.267876  0.658283 -0.574603\n",
       "2024-05-31  1.743211 -0.378222 -1.185546 -0.153661\n",
       "2024-06-30 -0.686894  1.036180 -0.843241 -0.416184\n",
       "2024-07-31  0.577035 -1.166129 -0.899284 -0.351370\n",
       "2024-08-31  0.225422  0.264669 -1.046231  0.841519\n",
       "2024-09-30  0.609370  0.558672  0.102154  0.358096\n",
       "2024-10-31  0.634197  0.053739 -0.665849 -0.456153\n",
       "2024-11-30 -1.401962  0.205990 -2.533582 -1.517381\n",
       "2024-12-31 -0.505758  1.449179 -1.242539 -1.483077\n",
       "2025-01-31  0.927854 -0.230074 -1.149609 -0.043327\n",
       "2025-02-28  1.298186  0.280139  0.703105  0.375889\n",
       "2025-03-31  1.275124  0.708641  1.910906 -0.243064\n",
       "2025-04-30  1.041033  0.714670  0.294025 -0.284947\n",
       "2025-05-31  0.167434 -1.196137  0.092522 -0.230251\n",
       "2025-06-30 -0.698529 -0.678818  1.820137  0.029765\n",
       "2025-07-31  1.168658  2.402174 -1.472087  0.031147\n",
       "2025-08-31 -0.902116 -0.100603 -0.791178 -0.266757\n",
       "2025-09-30 -0.985354 -1.544338 -0.050422  1.346322\n",
       "2025-10-31 -2.144016 -1.663438  0.662590 -0.812098\n",
       "2025-11-30 -0.512537 -0.542597 -0.228721  0.963749\n",
       "2025-12-31  0.366298  1.287591  1.663435 -0.438491"
      ]
     },
     "execution_count": 78,
     "metadata": {},
     "output_type": "execute_result"
    }
   ],
   "source": [
    "tdf.loc[\"2024\":\"2025\"]"
   ]
  },
  {
   "cell_type": "code",
   "execution_count": 79,
   "id": "05369788",
   "metadata": {
    "ExecuteTime": {
     "end_time": "2023-05-12T08:01:00.936065Z",
     "start_time": "2023-05-12T08:01:00.923063Z"
    }
   },
   "outputs": [
    {
     "data": {
      "text/plain": [
       "A   -0.021238\n",
       "B   -1.313582\n",
       "C    0.387178\n",
       "D   -0.107727\n",
       "Name: 2023-06-30 00:00:00, dtype: float64"
      ]
     },
     "execution_count": 79,
     "metadata": {},
     "output_type": "execute_result"
    }
   ],
   "source": [
    "tdf.iloc[1,:]"
   ]
  },
  {
   "cell_type": "code",
   "execution_count": 82,
   "id": "954359e9",
   "metadata": {
    "ExecuteTime": {
     "end_time": "2023-05-12T08:04:34.756488Z",
     "start_time": "2023-05-12T08:04:34.745494Z"
    }
   },
   "outputs": [
    {
     "data": {
      "text/plain": [
       "2023-01-01   -0.722256\n",
       "2023-01-01   -0.045518\n",
       "2023-04-01    0.935955\n",
       "2023-08-01    0.160133\n",
       "2023-01-04    0.940061\n",
       "dtype: float64"
      ]
     },
     "execution_count": 82,
     "metadata": {},
     "output_type": "execute_result"
    }
   ],
   "source": [
    "ts = pd.Series(np.random.randn(5),\n",
    "              index = pd.DatetimeIndex([\"2023-01-01\",\"2023-01-01\",\"20230401\",'1 aug,2023','01-04-2023']))\n",
    "ts"
   ]
  },
  {
   "cell_type": "code",
   "execution_count": 84,
   "id": "acfee378",
   "metadata": {
    "ExecuteTime": {
     "end_time": "2023-05-12T08:04:55.736702Z",
     "start_time": "2023-05-12T08:04:55.713717Z"
    }
   },
   "outputs": [
    {
     "data": {
      "text/plain": [
       "2023-01-01   -0.383887\n",
       "2023-01-04    0.940061\n",
       "2023-04-01    0.935955\n",
       "2023-08-01    0.160133\n",
       "dtype: float64"
      ]
     },
     "execution_count": 84,
     "metadata": {},
     "output_type": "execute_result"
    }
   ],
   "source": [
    "ts.groupby(level=0).mean()"
   ]
  },
  {
   "cell_type": "code",
   "execution_count": 85,
   "id": "d40bfdbb",
   "metadata": {
    "ExecuteTime": {
     "end_time": "2023-05-12T08:09:49.628290Z",
     "start_time": "2023-05-12T08:09:49.615298Z"
    }
   },
   "outputs": [
    {
     "data": {
      "text/plain": [
       "DatetimeIndex(['2023-05-01', '2023-05-02', '2023-05-03', '2023-05-04',\n",
       "               '2023-05-05', '2023-05-08', '2023-05-09', '2023-05-10',\n",
       "               '2023-05-11', '2023-05-12', '2023-05-15', '2023-05-16',\n",
       "               '2023-05-17', '2023-05-18', '2023-05-19', '2023-05-22',\n",
       "               '2023-05-23', '2023-05-24', '2023-05-25', '2023-05-26',\n",
       "               '2023-05-29', '2023-05-30', '2023-05-31', '2023-06-01',\n",
       "               '2023-06-02', '2023-06-05', '2023-06-06', '2023-06-07',\n",
       "               '2023-06-08', '2023-06-09', '2023-06-12', '2023-06-13',\n",
       "               '2023-06-14', '2023-06-15', '2023-06-16', '2023-06-19',\n",
       "               '2023-06-20', '2023-06-21', '2023-06-22', '2023-06-23',\n",
       "               '2023-06-26', '2023-06-27', '2023-06-28', '2023-06-29',\n",
       "               '2023-06-30'],\n",
       "              dtype='datetime64[ns]', freq='B')"
      ]
     },
     "execution_count": 85,
     "metadata": {},
     "output_type": "execute_result"
    }
   ],
   "source": [
    "pd.date_range('2023-05-01','2023-07-01',freq='B')  # Business 날로 쉬는 날은 제외한다."
   ]
  },
  {
   "cell_type": "markdown",
   "id": "c13b8644",
   "metadata": {},
   "source": [
    "## 주기와 오프셋"
   ]
  },
  {
   "cell_type": "code",
   "execution_count": 89,
   "id": "1386ed6d",
   "metadata": {
    "ExecuteTime": {
     "end_time": "2023-05-12T08:18:34.155439Z",
     "start_time": "2023-05-12T08:18:34.147445Z"
    }
   },
   "outputs": [
    {
     "data": {
      "text/plain": [
       "TimedeltaIndex([ '0 days',  '1 days',  '2 days',  '3 days',  '4 days',\n",
       "                 '5 days',  '6 days',  '7 days',  '8 days',  '9 days',\n",
       "                '10 days', '11 days'],\n",
       "               dtype='timedelta64[ns]', freq='D')"
      ]
     },
     "execution_count": 89,
     "metadata": {},
     "output_type": "execute_result"
    }
   ],
   "source": [
    "pd.timedelta_range(0,periods=12,freq='D')"
   ]
  },
  {
   "cell_type": "code",
   "execution_count": 97,
   "id": "ab186e47",
   "metadata": {
    "ExecuteTime": {
     "end_time": "2023-05-12T08:20:03.223780Z",
     "start_time": "2023-05-12T08:20:03.210789Z"
    }
   },
   "outputs": [
    {
     "data": {
      "text/plain": [
       "TimedeltaIndex(['0 days 00:00:00', '0 days 00:01:00', '0 days 00:02:00',\n",
       "                '0 days 00:03:00', '0 days 00:04:00', '0 days 00:05:00',\n",
       "                '0 days 00:06:00', '0 days 00:07:00', '0 days 00:08:00',\n",
       "                '0 days 00:09:00', '0 days 00:10:00', '0 days 00:11:00'],\n",
       "               dtype='timedelta64[ns]', freq='T')"
      ]
     },
     "execution_count": 97,
     "metadata": {},
     "output_type": "execute_result"
    }
   ],
   "source": [
    "pd.timedelta_range(0,periods=12,freq='T')"
   ]
  },
  {
   "cell_type": "code",
   "execution_count": 102,
   "id": "b9f28ca8",
   "metadata": {
    "ExecuteTime": {
     "end_time": "2023-05-12T08:21:15.502250Z",
     "start_time": "2023-05-12T08:21:15.491258Z"
    }
   },
   "outputs": [
    {
     "data": {
      "text/plain": [
       "TimedeltaIndex(['0 days 00:00:00', '0 days 01:30:02', '0 days 03:00:04',\n",
       "                '0 days 04:30:06', '0 days 06:00:08', '0 days 07:30:10',\n",
       "                '0 days 09:00:12', '0 days 10:30:14', '0 days 12:00:16',\n",
       "                '0 days 13:30:18', '0 days 15:00:20', '0 days 16:30:22',\n",
       "                '0 days 18:00:24', '0 days 19:30:26', '0 days 21:00:28',\n",
       "                '0 days 22:30:30', '1 days 00:00:32', '1 days 01:30:34',\n",
       "                '1 days 03:00:36', '1 days 04:30:38'],\n",
       "               dtype='timedelta64[ns]', freq='5402S')"
      ]
     },
     "execution_count": 102,
     "metadata": {},
     "output_type": "execute_result"
    }
   ],
   "source": [
    "pd.timedelta_range(0,periods=20,freq='1H30T2S')"
   ]
  },
  {
   "cell_type": "markdown",
   "id": "8992b707",
   "metadata": {},
   "source": [
    "## 쉬프트"
   ]
  },
  {
   "cell_type": "code",
   "execution_count": 106,
   "id": "488ee54f",
   "metadata": {
    "ExecuteTime": {
     "end_time": "2023-05-12T08:36:23.745574Z",
     "start_time": "2023-05-12T08:36:23.723586Z"
    }
   },
   "outputs": [
    {
     "data": {
      "text/plain": [
       "2001-05-23   -0.710366\n",
       "2001-05-24    0.344990\n",
       "2001-05-25   -0.020389\n",
       "2001-05-26    0.001376\n",
       "2001-05-27    0.693972\n",
       "2001-05-28   -0.082825\n",
       "2001-05-29    0.853386\n",
       "2001-05-30   -0.149946\n",
       "2001-05-31   -0.739257\n",
       "2001-06-01    0.594498\n",
       "Freq: D, dtype: float64"
      ]
     },
     "execution_count": 106,
     "metadata": {},
     "output_type": "execute_result"
    }
   ],
   "source": [
    "ts = pd.Series(np.random.randn(10), \n",
    "              index = pd.date_range(\"230501\",freq='D',periods=10))\n",
    "ts        "
   ]
  },
  {
   "cell_type": "code",
   "execution_count": 108,
   "id": "108906ed",
   "metadata": {
    "ExecuteTime": {
     "end_time": "2023-05-12T08:36:37.226869Z",
     "start_time": "2023-05-12T08:36:37.219872Z"
    }
   },
   "outputs": [
    {
     "data": {
      "text/plain": [
       "2001-05-23         NaN\n",
       "2001-05-24   -0.710366\n",
       "2001-05-25    0.344990\n",
       "2001-05-26   -0.020389\n",
       "2001-05-27    0.001376\n",
       "2001-05-28    0.693972\n",
       "2001-05-29   -0.082825\n",
       "2001-05-30    0.853386\n",
       "2001-05-31   -0.149946\n",
       "2001-06-01   -0.739257\n",
       "Freq: D, dtype: float64"
      ]
     },
     "execution_count": 108,
     "metadata": {},
     "output_type": "execute_result"
    }
   ],
   "source": [
    "ts.shift(1)"
   ]
  },
  {
   "cell_type": "code",
   "execution_count": 109,
   "id": "82dcee75",
   "metadata": {
    "ExecuteTime": {
     "end_time": "2023-05-12T08:36:49.945116Z",
     "start_time": "2023-05-12T08:36:49.931125Z"
    }
   },
   "outputs": [
    {
     "data": {
      "text/plain": [
       "2001-05-23    0.001376\n",
       "2001-05-24    0.693972\n",
       "2001-05-25   -0.082825\n",
       "2001-05-26    0.853386\n",
       "2001-05-27   -0.149946\n",
       "2001-05-28   -0.739257\n",
       "2001-05-29    0.594498\n",
       "2001-05-30         NaN\n",
       "2001-05-31         NaN\n",
       "2001-06-01         NaN\n",
       "Freq: D, dtype: float64"
      ]
     },
     "execution_count": 109,
     "metadata": {},
     "output_type": "execute_result"
    }
   ],
   "source": [
    "ts.shift(-3)"
   ]
  },
  {
   "cell_type": "code",
   "execution_count": 111,
   "id": "a3502124",
   "metadata": {
    "ExecuteTime": {
     "end_time": "2023-05-12T08:38:04.585833Z",
     "start_time": "2023-05-12T08:38:04.563845Z"
    }
   },
   "outputs": [
    {
     "data": {
      "text/plain": [
       "2001-05-25   -0.710366\n",
       "2001-05-26    0.344990\n",
       "2001-05-27   -0.020389\n",
       "2001-05-28    0.001376\n",
       "2001-05-29    0.693972\n",
       "2001-05-30   -0.082825\n",
       "2001-05-31    0.853386\n",
       "2001-06-01   -0.149946\n",
       "2001-06-02   -0.739257\n",
       "2001-06-03    0.594498\n",
       "Freq: D, dtype: float64"
      ]
     },
     "execution_count": 111,
     "metadata": {},
     "output_type": "execute_result"
    }
   ],
   "source": [
    "ts.shift(2,freq=\"D\")"
   ]
  },
  {
   "cell_type": "markdown",
   "id": "0cf48721",
   "metadata": {},
   "source": [
    "## 시간대 처리"
   ]
  },
  {
   "cell_type": "code",
   "execution_count": 116,
   "id": "a5e3d22f",
   "metadata": {
    "ExecuteTime": {
     "end_time": "2023-05-12T08:47:15.913787Z",
     "start_time": "2023-05-12T08:47:15.894797Z"
    }
   },
   "outputs": [
    {
     "data": {
      "text/plain": [
       "['Africa/Abidjan',\n",
       " 'Africa/Accra',\n",
       " 'Africa/Addis_Ababa',\n",
       " 'Africa/Algiers',\n",
       " 'Africa/Asmara',\n",
       " 'Africa/Bamako',\n",
       " 'Africa/Bangui',\n",
       " 'Africa/Banjul',\n",
       " 'Africa/Bissau',\n",
       " 'Africa/Blantyre',\n",
       " 'Africa/Brazzaville',\n",
       " 'Africa/Bujumbura',\n",
       " 'Africa/Cairo',\n",
       " 'Africa/Casablanca',\n",
       " 'Africa/Ceuta',\n",
       " 'Africa/Conakry',\n",
       " 'Africa/Dakar',\n",
       " 'Africa/Dar_es_Salaam',\n",
       " 'Africa/Djibouti',\n",
       " 'Africa/Douala',\n",
       " 'Africa/El_Aaiun',\n",
       " 'Africa/Freetown',\n",
       " 'Africa/Gaborone',\n",
       " 'Africa/Harare',\n",
       " 'Africa/Johannesburg',\n",
       " 'Africa/Juba',\n",
       " 'Africa/Kampala',\n",
       " 'Africa/Khartoum',\n",
       " 'Africa/Kigali',\n",
       " 'Africa/Kinshasa',\n",
       " 'Africa/Lagos',\n",
       " 'Africa/Libreville',\n",
       " 'Africa/Lome',\n",
       " 'Africa/Luanda',\n",
       " 'Africa/Lubumbashi',\n",
       " 'Africa/Lusaka',\n",
       " 'Africa/Malabo',\n",
       " 'Africa/Maputo',\n",
       " 'Africa/Maseru',\n",
       " 'Africa/Mbabane',\n",
       " 'Africa/Mogadishu',\n",
       " 'Africa/Monrovia',\n",
       " 'Africa/Nairobi',\n",
       " 'Africa/Ndjamena',\n",
       " 'Africa/Niamey',\n",
       " 'Africa/Nouakchott',\n",
       " 'Africa/Ouagadougou',\n",
       " 'Africa/Porto-Novo',\n",
       " 'Africa/Sao_Tome',\n",
       " 'Africa/Tripoli',\n",
       " 'Africa/Tunis',\n",
       " 'Africa/Windhoek',\n",
       " 'America/Adak',\n",
       " 'America/Anchorage',\n",
       " 'America/Anguilla',\n",
       " 'America/Antigua',\n",
       " 'America/Araguaina',\n",
       " 'America/Argentina/Buenos_Aires',\n",
       " 'America/Argentina/Catamarca',\n",
       " 'America/Argentina/Cordoba',\n",
       " 'America/Argentina/Jujuy',\n",
       " 'America/Argentina/La_Rioja',\n",
       " 'America/Argentina/Mendoza',\n",
       " 'America/Argentina/Rio_Gallegos',\n",
       " 'America/Argentina/Salta',\n",
       " 'America/Argentina/San_Juan',\n",
       " 'America/Argentina/San_Luis',\n",
       " 'America/Argentina/Tucuman',\n",
       " 'America/Argentina/Ushuaia',\n",
       " 'America/Aruba',\n",
       " 'America/Asuncion',\n",
       " 'America/Atikokan',\n",
       " 'America/Bahia',\n",
       " 'America/Bahia_Banderas',\n",
       " 'America/Barbados',\n",
       " 'America/Belem',\n",
       " 'America/Belize',\n",
       " 'America/Blanc-Sablon',\n",
       " 'America/Boa_Vista',\n",
       " 'America/Bogota',\n",
       " 'America/Boise',\n",
       " 'America/Cambridge_Bay',\n",
       " 'America/Campo_Grande',\n",
       " 'America/Cancun',\n",
       " 'America/Caracas',\n",
       " 'America/Cayenne',\n",
       " 'America/Cayman',\n",
       " 'America/Chicago',\n",
       " 'America/Chihuahua',\n",
       " 'America/Ciudad_Juarez',\n",
       " 'America/Costa_Rica',\n",
       " 'America/Creston',\n",
       " 'America/Cuiaba',\n",
       " 'America/Curacao',\n",
       " 'America/Danmarkshavn',\n",
       " 'America/Dawson',\n",
       " 'America/Dawson_Creek',\n",
       " 'America/Denver',\n",
       " 'America/Detroit',\n",
       " 'America/Dominica',\n",
       " 'America/Edmonton',\n",
       " 'America/Eirunepe',\n",
       " 'America/El_Salvador',\n",
       " 'America/Fort_Nelson',\n",
       " 'America/Fortaleza',\n",
       " 'America/Glace_Bay',\n",
       " 'America/Goose_Bay',\n",
       " 'America/Grand_Turk',\n",
       " 'America/Grenada',\n",
       " 'America/Guadeloupe',\n",
       " 'America/Guatemala',\n",
       " 'America/Guayaquil',\n",
       " 'America/Guyana',\n",
       " 'America/Halifax',\n",
       " 'America/Havana',\n",
       " 'America/Hermosillo',\n",
       " 'America/Indiana/Indianapolis',\n",
       " 'America/Indiana/Knox',\n",
       " 'America/Indiana/Marengo',\n",
       " 'America/Indiana/Petersburg',\n",
       " 'America/Indiana/Tell_City',\n",
       " 'America/Indiana/Vevay',\n",
       " 'America/Indiana/Vincennes',\n",
       " 'America/Indiana/Winamac',\n",
       " 'America/Inuvik',\n",
       " 'America/Iqaluit',\n",
       " 'America/Jamaica',\n",
       " 'America/Juneau',\n",
       " 'America/Kentucky/Louisville',\n",
       " 'America/Kentucky/Monticello',\n",
       " 'America/Kralendijk',\n",
       " 'America/La_Paz',\n",
       " 'America/Lima',\n",
       " 'America/Los_Angeles',\n",
       " 'America/Lower_Princes',\n",
       " 'America/Maceio',\n",
       " 'America/Managua',\n",
       " 'America/Manaus',\n",
       " 'America/Marigot',\n",
       " 'America/Martinique',\n",
       " 'America/Matamoros',\n",
       " 'America/Mazatlan',\n",
       " 'America/Menominee',\n",
       " 'America/Merida',\n",
       " 'America/Metlakatla',\n",
       " 'America/Mexico_City',\n",
       " 'America/Miquelon',\n",
       " 'America/Moncton',\n",
       " 'America/Monterrey',\n",
       " 'America/Montevideo',\n",
       " 'America/Montserrat',\n",
       " 'America/Nassau',\n",
       " 'America/New_York',\n",
       " 'America/Nome',\n",
       " 'America/Noronha',\n",
       " 'America/North_Dakota/Beulah',\n",
       " 'America/North_Dakota/Center',\n",
       " 'America/North_Dakota/New_Salem',\n",
       " 'America/Nuuk',\n",
       " 'America/Ojinaga',\n",
       " 'America/Panama',\n",
       " 'America/Paramaribo',\n",
       " 'America/Phoenix',\n",
       " 'America/Port-au-Prince',\n",
       " 'America/Port_of_Spain',\n",
       " 'America/Porto_Velho',\n",
       " 'America/Puerto_Rico',\n",
       " 'America/Punta_Arenas',\n",
       " 'America/Rankin_Inlet',\n",
       " 'America/Recife',\n",
       " 'America/Regina',\n",
       " 'America/Resolute',\n",
       " 'America/Rio_Branco',\n",
       " 'America/Santarem',\n",
       " 'America/Santiago',\n",
       " 'America/Santo_Domingo',\n",
       " 'America/Sao_Paulo',\n",
       " 'America/Scoresbysund',\n",
       " 'America/Sitka',\n",
       " 'America/St_Barthelemy',\n",
       " 'America/St_Johns',\n",
       " 'America/St_Kitts',\n",
       " 'America/St_Lucia',\n",
       " 'America/St_Thomas',\n",
       " 'America/St_Vincent',\n",
       " 'America/Swift_Current',\n",
       " 'America/Tegucigalpa',\n",
       " 'America/Thule',\n",
       " 'America/Tijuana',\n",
       " 'America/Toronto',\n",
       " 'America/Tortola',\n",
       " 'America/Vancouver',\n",
       " 'America/Whitehorse',\n",
       " 'America/Winnipeg',\n",
       " 'America/Yakutat',\n",
       " 'America/Yellowknife',\n",
       " 'Antarctica/Casey',\n",
       " 'Antarctica/Davis',\n",
       " 'Antarctica/DumontDUrville',\n",
       " 'Antarctica/Macquarie',\n",
       " 'Antarctica/Mawson',\n",
       " 'Antarctica/McMurdo',\n",
       " 'Antarctica/Palmer',\n",
       " 'Antarctica/Rothera',\n",
       " 'Antarctica/Syowa',\n",
       " 'Antarctica/Troll',\n",
       " 'Antarctica/Vostok',\n",
       " 'Arctic/Longyearbyen',\n",
       " 'Asia/Aden',\n",
       " 'Asia/Almaty',\n",
       " 'Asia/Amman',\n",
       " 'Asia/Anadyr',\n",
       " 'Asia/Aqtau',\n",
       " 'Asia/Aqtobe',\n",
       " 'Asia/Ashgabat',\n",
       " 'Asia/Atyrau',\n",
       " 'Asia/Baghdad',\n",
       " 'Asia/Bahrain',\n",
       " 'Asia/Baku',\n",
       " 'Asia/Bangkok',\n",
       " 'Asia/Barnaul',\n",
       " 'Asia/Beirut',\n",
       " 'Asia/Bishkek',\n",
       " 'Asia/Brunei',\n",
       " 'Asia/Chita',\n",
       " 'Asia/Choibalsan',\n",
       " 'Asia/Colombo',\n",
       " 'Asia/Damascus',\n",
       " 'Asia/Dhaka',\n",
       " 'Asia/Dili',\n",
       " 'Asia/Dubai',\n",
       " 'Asia/Dushanbe',\n",
       " 'Asia/Famagusta',\n",
       " 'Asia/Gaza',\n",
       " 'Asia/Hebron',\n",
       " 'Asia/Ho_Chi_Minh',\n",
       " 'Asia/Hong_Kong',\n",
       " 'Asia/Hovd',\n",
       " 'Asia/Irkutsk',\n",
       " 'Asia/Jakarta',\n",
       " 'Asia/Jayapura',\n",
       " 'Asia/Jerusalem',\n",
       " 'Asia/Kabul',\n",
       " 'Asia/Kamchatka',\n",
       " 'Asia/Karachi',\n",
       " 'Asia/Kathmandu',\n",
       " 'Asia/Khandyga',\n",
       " 'Asia/Kolkata',\n",
       " 'Asia/Krasnoyarsk',\n",
       " 'Asia/Kuala_Lumpur',\n",
       " 'Asia/Kuching',\n",
       " 'Asia/Kuwait',\n",
       " 'Asia/Macau',\n",
       " 'Asia/Magadan',\n",
       " 'Asia/Makassar',\n",
       " 'Asia/Manila',\n",
       " 'Asia/Muscat',\n",
       " 'Asia/Nicosia',\n",
       " 'Asia/Novokuznetsk',\n",
       " 'Asia/Novosibirsk',\n",
       " 'Asia/Omsk',\n",
       " 'Asia/Oral',\n",
       " 'Asia/Phnom_Penh',\n",
       " 'Asia/Pontianak',\n",
       " 'Asia/Pyongyang',\n",
       " 'Asia/Qatar',\n",
       " 'Asia/Qostanay',\n",
       " 'Asia/Qyzylorda',\n",
       " 'Asia/Riyadh',\n",
       " 'Asia/Sakhalin',\n",
       " 'Asia/Samarkand',\n",
       " 'Asia/Seoul',\n",
       " 'Asia/Shanghai',\n",
       " 'Asia/Singapore',\n",
       " 'Asia/Srednekolymsk',\n",
       " 'Asia/Taipei',\n",
       " 'Asia/Tashkent',\n",
       " 'Asia/Tbilisi',\n",
       " 'Asia/Tehran',\n",
       " 'Asia/Thimphu',\n",
       " 'Asia/Tokyo',\n",
       " 'Asia/Tomsk',\n",
       " 'Asia/Ulaanbaatar',\n",
       " 'Asia/Urumqi',\n",
       " 'Asia/Ust-Nera',\n",
       " 'Asia/Vientiane',\n",
       " 'Asia/Vladivostok',\n",
       " 'Asia/Yakutsk',\n",
       " 'Asia/Yangon',\n",
       " 'Asia/Yekaterinburg',\n",
       " 'Asia/Yerevan',\n",
       " 'Atlantic/Azores',\n",
       " 'Atlantic/Bermuda',\n",
       " 'Atlantic/Canary',\n",
       " 'Atlantic/Cape_Verde',\n",
       " 'Atlantic/Faroe',\n",
       " 'Atlantic/Madeira',\n",
       " 'Atlantic/Reykjavik',\n",
       " 'Atlantic/South_Georgia',\n",
       " 'Atlantic/St_Helena',\n",
       " 'Atlantic/Stanley',\n",
       " 'Australia/Adelaide',\n",
       " 'Australia/Brisbane',\n",
       " 'Australia/Broken_Hill',\n",
       " 'Australia/Darwin',\n",
       " 'Australia/Eucla',\n",
       " 'Australia/Hobart',\n",
       " 'Australia/Lindeman',\n",
       " 'Australia/Lord_Howe',\n",
       " 'Australia/Melbourne',\n",
       " 'Australia/Perth',\n",
       " 'Australia/Sydney',\n",
       " 'Canada/Atlantic',\n",
       " 'Canada/Central',\n",
       " 'Canada/Eastern',\n",
       " 'Canada/Mountain',\n",
       " 'Canada/Newfoundland',\n",
       " 'Canada/Pacific',\n",
       " 'Europe/Amsterdam',\n",
       " 'Europe/Andorra',\n",
       " 'Europe/Astrakhan',\n",
       " 'Europe/Athens',\n",
       " 'Europe/Belgrade',\n",
       " 'Europe/Berlin',\n",
       " 'Europe/Bratislava',\n",
       " 'Europe/Brussels',\n",
       " 'Europe/Bucharest',\n",
       " 'Europe/Budapest',\n",
       " 'Europe/Busingen',\n",
       " 'Europe/Chisinau',\n",
       " 'Europe/Copenhagen',\n",
       " 'Europe/Dublin',\n",
       " 'Europe/Gibraltar',\n",
       " 'Europe/Guernsey',\n",
       " 'Europe/Helsinki',\n",
       " 'Europe/Isle_of_Man',\n",
       " 'Europe/Istanbul',\n",
       " 'Europe/Jersey',\n",
       " 'Europe/Kaliningrad',\n",
       " 'Europe/Kirov',\n",
       " 'Europe/Kyiv',\n",
       " 'Europe/Lisbon',\n",
       " 'Europe/Ljubljana',\n",
       " 'Europe/London',\n",
       " 'Europe/Luxembourg',\n",
       " 'Europe/Madrid',\n",
       " 'Europe/Malta',\n",
       " 'Europe/Mariehamn',\n",
       " 'Europe/Minsk',\n",
       " 'Europe/Monaco',\n",
       " 'Europe/Moscow',\n",
       " 'Europe/Oslo',\n",
       " 'Europe/Paris',\n",
       " 'Europe/Podgorica',\n",
       " 'Europe/Prague',\n",
       " 'Europe/Riga',\n",
       " 'Europe/Rome',\n",
       " 'Europe/Samara',\n",
       " 'Europe/San_Marino',\n",
       " 'Europe/Sarajevo',\n",
       " 'Europe/Saratov',\n",
       " 'Europe/Simferopol',\n",
       " 'Europe/Skopje',\n",
       " 'Europe/Sofia',\n",
       " 'Europe/Stockholm',\n",
       " 'Europe/Tallinn',\n",
       " 'Europe/Tirane',\n",
       " 'Europe/Ulyanovsk',\n",
       " 'Europe/Vaduz',\n",
       " 'Europe/Vatican',\n",
       " 'Europe/Vienna',\n",
       " 'Europe/Vilnius',\n",
       " 'Europe/Volgograd',\n",
       " 'Europe/Warsaw',\n",
       " 'Europe/Zagreb',\n",
       " 'Europe/Zurich',\n",
       " 'GMT',\n",
       " 'Indian/Antananarivo',\n",
       " 'Indian/Chagos',\n",
       " 'Indian/Christmas',\n",
       " 'Indian/Cocos',\n",
       " 'Indian/Comoro',\n",
       " 'Indian/Kerguelen',\n",
       " 'Indian/Mahe',\n",
       " 'Indian/Maldives',\n",
       " 'Indian/Mauritius',\n",
       " 'Indian/Mayotte',\n",
       " 'Indian/Reunion',\n",
       " 'Pacific/Apia',\n",
       " 'Pacific/Auckland',\n",
       " 'Pacific/Bougainville',\n",
       " 'Pacific/Chatham',\n",
       " 'Pacific/Chuuk',\n",
       " 'Pacific/Easter',\n",
       " 'Pacific/Efate',\n",
       " 'Pacific/Fakaofo',\n",
       " 'Pacific/Fiji',\n",
       " 'Pacific/Funafuti',\n",
       " 'Pacific/Galapagos',\n",
       " 'Pacific/Gambier',\n",
       " 'Pacific/Guadalcanal',\n",
       " 'Pacific/Guam',\n",
       " 'Pacific/Honolulu',\n",
       " 'Pacific/Kanton',\n",
       " 'Pacific/Kiritimati',\n",
       " 'Pacific/Kosrae',\n",
       " 'Pacific/Kwajalein',\n",
       " 'Pacific/Majuro',\n",
       " 'Pacific/Marquesas',\n",
       " 'Pacific/Midway',\n",
       " 'Pacific/Nauru',\n",
       " 'Pacific/Niue',\n",
       " 'Pacific/Norfolk',\n",
       " 'Pacific/Noumea',\n",
       " 'Pacific/Pago_Pago',\n",
       " 'Pacific/Palau',\n",
       " 'Pacific/Pitcairn',\n",
       " 'Pacific/Pohnpei',\n",
       " 'Pacific/Port_Moresby',\n",
       " 'Pacific/Rarotonga',\n",
       " 'Pacific/Saipan',\n",
       " 'Pacific/Tahiti',\n",
       " 'Pacific/Tarawa',\n",
       " 'Pacific/Tongatapu',\n",
       " 'Pacific/Wake',\n",
       " 'Pacific/Wallis',\n",
       " 'US/Alaska',\n",
       " 'US/Arizona',\n",
       " 'US/Central',\n",
       " 'US/Eastern',\n",
       " 'US/Hawaii',\n",
       " 'US/Mountain',\n",
       " 'US/Pacific',\n",
       " 'UTC']"
      ]
     },
     "execution_count": 116,
     "metadata": {},
     "output_type": "execute_result"
    }
   ],
   "source": [
    "import pytz\n",
    "pytz.common_timezones"
   ]
  },
  {
   "cell_type": "code",
   "execution_count": 120,
   "id": "b736489a",
   "metadata": {
    "ExecuteTime": {
     "end_time": "2023-05-12T08:48:11.601378Z",
     "start_time": "2023-05-12T08:48:11.582390Z"
    }
   },
   "outputs": [
    {
     "data": {
      "text/plain": [
       "<DstTzInfo 'Asia/Seoul' LMT+8:28:00 STD>"
      ]
     },
     "execution_count": 120,
     "metadata": {},
     "output_type": "execute_result"
    }
   ],
   "source": [
    "tz = pytz.timezone('Asia/Seoul')\n",
    "tz"
   ]
  },
  {
   "cell_type": "code",
   "execution_count": null,
   "id": "6a3135ec",
   "metadata": {},
   "outputs": [],
   "source": []
  }
 ],
 "metadata": {
  "kernelspec": {
   "display_name": "Python 3 (ipykernel)",
   "language": "python",
   "name": "python3"
  },
  "language_info": {
   "codemirror_mode": {
    "name": "ipython",
    "version": 3
   },
   "file_extension": ".py",
   "mimetype": "text/x-python",
   "name": "python",
   "nbconvert_exporter": "python",
   "pygments_lexer": "ipython3",
   "version": "3.10.9"
  },
  "toc": {
   "base_numbering": 1,
   "nav_menu": {},
   "number_sections": true,
   "sideBar": true,
   "skip_h1_title": false,
   "title_cell": "Table of Contents",
   "title_sidebar": "Contents",
   "toc_cell": false,
   "toc_position": {
    "height": "calc(100% - 180px)",
    "left": "10px",
    "top": "150px",
    "width": "212.236px"
   },
   "toc_section_display": true,
   "toc_window_display": false
  }
 },
 "nbformat": 4,
 "nbformat_minor": 5
}
